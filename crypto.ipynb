{
 "cells": [
  {
   "cell_type": "markdown",
   "id": "42de309d-ef67-4716-a5d1-6009083b1074",
   "metadata": {},
   "source": [
    "## Kucoin Analysis"
   ]
  },
  {
   "cell_type": "code",
   "execution_count": 1,
   "id": "7b34eeb6-dd9f-43aa-83c5-0687055dd21a",
   "metadata": {},
   "outputs": [
    {
     "data": {
      "text/html": [
       "        <script type=\"text/javascript\">\n",
       "        window.PlotlyConfig = {MathJaxConfig: 'local'};\n",
       "        if (window.MathJax) {MathJax.Hub.Config({SVG: {font: \"STIX-Web\"}});}\n",
       "        if (typeof require !== 'undefined') {\n",
       "        require.undef(\"plotly\");\n",
       "        requirejs.config({\n",
       "            paths: {\n",
       "                'plotly': ['https://cdn.plot.ly/plotly-2.8.3.min']\n",
       "            }\n",
       "        });\n",
       "        require(['plotly'], function(Plotly) {\n",
       "            window._Plotly = Plotly;\n",
       "        });\n",
       "        }\n",
       "        </script>\n",
       "        "
      ]
     },
     "metadata": {},
     "output_type": "display_data"
    },
    {
     "data": {
      "text/html": [
       "        <script type=\"text/javascript\">\n",
       "        window.PlotlyConfig = {MathJaxConfig: 'local'};\n",
       "        if (window.MathJax) {MathJax.Hub.Config({SVG: {font: \"STIX-Web\"}});}\n",
       "        if (typeof require !== 'undefined') {\n",
       "        require.undef(\"plotly\");\n",
       "        requirejs.config({\n",
       "            paths: {\n",
       "                'plotly': ['https://cdn.plot.ly/plotly-2.8.3.min']\n",
       "            }\n",
       "        });\n",
       "        require(['plotly'], function(Plotly) {\n",
       "            window._Plotly = Plotly;\n",
       "        });\n",
       "        }\n",
       "        </script>\n",
       "        "
      ]
     },
     "metadata": {},
     "output_type": "display_data"
    }
   ],
   "source": [
    "%matplotlib inline\n",
    "from kucoin.client import Client\n",
    "from pprint import pprint\n",
    "from configs import *\n",
    "import pandas as pd\n",
    "import talib\n",
    "import mplfinance as mpf\n",
    "\n",
    "import cufflinks as cf\n",
    "cf.set_config_file(theme='pearl',sharing='public',offline=True)\n",
    "\n",
    "from datetime import datetime, timedelta\n",
    "time_period = 60 #days\n",
    "time_start = datetime.timestamp(datetime.now() - timedelta(days=time_period))\n",
    "#print (time_start)\n",
    "utc_offset = 8 #hours\n",
    "\n",
    "symbol = 'DOT-USDT'\n",
    "interval = '1day'\n",
    "\n",
    "client = Client(api_key, api_secret, api_passphrase)\n",
    "\n",
    "def get_klines_df(symbol,interval,time_start):\n",
    "    # get symbol klines\n",
    "    klines = client.get_kline_data(symbol,interval,start=int(time_start))\n",
    "    #pprint(klines)\n",
    "\n",
    "    #Create empty DataFrame with specific column types\n",
    "    df = pd.DataFrame({'Timestamp': pd.Series(dtype='float'),\n",
    "                    'Open': pd.Series(dtype='float'),\n",
    "                    'Close': pd.Series(dtype='float'),\n",
    "                    'High': pd.Series(dtype='float'),\n",
    "                    'Low': pd.Series(dtype='float'),\n",
    "                    'Volume': pd.Series(dtype='float'),\n",
    "                    'Amount': pd.Series(dtype='float')})\n",
    "\n",
    "    for item in klines:\n",
    "        data = {'Timestamp': float(item[0]),\n",
    "                    'Open': float(item[1]),\n",
    "                    'Close': float(item[2]),\n",
    "                    'High': float(item[3]),\n",
    "                    'Low': float(item[4]),\n",
    "                    'Volume': float(item[5]),\n",
    "                    'Amount': float(item[6])}\n",
    "        df = df.append(data, ignore_index=True)\n",
    "\n",
    "    df = df.sort_values(\"Timestamp\", ascending=True, ignore_index=True)\n",
    "\n",
    "    df['Date'] = pd.to_datetime(df['Timestamp'],unit='s')\n",
    "    #df['date'] = df['date'] + pd.DateOffset(hours=utc_offset)\n",
    "    df = df.set_index('Date')\n",
    "    df['morning_star'] = talib.CDLMORNINGSTAR(df['Open'],df['High'],df['Low'],df['Close'])\n",
    "    df['engulfing'] = talib.CDLENGULFING(df['Open'],df['High'],df['Low'],df['Close'])\n",
    "    \n",
    "    return df\n",
    "\n",
    "df = get_klines_df(symbol,interval,time_start)\n",
    "\n",
    "close = df['Close']\n",
    "rsi = talib.RSI(close, timeperiod=14)\n",
    "upperBB, middleBB, lowerBB = talib.BBANDS(close, timeperiod=20, nbdevup=2, nbdevdn=2, matype=0)\n",
    "upperBBrsi, MiddleBBrsi, lowerBBrsi = talib.BBANDS(rsi, timeperiod=50, nbdevup=2, nbdevdn=2, matype=0)\n",
    "normrsi = (rsi - lowerBBrsi) / (upperBBrsi - lowerBBrsi)\n",
    "\n",
    "df['rsi'] = rsi\n",
    "df['upperBB'] = rsi\n",
    "df['middleBB'] = rsi\n",
    "df['lowerBB'] = rsi\n",
    "df['upperBBrsi'] = rsi\n",
    "df['MiddleBBrsi'] = rsi\n",
    "df['lowerBBrsi'] = rsi\n",
    "df['normrsi'] = rsi\n",
    "\n"
   ]
  },
  {
   "cell_type": "code",
   "execution_count": 2,
   "id": "d83666c6-193a-4c8b-a23b-21d3829db8e9",
   "metadata": {},
   "outputs": [],
   "source": [
    "engulfing_days = df[df['engulfing'] != 0]\n",
    "morningstar_days = df[df['morning_star'] != 0]"
   ]
  },
  {
   "cell_type": "code",
   "execution_count": 3,
   "id": "4310e259-6ade-4baa-a6b1-69fd126d77af",
   "metadata": {},
   "outputs": [
    {
     "data": {
      "text/html": [
       "<div>\n",
       "<style scoped>\n",
       "    .dataframe tbody tr th:only-of-type {\n",
       "        vertical-align: middle;\n",
       "    }\n",
       "\n",
       "    .dataframe tbody tr th {\n",
       "        vertical-align: top;\n",
       "    }\n",
       "\n",
       "    .dataframe thead th {\n",
       "        text-align: right;\n",
       "    }\n",
       "</style>\n",
       "<table border=\"1\" class=\"dataframe\">\n",
       "  <thead>\n",
       "    <tr style=\"text-align: right;\">\n",
       "      <th></th>\n",
       "      <th>Timestamp</th>\n",
       "      <th>Open</th>\n",
       "      <th>Close</th>\n",
       "      <th>High</th>\n",
       "      <th>Low</th>\n",
       "      <th>Volume</th>\n",
       "      <th>Amount</th>\n",
       "      <th>morning_star</th>\n",
       "      <th>engulfing</th>\n",
       "      <th>rsi</th>\n",
       "      <th>upperBB</th>\n",
       "      <th>middleBB</th>\n",
       "      <th>lowerBB</th>\n",
       "      <th>upperBBrsi</th>\n",
       "      <th>MiddleBBrsi</th>\n",
       "      <th>lowerBBrsi</th>\n",
       "      <th>normrsi</th>\n",
       "    </tr>\n",
       "    <tr>\n",
       "      <th>Date</th>\n",
       "      <th></th>\n",
       "      <th></th>\n",
       "      <th></th>\n",
       "      <th></th>\n",
       "      <th></th>\n",
       "      <th></th>\n",
       "      <th></th>\n",
       "      <th></th>\n",
       "      <th></th>\n",
       "      <th></th>\n",
       "      <th></th>\n",
       "      <th></th>\n",
       "      <th></th>\n",
       "      <th></th>\n",
       "      <th></th>\n",
       "      <th></th>\n",
       "      <th></th>\n",
       "    </tr>\n",
       "  </thead>\n",
       "  <tbody>\n",
       "  </tbody>\n",
       "</table>\n",
       "</div>"
      ],
      "text/plain": [
       "Empty DataFrame\n",
       "Columns: [Timestamp, Open, Close, High, Low, Volume, Amount, morning_star, engulfing, rsi, upperBB, middleBB, lowerBB, upperBBrsi, MiddleBBrsi, lowerBBrsi, normrsi]\n",
       "Index: []"
      ]
     },
     "execution_count": 3,
     "metadata": {},
     "output_type": "execute_result"
    }
   ],
   "source": [
    "morningstar_days"
   ]
  },
  {
   "cell_type": "code",
   "execution_count": 4,
   "id": "62423238-8b35-4a60-b61b-b98c9a2c9b76",
   "metadata": {},
   "outputs": [
    {
     "data": {
      "text/html": [
       "<div>\n",
       "<style scoped>\n",
       "    .dataframe tbody tr th:only-of-type {\n",
       "        vertical-align: middle;\n",
       "    }\n",
       "\n",
       "    .dataframe tbody tr th {\n",
       "        vertical-align: top;\n",
       "    }\n",
       "\n",
       "    .dataframe thead th {\n",
       "        text-align: right;\n",
       "    }\n",
       "</style>\n",
       "<table border=\"1\" class=\"dataframe\">\n",
       "  <thead>\n",
       "    <tr style=\"text-align: right;\">\n",
       "      <th></th>\n",
       "      <th>Timestamp</th>\n",
       "      <th>Open</th>\n",
       "      <th>Close</th>\n",
       "      <th>High</th>\n",
       "      <th>Low</th>\n",
       "      <th>Volume</th>\n",
       "      <th>Amount</th>\n",
       "      <th>morning_star</th>\n",
       "      <th>engulfing</th>\n",
       "      <th>rsi</th>\n",
       "      <th>upperBB</th>\n",
       "      <th>middleBB</th>\n",
       "      <th>lowerBB</th>\n",
       "      <th>upperBBrsi</th>\n",
       "      <th>MiddleBBrsi</th>\n",
       "      <th>lowerBBrsi</th>\n",
       "      <th>normrsi</th>\n",
       "    </tr>\n",
       "    <tr>\n",
       "      <th>Date</th>\n",
       "      <th></th>\n",
       "      <th></th>\n",
       "      <th></th>\n",
       "      <th></th>\n",
       "      <th></th>\n",
       "      <th></th>\n",
       "      <th></th>\n",
       "      <th></th>\n",
       "      <th></th>\n",
       "      <th></th>\n",
       "      <th></th>\n",
       "      <th></th>\n",
       "      <th></th>\n",
       "      <th></th>\n",
       "      <th></th>\n",
       "      <th></th>\n",
       "      <th></th>\n",
       "    </tr>\n",
       "  </thead>\n",
       "  <tbody>\n",
       "    <tr>\n",
       "      <th>2021-11-21</th>\n",
       "      <td>1.637453e+09</td>\n",
       "      <td>42.0898</td>\n",
       "      <td>41.9116</td>\n",
       "      <td>43.5733</td>\n",
       "      <td>40.6563</td>\n",
       "      <td>1.041337e+06</td>\n",
       "      <td>4.354717e+07</td>\n",
       "      <td>0</td>\n",
       "      <td>0</td>\n",
       "      <td>NaN</td>\n",
       "      <td>NaN</td>\n",
       "      <td>NaN</td>\n",
       "      <td>NaN</td>\n",
       "      <td>NaN</td>\n",
       "      <td>NaN</td>\n",
       "      <td>NaN</td>\n",
       "      <td>NaN</td>\n",
       "    </tr>\n",
       "    <tr>\n",
       "      <th>2021-11-22</th>\n",
       "      <td>1.637539e+09</td>\n",
       "      <td>41.9623</td>\n",
       "      <td>39.4652</td>\n",
       "      <td>42.1692</td>\n",
       "      <td>38.8172</td>\n",
       "      <td>1.077982e+06</td>\n",
       "      <td>4.326854e+07</td>\n",
       "      <td>0</td>\n",
       "      <td>0</td>\n",
       "      <td>NaN</td>\n",
       "      <td>NaN</td>\n",
       "      <td>NaN</td>\n",
       "      <td>NaN</td>\n",
       "      <td>NaN</td>\n",
       "      <td>NaN</td>\n",
       "      <td>NaN</td>\n",
       "      <td>NaN</td>\n",
       "    </tr>\n",
       "    <tr>\n",
       "      <th>2021-11-23</th>\n",
       "      <td>1.637626e+09</td>\n",
       "      <td>39.4781</td>\n",
       "      <td>40.7699</td>\n",
       "      <td>41.4783</td>\n",
       "      <td>38.5360</td>\n",
       "      <td>1.024448e+06</td>\n",
       "      <td>4.107253e+07</td>\n",
       "      <td>0</td>\n",
       "      <td>0</td>\n",
       "      <td>NaN</td>\n",
       "      <td>NaN</td>\n",
       "      <td>NaN</td>\n",
       "      <td>NaN</td>\n",
       "      <td>NaN</td>\n",
       "      <td>NaN</td>\n",
       "      <td>NaN</td>\n",
       "      <td>NaN</td>\n",
       "    </tr>\n",
       "    <tr>\n",
       "      <th>2021-11-24</th>\n",
       "      <td>1.637712e+09</td>\n",
       "      <td>40.7553</td>\n",
       "      <td>38.2791</td>\n",
       "      <td>40.9071</td>\n",
       "      <td>38.0500</td>\n",
       "      <td>1.060348e+06</td>\n",
       "      <td>4.150689e+07</td>\n",
       "      <td>0</td>\n",
       "      <td>0</td>\n",
       "      <td>NaN</td>\n",
       "      <td>NaN</td>\n",
       "      <td>NaN</td>\n",
       "      <td>NaN</td>\n",
       "      <td>NaN</td>\n",
       "      <td>NaN</td>\n",
       "      <td>NaN</td>\n",
       "      <td>NaN</td>\n",
       "    </tr>\n",
       "    <tr>\n",
       "      <th>2021-11-25</th>\n",
       "      <td>1.637798e+09</td>\n",
       "      <td>38.2776</td>\n",
       "      <td>39.4357</td>\n",
       "      <td>40.9272</td>\n",
       "      <td>38.0439</td>\n",
       "      <td>1.103186e+06</td>\n",
       "      <td>4.358445e+07</td>\n",
       "      <td>0</td>\n",
       "      <td>0</td>\n",
       "      <td>NaN</td>\n",
       "      <td>NaN</td>\n",
       "      <td>NaN</td>\n",
       "      <td>NaN</td>\n",
       "      <td>NaN</td>\n",
       "      <td>NaN</td>\n",
       "      <td>NaN</td>\n",
       "      <td>NaN</td>\n",
       "    </tr>\n",
       "    <tr>\n",
       "      <th>2021-11-26</th>\n",
       "      <td>1.637885e+09</td>\n",
       "      <td>39.4814</td>\n",
       "      <td>34.5573</td>\n",
       "      <td>39.6256</td>\n",
       "      <td>33.1500</td>\n",
       "      <td>1.909281e+06</td>\n",
       "      <td>6.897229e+07</td>\n",
       "      <td>0</td>\n",
       "      <td>-100</td>\n",
       "      <td>NaN</td>\n",
       "      <td>NaN</td>\n",
       "      <td>NaN</td>\n",
       "      <td>NaN</td>\n",
       "      <td>NaN</td>\n",
       "      <td>NaN</td>\n",
       "      <td>NaN</td>\n",
       "      <td>NaN</td>\n",
       "    </tr>\n",
       "    <tr>\n",
       "      <th>2021-11-27</th>\n",
       "      <td>1.637971e+09</td>\n",
       "      <td>34.5546</td>\n",
       "      <td>35.1504</td>\n",
       "      <td>35.9388</td>\n",
       "      <td>34.4300</td>\n",
       "      <td>9.196939e+05</td>\n",
       "      <td>3.247190e+07</td>\n",
       "      <td>0</td>\n",
       "      <td>0</td>\n",
       "      <td>NaN</td>\n",
       "      <td>NaN</td>\n",
       "      <td>NaN</td>\n",
       "      <td>NaN</td>\n",
       "      <td>NaN</td>\n",
       "      <td>NaN</td>\n",
       "      <td>NaN</td>\n",
       "      <td>NaN</td>\n",
       "    </tr>\n",
       "    <tr>\n",
       "      <th>2021-11-28</th>\n",
       "      <td>1.638058e+09</td>\n",
       "      <td>35.1373</td>\n",
       "      <td>35.7555</td>\n",
       "      <td>35.8500</td>\n",
       "      <td>32.2036</td>\n",
       "      <td>1.149317e+06</td>\n",
       "      <td>3.890153e+07</td>\n",
       "      <td>0</td>\n",
       "      <td>0</td>\n",
       "      <td>NaN</td>\n",
       "      <td>NaN</td>\n",
       "      <td>NaN</td>\n",
       "      <td>NaN</td>\n",
       "      <td>NaN</td>\n",
       "      <td>NaN</td>\n",
       "      <td>NaN</td>\n",
       "      <td>NaN</td>\n",
       "    </tr>\n",
       "    <tr>\n",
       "      <th>2021-11-29</th>\n",
       "      <td>1.638144e+09</td>\n",
       "      <td>35.7615</td>\n",
       "      <td>37.0881</td>\n",
       "      <td>37.5266</td>\n",
       "      <td>35.3837</td>\n",
       "      <td>1.249894e+06</td>\n",
       "      <td>4.554200e+07</td>\n",
       "      <td>0</td>\n",
       "      <td>0</td>\n",
       "      <td>NaN</td>\n",
       "      <td>NaN</td>\n",
       "      <td>NaN</td>\n",
       "      <td>NaN</td>\n",
       "      <td>NaN</td>\n",
       "      <td>NaN</td>\n",
       "      <td>NaN</td>\n",
       "      <td>NaN</td>\n",
       "    </tr>\n",
       "    <tr>\n",
       "      <th>2021-11-30</th>\n",
       "      <td>1.638230e+09</td>\n",
       "      <td>37.1134</td>\n",
       "      <td>37.9324</td>\n",
       "      <td>39.3779</td>\n",
       "      <td>35.3425</td>\n",
       "      <td>1.408240e+06</td>\n",
       "      <td>5.277156e+07</td>\n",
       "      <td>0</td>\n",
       "      <td>0</td>\n",
       "      <td>NaN</td>\n",
       "      <td>NaN</td>\n",
       "      <td>NaN</td>\n",
       "      <td>NaN</td>\n",
       "      <td>NaN</td>\n",
       "      <td>NaN</td>\n",
       "      <td>NaN</td>\n",
       "      <td>NaN</td>\n",
       "    </tr>\n",
       "    <tr>\n",
       "      <th>2021-12-01</th>\n",
       "      <td>1.638317e+09</td>\n",
       "      <td>37.9768</td>\n",
       "      <td>36.7664</td>\n",
       "      <td>38.7855</td>\n",
       "      <td>36.2069</td>\n",
       "      <td>9.440288e+05</td>\n",
       "      <td>3.556809e+07</td>\n",
       "      <td>0</td>\n",
       "      <td>-100</td>\n",
       "      <td>NaN</td>\n",
       "      <td>NaN</td>\n",
       "      <td>NaN</td>\n",
       "      <td>NaN</td>\n",
       "      <td>NaN</td>\n",
       "      <td>NaN</td>\n",
       "      <td>NaN</td>\n",
       "      <td>NaN</td>\n",
       "    </tr>\n",
       "    <tr>\n",
       "      <th>2021-12-02</th>\n",
       "      <td>1.638403e+09</td>\n",
       "      <td>36.7664</td>\n",
       "      <td>35.7490</td>\n",
       "      <td>36.7952</td>\n",
       "      <td>34.9369</td>\n",
       "      <td>8.934458e+05</td>\n",
       "      <td>3.207554e+07</td>\n",
       "      <td>0</td>\n",
       "      <td>0</td>\n",
       "      <td>NaN</td>\n",
       "      <td>NaN</td>\n",
       "      <td>NaN</td>\n",
       "      <td>NaN</td>\n",
       "      <td>NaN</td>\n",
       "      <td>NaN</td>\n",
       "      <td>NaN</td>\n",
       "      <td>NaN</td>\n",
       "    </tr>\n",
       "    <tr>\n",
       "      <th>2021-12-03</th>\n",
       "      <td>1.638490e+09</td>\n",
       "      <td>35.7425</td>\n",
       "      <td>33.7318</td>\n",
       "      <td>36.8484</td>\n",
       "      <td>32.1001</td>\n",
       "      <td>1.330815e+06</td>\n",
       "      <td>4.627928e+07</td>\n",
       "      <td>0</td>\n",
       "      <td>0</td>\n",
       "      <td>NaN</td>\n",
       "      <td>NaN</td>\n",
       "      <td>NaN</td>\n",
       "      <td>NaN</td>\n",
       "      <td>NaN</td>\n",
       "      <td>NaN</td>\n",
       "      <td>NaN</td>\n",
       "      <td>NaN</td>\n",
       "    </tr>\n",
       "    <tr>\n",
       "      <th>2021-12-04</th>\n",
       "      <td>1.638576e+09</td>\n",
       "      <td>33.7028</td>\n",
       "      <td>29.4073</td>\n",
       "      <td>33.8433</td>\n",
       "      <td>16.4164</td>\n",
       "      <td>2.214664e+06</td>\n",
       "      <td>6.313046e+07</td>\n",
       "      <td>0</td>\n",
       "      <td>0</td>\n",
       "      <td>NaN</td>\n",
       "      <td>NaN</td>\n",
       "      <td>NaN</td>\n",
       "      <td>NaN</td>\n",
       "      <td>NaN</td>\n",
       "      <td>NaN</td>\n",
       "      <td>NaN</td>\n",
       "      <td>NaN</td>\n",
       "    </tr>\n",
       "    <tr>\n",
       "      <th>2021-12-05</th>\n",
       "      <td>1.638662e+09</td>\n",
       "      <td>29.3922</td>\n",
       "      <td>28.3046</td>\n",
       "      <td>29.7500</td>\n",
       "      <td>26.3317</td>\n",
       "      <td>1.164286e+06</td>\n",
       "      <td>3.273419e+07</td>\n",
       "      <td>0</td>\n",
       "      <td>0</td>\n",
       "      <td>23.087208</td>\n",
       "      <td>23.087208</td>\n",
       "      <td>23.087208</td>\n",
       "      <td>23.087208</td>\n",
       "      <td>23.087208</td>\n",
       "      <td>23.087208</td>\n",
       "      <td>23.087208</td>\n",
       "      <td>23.087208</td>\n",
       "    </tr>\n",
       "    <tr>\n",
       "      <th>2021-12-06</th>\n",
       "      <td>1.638749e+09</td>\n",
       "      <td>28.3167</td>\n",
       "      <td>28.1487</td>\n",
       "      <td>28.9500</td>\n",
       "      <td>24.8314</td>\n",
       "      <td>1.737064e+06</td>\n",
       "      <td>4.647295e+07</td>\n",
       "      <td>0</td>\n",
       "      <td>0</td>\n",
       "      <td>22.934889</td>\n",
       "      <td>22.934889</td>\n",
       "      <td>22.934889</td>\n",
       "      <td>22.934889</td>\n",
       "      <td>22.934889</td>\n",
       "      <td>22.934889</td>\n",
       "      <td>22.934889</td>\n",
       "      <td>22.934889</td>\n",
       "    </tr>\n",
       "    <tr>\n",
       "      <th>2021-12-07</th>\n",
       "      <td>1.638835e+09</td>\n",
       "      <td>28.1487</td>\n",
       "      <td>30.4948</td>\n",
       "      <td>31.4935</td>\n",
       "      <td>27.7097</td>\n",
       "      <td>1.613115e+06</td>\n",
       "      <td>4.769208e+07</td>\n",
       "      <td>0</td>\n",
       "      <td>0</td>\n",
       "      <td>30.378921</td>\n",
       "      <td>30.378921</td>\n",
       "      <td>30.378921</td>\n",
       "      <td>30.378921</td>\n",
       "      <td>30.378921</td>\n",
       "      <td>30.378921</td>\n",
       "      <td>30.378921</td>\n",
       "      <td>30.378921</td>\n",
       "    </tr>\n",
       "    <tr>\n",
       "      <th>2021-12-08</th>\n",
       "      <td>1.638922e+09</td>\n",
       "      <td>30.4828</td>\n",
       "      <td>29.8329</td>\n",
       "      <td>30.6122</td>\n",
       "      <td>27.9126</td>\n",
       "      <td>1.332399e+06</td>\n",
       "      <td>3.896701e+07</td>\n",
       "      <td>0</td>\n",
       "      <td>0</td>\n",
       "      <td>29.512775</td>\n",
       "      <td>29.512775</td>\n",
       "      <td>29.512775</td>\n",
       "      <td>29.512775</td>\n",
       "      <td>29.512775</td>\n",
       "      <td>29.512775</td>\n",
       "      <td>29.512775</td>\n",
       "      <td>29.512775</td>\n",
       "    </tr>\n",
       "    <tr>\n",
       "      <th>2021-12-09</th>\n",
       "      <td>1.639008e+09</td>\n",
       "      <td>29.8461</td>\n",
       "      <td>26.9339</td>\n",
       "      <td>30.1300</td>\n",
       "      <td>26.7915</td>\n",
       "      <td>1.272686e+06</td>\n",
       "      <td>3.585474e+07</td>\n",
       "      <td>0</td>\n",
       "      <td>0</td>\n",
       "      <td>26.014353</td>\n",
       "      <td>26.014353</td>\n",
       "      <td>26.014353</td>\n",
       "      <td>26.014353</td>\n",
       "      <td>26.014353</td>\n",
       "      <td>26.014353</td>\n",
       "      <td>26.014353</td>\n",
       "      <td>26.014353</td>\n",
       "    </tr>\n",
       "    <tr>\n",
       "      <th>2021-12-10</th>\n",
       "      <td>1.639094e+09</td>\n",
       "      <td>26.9033</td>\n",
       "      <td>26.4264</td>\n",
       "      <td>28.4222</td>\n",
       "      <td>25.6881</td>\n",
       "      <td>1.372478e+06</td>\n",
       "      <td>3.703117e+07</td>\n",
       "      <td>0</td>\n",
       "      <td>0</td>\n",
       "      <td>25.445698</td>\n",
       "      <td>25.445698</td>\n",
       "      <td>25.445698</td>\n",
       "      <td>25.445698</td>\n",
       "      <td>25.445698</td>\n",
       "      <td>25.445698</td>\n",
       "      <td>25.445698</td>\n",
       "      <td>25.445698</td>\n",
       "    </tr>\n",
       "    <tr>\n",
       "      <th>2021-12-11</th>\n",
       "      <td>1.639181e+09</td>\n",
       "      <td>26.4389</td>\n",
       "      <td>27.8125</td>\n",
       "      <td>28.2243</td>\n",
       "      <td>25.8103</td>\n",
       "      <td>1.673299e+06</td>\n",
       "      <td>4.618627e+07</td>\n",
       "      <td>0</td>\n",
       "      <td>0</td>\n",
       "      <td>29.949609</td>\n",
       "      <td>29.949609</td>\n",
       "      <td>29.949609</td>\n",
       "      <td>29.949609</td>\n",
       "      <td>29.949609</td>\n",
       "      <td>29.949609</td>\n",
       "      <td>29.949609</td>\n",
       "      <td>29.949609</td>\n",
       "    </tr>\n",
       "    <tr>\n",
       "      <th>2021-12-12</th>\n",
       "      <td>1.639267e+09</td>\n",
       "      <td>27.8113</td>\n",
       "      <td>29.5467</td>\n",
       "      <td>30.0140</td>\n",
       "      <td>27.3059</td>\n",
       "      <td>1.405045e+06</td>\n",
       "      <td>4.022152e+07</td>\n",
       "      <td>0</td>\n",
       "      <td>0</td>\n",
       "      <td>35.222295</td>\n",
       "      <td>35.222295</td>\n",
       "      <td>35.222295</td>\n",
       "      <td>35.222295</td>\n",
       "      <td>35.222295</td>\n",
       "      <td>35.222295</td>\n",
       "      <td>35.222295</td>\n",
       "      <td>35.222295</td>\n",
       "    </tr>\n",
       "    <tr>\n",
       "      <th>2021-12-13</th>\n",
       "      <td>1.639354e+09</td>\n",
       "      <td>29.5372</td>\n",
       "      <td>25.9521</td>\n",
       "      <td>29.8415</td>\n",
       "      <td>25.5250</td>\n",
       "      <td>1.830635e+06</td>\n",
       "      <td>5.064055e+07</td>\n",
       "      <td>0</td>\n",
       "      <td>0</td>\n",
       "      <td>30.155593</td>\n",
       "      <td>30.155593</td>\n",
       "      <td>30.155593</td>\n",
       "      <td>30.155593</td>\n",
       "      <td>30.155593</td>\n",
       "      <td>30.155593</td>\n",
       "      <td>30.155593</td>\n",
       "      <td>30.155593</td>\n",
       "    </tr>\n",
       "    <tr>\n",
       "      <th>2021-12-14</th>\n",
       "      <td>1.639440e+09</td>\n",
       "      <td>25.9701</td>\n",
       "      <td>26.1605</td>\n",
       "      <td>26.6989</td>\n",
       "      <td>25.0000</td>\n",
       "      <td>1.428625e+06</td>\n",
       "      <td>3.704789e+07</td>\n",
       "      <td>0</td>\n",
       "      <td>0</td>\n",
       "      <td>30.777304</td>\n",
       "      <td>30.777304</td>\n",
       "      <td>30.777304</td>\n",
       "      <td>30.777304</td>\n",
       "      <td>30.777304</td>\n",
       "      <td>30.777304</td>\n",
       "      <td>30.777304</td>\n",
       "      <td>30.777304</td>\n",
       "    </tr>\n",
       "    <tr>\n",
       "      <th>2021-12-15</th>\n",
       "      <td>1.639526e+09</td>\n",
       "      <td>26.1503</td>\n",
       "      <td>27.1315</td>\n",
       "      <td>28.0353</td>\n",
       "      <td>24.2800</td>\n",
       "      <td>1.637168e+06</td>\n",
       "      <td>4.287669e+07</td>\n",
       "      <td>0</td>\n",
       "      <td>0</td>\n",
       "      <td>33.736912</td>\n",
       "      <td>33.736912</td>\n",
       "      <td>33.736912</td>\n",
       "      <td>33.736912</td>\n",
       "      <td>33.736912</td>\n",
       "      <td>33.736912</td>\n",
       "      <td>33.736912</td>\n",
       "      <td>33.736912</td>\n",
       "    </tr>\n",
       "    <tr>\n",
       "      <th>2021-12-16</th>\n",
       "      <td>1.639613e+09</td>\n",
       "      <td>27.1385</td>\n",
       "      <td>26.0015</td>\n",
       "      <td>27.8559</td>\n",
       "      <td>25.7120</td>\n",
       "      <td>1.475549e+06</td>\n",
       "      <td>3.973808e+07</td>\n",
       "      <td>0</td>\n",
       "      <td>-100</td>\n",
       "      <td>32.021114</td>\n",
       "      <td>32.021114</td>\n",
       "      <td>32.021114</td>\n",
       "      <td>32.021114</td>\n",
       "      <td>32.021114</td>\n",
       "      <td>32.021114</td>\n",
       "      <td>32.021114</td>\n",
       "      <td>32.021114</td>\n",
       "    </tr>\n",
       "    <tr>\n",
       "      <th>2021-12-17</th>\n",
       "      <td>1.639699e+09</td>\n",
       "      <td>26.0236</td>\n",
       "      <td>24.6302</td>\n",
       "      <td>26.2103</td>\n",
       "      <td>24.1201</td>\n",
       "      <td>1.352467e+06</td>\n",
       "      <td>3.386133e+07</td>\n",
       "      <td>0</td>\n",
       "      <td>0</td>\n",
       "      <td>30.025444</td>\n",
       "      <td>30.025444</td>\n",
       "      <td>30.025444</td>\n",
       "      <td>30.025444</td>\n",
       "      <td>30.025444</td>\n",
       "      <td>30.025444</td>\n",
       "      <td>30.025444</td>\n",
       "      <td>30.025444</td>\n",
       "    </tr>\n",
       "    <tr>\n",
       "      <th>2021-12-18</th>\n",
       "      <td>1.639786e+09</td>\n",
       "      <td>24.6407</td>\n",
       "      <td>25.4800</td>\n",
       "      <td>25.7263</td>\n",
       "      <td>24.2204</td>\n",
       "      <td>8.963752e+05</td>\n",
       "      <td>2.250802e+07</td>\n",
       "      <td>0</td>\n",
       "      <td>0</td>\n",
       "      <td>32.819682</td>\n",
       "      <td>32.819682</td>\n",
       "      <td>32.819682</td>\n",
       "      <td>32.819682</td>\n",
       "      <td>32.819682</td>\n",
       "      <td>32.819682</td>\n",
       "      <td>32.819682</td>\n",
       "      <td>32.819682</td>\n",
       "    </tr>\n",
       "    <tr>\n",
       "      <th>2021-12-19</th>\n",
       "      <td>1.639872e+09</td>\n",
       "      <td>25.4920</td>\n",
       "      <td>24.7713</td>\n",
       "      <td>25.8610</td>\n",
       "      <td>24.6450</td>\n",
       "      <td>7.586670e+05</td>\n",
       "      <td>1.910630e+07</td>\n",
       "      <td>0</td>\n",
       "      <td>0</td>\n",
       "      <td>31.683402</td>\n",
       "      <td>31.683402</td>\n",
       "      <td>31.683402</td>\n",
       "      <td>31.683402</td>\n",
       "      <td>31.683402</td>\n",
       "      <td>31.683402</td>\n",
       "      <td>31.683402</td>\n",
       "      <td>31.683402</td>\n",
       "    </tr>\n",
       "    <tr>\n",
       "      <th>2021-12-20</th>\n",
       "      <td>1.639958e+09</td>\n",
       "      <td>24.7723</td>\n",
       "      <td>24.0614</td>\n",
       "      <td>25.0023</td>\n",
       "      <td>23.2722</td>\n",
       "      <td>1.094531e+06</td>\n",
       "      <td>2.633044e+07</td>\n",
       "      <td>0</td>\n",
       "      <td>0</td>\n",
       "      <td>30.542685</td>\n",
       "      <td>30.542685</td>\n",
       "      <td>30.542685</td>\n",
       "      <td>30.542685</td>\n",
       "      <td>30.542685</td>\n",
       "      <td>30.542685</td>\n",
       "      <td>30.542685</td>\n",
       "      <td>30.542685</td>\n",
       "    </tr>\n",
       "    <tr>\n",
       "      <th>2021-12-21</th>\n",
       "      <td>1.640045e+09</td>\n",
       "      <td>24.0629</td>\n",
       "      <td>25.1495</td>\n",
       "      <td>25.5897</td>\n",
       "      <td>23.7378</td>\n",
       "      <td>1.205667e+06</td>\n",
       "      <td>2.989074e+07</td>\n",
       "      <td>0</td>\n",
       "      <td>0</td>\n",
       "      <td>34.438947</td>\n",
       "      <td>34.438947</td>\n",
       "      <td>34.438947</td>\n",
       "      <td>34.438947</td>\n",
       "      <td>34.438947</td>\n",
       "      <td>34.438947</td>\n",
       "      <td>34.438947</td>\n",
       "      <td>34.438947</td>\n",
       "    </tr>\n",
       "    <tr>\n",
       "      <th>2021-12-22</th>\n",
       "      <td>1.640131e+09</td>\n",
       "      <td>25.1495</td>\n",
       "      <td>27.2226</td>\n",
       "      <td>28.2323</td>\n",
       "      <td>24.9687</td>\n",
       "      <td>1.727032e+06</td>\n",
       "      <td>4.627974e+07</td>\n",
       "      <td>0</td>\n",
       "      <td>0</td>\n",
       "      <td>41.205997</td>\n",
       "      <td>41.205997</td>\n",
       "      <td>41.205997</td>\n",
       "      <td>41.205997</td>\n",
       "      <td>41.205997</td>\n",
       "      <td>41.205997</td>\n",
       "      <td>41.205997</td>\n",
       "      <td>41.205997</td>\n",
       "    </tr>\n",
       "    <tr>\n",
       "      <th>2021-12-23</th>\n",
       "      <td>1.640218e+09</td>\n",
       "      <td>27.2320</td>\n",
       "      <td>29.1500</td>\n",
       "      <td>29.7935</td>\n",
       "      <td>26.7149</td>\n",
       "      <td>1.595815e+06</td>\n",
       "      <td>4.482965e+07</td>\n",
       "      <td>0</td>\n",
       "      <td>0</td>\n",
       "      <td>46.712950</td>\n",
       "      <td>46.712950</td>\n",
       "      <td>46.712950</td>\n",
       "      <td>46.712950</td>\n",
       "      <td>46.712950</td>\n",
       "      <td>46.712950</td>\n",
       "      <td>46.712950</td>\n",
       "      <td>46.712950</td>\n",
       "    </tr>\n",
       "    <tr>\n",
       "      <th>2021-12-24</th>\n",
       "      <td>1.640304e+09</td>\n",
       "      <td>29.1578</td>\n",
       "      <td>28.1339</td>\n",
       "      <td>29.6762</td>\n",
       "      <td>27.7853</td>\n",
       "      <td>1.146770e+06</td>\n",
       "      <td>3.318169e+07</td>\n",
       "      <td>0</td>\n",
       "      <td>0</td>\n",
       "      <td>44.354301</td>\n",
       "      <td>44.354301</td>\n",
       "      <td>44.354301</td>\n",
       "      <td>44.354301</td>\n",
       "      <td>44.354301</td>\n",
       "      <td>44.354301</td>\n",
       "      <td>44.354301</td>\n",
       "      <td>44.354301</td>\n",
       "    </tr>\n",
       "    <tr>\n",
       "      <th>2021-12-25</th>\n",
       "      <td>1.640390e+09</td>\n",
       "      <td>28.1342</td>\n",
       "      <td>28.8355</td>\n",
       "      <td>29.1133</td>\n",
       "      <td>27.9433</td>\n",
       "      <td>6.408384e+05</td>\n",
       "      <td>1.828419e+07</td>\n",
       "      <td>0</td>\n",
       "      <td>0</td>\n",
       "      <td>46.367970</td>\n",
       "      <td>46.367970</td>\n",
       "      <td>46.367970</td>\n",
       "      <td>46.367970</td>\n",
       "      <td>46.367970</td>\n",
       "      <td>46.367970</td>\n",
       "      <td>46.367970</td>\n",
       "      <td>46.367970</td>\n",
       "    </tr>\n",
       "    <tr>\n",
       "      <th>2021-12-26</th>\n",
       "      <td>1.640477e+09</td>\n",
       "      <td>28.8453</td>\n",
       "      <td>31.3183</td>\n",
       "      <td>31.7312</td>\n",
       "      <td>28.2618</td>\n",
       "      <td>1.474149e+06</td>\n",
       "      <td>4.422212e+07</td>\n",
       "      <td>0</td>\n",
       "      <td>0</td>\n",
       "      <td>52.867920</td>\n",
       "      <td>52.867920</td>\n",
       "      <td>52.867920</td>\n",
       "      <td>52.867920</td>\n",
       "      <td>52.867920</td>\n",
       "      <td>52.867920</td>\n",
       "      <td>52.867920</td>\n",
       "      <td>52.867920</td>\n",
       "    </tr>\n",
       "    <tr>\n",
       "      <th>2021-12-27</th>\n",
       "      <td>1.640563e+09</td>\n",
       "      <td>31.3359</td>\n",
       "      <td>30.9606</td>\n",
       "      <td>32.7738</td>\n",
       "      <td>30.8000</td>\n",
       "      <td>1.491888e+06</td>\n",
       "      <td>4.746494e+07</td>\n",
       "      <td>0</td>\n",
       "      <td>0</td>\n",
       "      <td>51.892145</td>\n",
       "      <td>51.892145</td>\n",
       "      <td>51.892145</td>\n",
       "      <td>51.892145</td>\n",
       "      <td>51.892145</td>\n",
       "      <td>51.892145</td>\n",
       "      <td>51.892145</td>\n",
       "      <td>51.892145</td>\n",
       "    </tr>\n",
       "    <tr>\n",
       "      <th>2021-12-28</th>\n",
       "      <td>1.640650e+09</td>\n",
       "      <td>30.9607</td>\n",
       "      <td>27.8326</td>\n",
       "      <td>30.9625</td>\n",
       "      <td>27.4407</td>\n",
       "      <td>1.970222e+06</td>\n",
       "      <td>5.729120e+07</td>\n",
       "      <td>0</td>\n",
       "      <td>0</td>\n",
       "      <td>44.208078</td>\n",
       "      <td>44.208078</td>\n",
       "      <td>44.208078</td>\n",
       "      <td>44.208078</td>\n",
       "      <td>44.208078</td>\n",
       "      <td>44.208078</td>\n",
       "      <td>44.208078</td>\n",
       "      <td>44.208078</td>\n",
       "    </tr>\n",
       "    <tr>\n",
       "      <th>2021-12-29</th>\n",
       "      <td>1.640736e+09</td>\n",
       "      <td>27.8411</td>\n",
       "      <td>26.8041</td>\n",
       "      <td>28.9590</td>\n",
       "      <td>26.4680</td>\n",
       "      <td>1.873795e+06</td>\n",
       "      <td>5.237752e+07</td>\n",
       "      <td>0</td>\n",
       "      <td>0</td>\n",
       "      <td>42.005565</td>\n",
       "      <td>42.005565</td>\n",
       "      <td>42.005565</td>\n",
       "      <td>42.005565</td>\n",
       "      <td>42.005565</td>\n",
       "      <td>42.005565</td>\n",
       "      <td>42.005565</td>\n",
       "      <td>42.005565</td>\n",
       "    </tr>\n",
       "    <tr>\n",
       "      <th>2021-12-30</th>\n",
       "      <td>1.640822e+09</td>\n",
       "      <td>26.7973</td>\n",
       "      <td>27.5303</td>\n",
       "      <td>28.4132</td>\n",
       "      <td>26.1563</td>\n",
       "      <td>1.583252e+06</td>\n",
       "      <td>4.339935e+07</td>\n",
       "      <td>0</td>\n",
       "      <td>0</td>\n",
       "      <td>44.122420</td>\n",
       "      <td>44.122420</td>\n",
       "      <td>44.122420</td>\n",
       "      <td>44.122420</td>\n",
       "      <td>44.122420</td>\n",
       "      <td>44.122420</td>\n",
       "      <td>44.122420</td>\n",
       "      <td>44.122420</td>\n",
       "    </tr>\n",
       "    <tr>\n",
       "      <th>2021-12-31</th>\n",
       "      <td>1.640909e+09</td>\n",
       "      <td>27.5309</td>\n",
       "      <td>26.6674</td>\n",
       "      <td>28.1398</td>\n",
       "      <td>26.2299</td>\n",
       "      <td>1.791025e+06</td>\n",
       "      <td>4.865049e+07</td>\n",
       "      <td>0</td>\n",
       "      <td>-100</td>\n",
       "      <td>42.153503</td>\n",
       "      <td>42.153503</td>\n",
       "      <td>42.153503</td>\n",
       "      <td>42.153503</td>\n",
       "      <td>42.153503</td>\n",
       "      <td>42.153503</td>\n",
       "      <td>42.153503</td>\n",
       "      <td>42.153503</td>\n",
       "    </tr>\n",
       "    <tr>\n",
       "      <th>2022-01-01</th>\n",
       "      <td>1.640995e+09</td>\n",
       "      <td>26.6509</td>\n",
       "      <td>28.6031</td>\n",
       "      <td>28.6525</td>\n",
       "      <td>26.6509</td>\n",
       "      <td>1.388410e+06</td>\n",
       "      <td>3.821399e+07</td>\n",
       "      <td>0</td>\n",
       "      <td>100</td>\n",
       "      <td>47.782680</td>\n",
       "      <td>47.782680</td>\n",
       "      <td>47.782680</td>\n",
       "      <td>47.782680</td>\n",
       "      <td>47.782680</td>\n",
       "      <td>47.782680</td>\n",
       "      <td>47.782680</td>\n",
       "      <td>47.782680</td>\n",
       "    </tr>\n",
       "    <tr>\n",
       "      <th>2022-01-02</th>\n",
       "      <td>1.641082e+09</td>\n",
       "      <td>28.6175</td>\n",
       "      <td>29.6935</td>\n",
       "      <td>30.6179</td>\n",
       "      <td>27.8000</td>\n",
       "      <td>1.907282e+06</td>\n",
       "      <td>5.582938e+07</td>\n",
       "      <td>0</td>\n",
       "      <td>0</td>\n",
       "      <td>50.693432</td>\n",
       "      <td>50.693432</td>\n",
       "      <td>50.693432</td>\n",
       "      <td>50.693432</td>\n",
       "      <td>50.693432</td>\n",
       "      <td>50.693432</td>\n",
       "      <td>50.693432</td>\n",
       "      <td>50.693432</td>\n",
       "    </tr>\n",
       "    <tr>\n",
       "      <th>2022-01-03</th>\n",
       "      <td>1.641168e+09</td>\n",
       "      <td>29.6864</td>\n",
       "      <td>30.1117</td>\n",
       "      <td>30.8775</td>\n",
       "      <td>28.6041</td>\n",
       "      <td>2.325362e+06</td>\n",
       "      <td>6.916755e+07</td>\n",
       "      <td>0</td>\n",
       "      <td>0</td>\n",
       "      <td>51.803099</td>\n",
       "      <td>51.803099</td>\n",
       "      <td>51.803099</td>\n",
       "      <td>51.803099</td>\n",
       "      <td>51.803099</td>\n",
       "      <td>51.803099</td>\n",
       "      <td>51.803099</td>\n",
       "      <td>51.803099</td>\n",
       "    </tr>\n",
       "    <tr>\n",
       "      <th>2022-01-04</th>\n",
       "      <td>1.641254e+09</td>\n",
       "      <td>30.1117</td>\n",
       "      <td>28.6787</td>\n",
       "      <td>30.5804</td>\n",
       "      <td>28.6569</td>\n",
       "      <td>1.896122e+06</td>\n",
       "      <td>5.636600e+07</td>\n",
       "      <td>0</td>\n",
       "      <td>0</td>\n",
       "      <td>47.830797</td>\n",
       "      <td>47.830797</td>\n",
       "      <td>47.830797</td>\n",
       "      <td>47.830797</td>\n",
       "      <td>47.830797</td>\n",
       "      <td>47.830797</td>\n",
       "      <td>47.830797</td>\n",
       "      <td>47.830797</td>\n",
       "    </tr>\n",
       "    <tr>\n",
       "      <th>2022-01-05</th>\n",
       "      <td>1.641341e+09</td>\n",
       "      <td>28.6786</td>\n",
       "      <td>26.7071</td>\n",
       "      <td>30.3724</td>\n",
       "      <td>25.0000</td>\n",
       "      <td>2.457398e+06</td>\n",
       "      <td>6.998758e+07</td>\n",
       "      <td>0</td>\n",
       "      <td>0</td>\n",
       "      <td>42.950845</td>\n",
       "      <td>42.950845</td>\n",
       "      <td>42.950845</td>\n",
       "      <td>42.950845</td>\n",
       "      <td>42.950845</td>\n",
       "      <td>42.950845</td>\n",
       "      <td>42.950845</td>\n",
       "      <td>42.950845</td>\n",
       "    </tr>\n",
       "    <tr>\n",
       "      <th>2022-01-06</th>\n",
       "      <td>1.641427e+09</td>\n",
       "      <td>26.7059</td>\n",
       "      <td>26.7076</td>\n",
       "      <td>27.4578</td>\n",
       "      <td>25.5113</td>\n",
       "      <td>2.278614e+06</td>\n",
       "      <td>6.006114e+07</td>\n",
       "      <td>0</td>\n",
       "      <td>0</td>\n",
       "      <td>42.952435</td>\n",
       "      <td>42.952435</td>\n",
       "      <td>42.952435</td>\n",
       "      <td>42.952435</td>\n",
       "      <td>42.952435</td>\n",
       "      <td>42.952435</td>\n",
       "      <td>42.952435</td>\n",
       "      <td>42.952435</td>\n",
       "    </tr>\n",
       "    <tr>\n",
       "      <th>2022-01-07</th>\n",
       "      <td>1.641514e+09</td>\n",
       "      <td>26.7073</td>\n",
       "      <td>24.8858</td>\n",
       "      <td>26.8592</td>\n",
       "      <td>24.2504</td>\n",
       "      <td>2.975278e+06</td>\n",
       "      <td>7.532550e+07</td>\n",
       "      <td>0</td>\n",
       "      <td>0</td>\n",
       "      <td>38.719191</td>\n",
       "      <td>38.719191</td>\n",
       "      <td>38.719191</td>\n",
       "      <td>38.719191</td>\n",
       "      <td>38.719191</td>\n",
       "      <td>38.719191</td>\n",
       "      <td>38.719191</td>\n",
       "      <td>38.719191</td>\n",
       "    </tr>\n",
       "    <tr>\n",
       "      <th>2022-01-08</th>\n",
       "      <td>1.641600e+09</td>\n",
       "      <td>24.8947</td>\n",
       "      <td>23.9680</td>\n",
       "      <td>25.5338</td>\n",
       "      <td>23.1336</td>\n",
       "      <td>1.938132e+06</td>\n",
       "      <td>4.751101e+07</td>\n",
       "      <td>0</td>\n",
       "      <td>0</td>\n",
       "      <td>36.753925</td>\n",
       "      <td>36.753925</td>\n",
       "      <td>36.753925</td>\n",
       "      <td>36.753925</td>\n",
       "      <td>36.753925</td>\n",
       "      <td>36.753925</td>\n",
       "      <td>36.753925</td>\n",
       "      <td>36.753925</td>\n",
       "    </tr>\n",
       "    <tr>\n",
       "      <th>2022-01-09</th>\n",
       "      <td>1.641686e+09</td>\n",
       "      <td>23.9679</td>\n",
       "      <td>24.6357</td>\n",
       "      <td>25.3198</td>\n",
       "      <td>23.6763</td>\n",
       "      <td>1.574477e+06</td>\n",
       "      <td>3.859667e+07</td>\n",
       "      <td>0</td>\n",
       "      <td>0</td>\n",
       "      <td>39.172786</td>\n",
       "      <td>39.172786</td>\n",
       "      <td>39.172786</td>\n",
       "      <td>39.172786</td>\n",
       "      <td>39.172786</td>\n",
       "      <td>39.172786</td>\n",
       "      <td>39.172786</td>\n",
       "      <td>39.172786</td>\n",
       "    </tr>\n",
       "    <tr>\n",
       "      <th>2022-01-10</th>\n",
       "      <td>1.641773e+09</td>\n",
       "      <td>24.6177</td>\n",
       "      <td>23.7278</td>\n",
       "      <td>25.2156</td>\n",
       "      <td>22.3970</td>\n",
       "      <td>2.265740e+06</td>\n",
       "      <td>5.399994e+07</td>\n",
       "      <td>0</td>\n",
       "      <td>0</td>\n",
       "      <td>37.095302</td>\n",
       "      <td>37.095302</td>\n",
       "      <td>37.095302</td>\n",
       "      <td>37.095302</td>\n",
       "      <td>37.095302</td>\n",
       "      <td>37.095302</td>\n",
       "      <td>37.095302</td>\n",
       "      <td>37.095302</td>\n",
       "    </tr>\n",
       "    <tr>\n",
       "      <th>2022-01-11</th>\n",
       "      <td>1.641859e+09</td>\n",
       "      <td>23.7264</td>\n",
       "      <td>25.5615</td>\n",
       "      <td>26.0182</td>\n",
       "      <td>23.4958</td>\n",
       "      <td>2.053796e+06</td>\n",
       "      <td>5.086599e+07</td>\n",
       "      <td>0</td>\n",
       "      <td>100</td>\n",
       "      <td>43.601076</td>\n",
       "      <td>43.601076</td>\n",
       "      <td>43.601076</td>\n",
       "      <td>43.601076</td>\n",
       "      <td>43.601076</td>\n",
       "      <td>43.601076</td>\n",
       "      <td>43.601076</td>\n",
       "      <td>43.601076</td>\n",
       "    </tr>\n",
       "    <tr>\n",
       "      <th>2022-01-12</th>\n",
       "      <td>1.641946e+09</td>\n",
       "      <td>25.5565</td>\n",
       "      <td>27.3239</td>\n",
       "      <td>27.5758</td>\n",
       "      <td>25.4516</td>\n",
       "      <td>1.860685e+06</td>\n",
       "      <td>4.953843e+07</td>\n",
       "      <td>0</td>\n",
       "      <td>0</td>\n",
       "      <td>49.054651</td>\n",
       "      <td>49.054651</td>\n",
       "      <td>49.054651</td>\n",
       "      <td>49.054651</td>\n",
       "      <td>49.054651</td>\n",
       "      <td>49.054651</td>\n",
       "      <td>49.054651</td>\n",
       "      <td>49.054651</td>\n",
       "    </tr>\n",
       "    <tr>\n",
       "      <th>2022-01-13</th>\n",
       "      <td>1.642032e+09</td>\n",
       "      <td>27.3239</td>\n",
       "      <td>25.7904</td>\n",
       "      <td>27.8000</td>\n",
       "      <td>25.7070</td>\n",
       "      <td>1.768042e+06</td>\n",
       "      <td>4.731030e+07</td>\n",
       "      <td>0</td>\n",
       "      <td>0</td>\n",
       "      <td>44.979109</td>\n",
       "      <td>44.979109</td>\n",
       "      <td>44.979109</td>\n",
       "      <td>44.979109</td>\n",
       "      <td>44.979109</td>\n",
       "      <td>44.979109</td>\n",
       "      <td>44.979109</td>\n",
       "      <td>44.979109</td>\n",
       "    </tr>\n",
       "    <tr>\n",
       "      <th>2022-01-14</th>\n",
       "      <td>1.642118e+09</td>\n",
       "      <td>25.7844</td>\n",
       "      <td>27.7464</td>\n",
       "      <td>27.8912</td>\n",
       "      <td>25.5274</td>\n",
       "      <td>1.667325e+06</td>\n",
       "      <td>4.500941e+07</td>\n",
       "      <td>0</td>\n",
       "      <td>100</td>\n",
       "      <td>50.615086</td>\n",
       "      <td>50.615086</td>\n",
       "      <td>50.615086</td>\n",
       "      <td>50.615086</td>\n",
       "      <td>50.615086</td>\n",
       "      <td>50.615086</td>\n",
       "      <td>50.615086</td>\n",
       "      <td>50.615086</td>\n",
       "    </tr>\n",
       "    <tr>\n",
       "      <th>2022-01-15</th>\n",
       "      <td>1.642205e+09</td>\n",
       "      <td>27.7464</td>\n",
       "      <td>27.5850</td>\n",
       "      <td>28.4129</td>\n",
       "      <td>26.8257</td>\n",
       "      <td>1.469282e+06</td>\n",
       "      <td>4.055383e+07</td>\n",
       "      <td>0</td>\n",
       "      <td>0</td>\n",
       "      <td>50.158518</td>\n",
       "      <td>50.158518</td>\n",
       "      <td>50.158518</td>\n",
       "      <td>50.158518</td>\n",
       "      <td>50.158518</td>\n",
       "      <td>50.158518</td>\n",
       "      <td>50.158518</td>\n",
       "      <td>50.158518</td>\n",
       "    </tr>\n",
       "    <tr>\n",
       "      <th>2022-01-16</th>\n",
       "      <td>1.642291e+09</td>\n",
       "      <td>27.5970</td>\n",
       "      <td>27.6921</td>\n",
       "      <td>28.4643</td>\n",
       "      <td>27.2739</td>\n",
       "      <td>1.334242e+06</td>\n",
       "      <td>3.726027e+07</td>\n",
       "      <td>0</td>\n",
       "      <td>0</td>\n",
       "      <td>50.477742</td>\n",
       "      <td>50.477742</td>\n",
       "      <td>50.477742</td>\n",
       "      <td>50.477742</td>\n",
       "      <td>50.477742</td>\n",
       "      <td>50.477742</td>\n",
       "      <td>50.477742</td>\n",
       "      <td>50.477742</td>\n",
       "    </tr>\n",
       "    <tr>\n",
       "      <th>2022-01-17</th>\n",
       "      <td>1.642378e+09</td>\n",
       "      <td>27.6949</td>\n",
       "      <td>25.6805</td>\n",
       "      <td>27.7575</td>\n",
       "      <td>25.1054</td>\n",
       "      <td>1.496554e+06</td>\n",
       "      <td>3.942737e+07</td>\n",
       "      <td>0</td>\n",
       "      <td>-100</td>\n",
       "      <td>44.688304</td>\n",
       "      <td>44.688304</td>\n",
       "      <td>44.688304</td>\n",
       "      <td>44.688304</td>\n",
       "      <td>44.688304</td>\n",
       "      <td>44.688304</td>\n",
       "      <td>44.688304</td>\n",
       "      <td>44.688304</td>\n",
       "    </tr>\n",
       "    <tr>\n",
       "      <th>2022-01-18</th>\n",
       "      <td>1.642464e+09</td>\n",
       "      <td>25.6923</td>\n",
       "      <td>25.1384</td>\n",
       "      <td>26.0946</td>\n",
       "      <td>24.2367</td>\n",
       "      <td>1.486542e+06</td>\n",
       "      <td>3.719415e+07</td>\n",
       "      <td>0</td>\n",
       "      <td>0</td>\n",
       "      <td>43.248735</td>\n",
       "      <td>43.248735</td>\n",
       "      <td>43.248735</td>\n",
       "      <td>43.248735</td>\n",
       "      <td>43.248735</td>\n",
       "      <td>43.248735</td>\n",
       "      <td>43.248735</td>\n",
       "      <td>43.248735</td>\n",
       "    </tr>\n",
       "    <tr>\n",
       "      <th>2022-01-19</th>\n",
       "      <td>1.642550e+09</td>\n",
       "      <td>25.1384</td>\n",
       "      <td>23.8112</td>\n",
       "      <td>25.3096</td>\n",
       "      <td>23.7665</td>\n",
       "      <td>4.752571e+05</td>\n",
       "      <td>1.170649e+07</td>\n",
       "      <td>0</td>\n",
       "      <td>0</td>\n",
       "      <td>39.863020</td>\n",
       "      <td>39.863020</td>\n",
       "      <td>39.863020</td>\n",
       "      <td>39.863020</td>\n",
       "      <td>39.863020</td>\n",
       "      <td>39.863020</td>\n",
       "      <td>39.863020</td>\n",
       "      <td>39.863020</td>\n",
       "    </tr>\n",
       "  </tbody>\n",
       "</table>\n",
       "</div>"
      ],
      "text/plain": [
       "               Timestamp     Open    Close     High      Low        Volume  \\\n",
       "Date                                                                         \n",
       "2021-11-21  1.637453e+09  42.0898  41.9116  43.5733  40.6563  1.041337e+06   \n",
       "2021-11-22  1.637539e+09  41.9623  39.4652  42.1692  38.8172  1.077982e+06   \n",
       "2021-11-23  1.637626e+09  39.4781  40.7699  41.4783  38.5360  1.024448e+06   \n",
       "2021-11-24  1.637712e+09  40.7553  38.2791  40.9071  38.0500  1.060348e+06   \n",
       "2021-11-25  1.637798e+09  38.2776  39.4357  40.9272  38.0439  1.103186e+06   \n",
       "2021-11-26  1.637885e+09  39.4814  34.5573  39.6256  33.1500  1.909281e+06   \n",
       "2021-11-27  1.637971e+09  34.5546  35.1504  35.9388  34.4300  9.196939e+05   \n",
       "2021-11-28  1.638058e+09  35.1373  35.7555  35.8500  32.2036  1.149317e+06   \n",
       "2021-11-29  1.638144e+09  35.7615  37.0881  37.5266  35.3837  1.249894e+06   \n",
       "2021-11-30  1.638230e+09  37.1134  37.9324  39.3779  35.3425  1.408240e+06   \n",
       "2021-12-01  1.638317e+09  37.9768  36.7664  38.7855  36.2069  9.440288e+05   \n",
       "2021-12-02  1.638403e+09  36.7664  35.7490  36.7952  34.9369  8.934458e+05   \n",
       "2021-12-03  1.638490e+09  35.7425  33.7318  36.8484  32.1001  1.330815e+06   \n",
       "2021-12-04  1.638576e+09  33.7028  29.4073  33.8433  16.4164  2.214664e+06   \n",
       "2021-12-05  1.638662e+09  29.3922  28.3046  29.7500  26.3317  1.164286e+06   \n",
       "2021-12-06  1.638749e+09  28.3167  28.1487  28.9500  24.8314  1.737064e+06   \n",
       "2021-12-07  1.638835e+09  28.1487  30.4948  31.4935  27.7097  1.613115e+06   \n",
       "2021-12-08  1.638922e+09  30.4828  29.8329  30.6122  27.9126  1.332399e+06   \n",
       "2021-12-09  1.639008e+09  29.8461  26.9339  30.1300  26.7915  1.272686e+06   \n",
       "2021-12-10  1.639094e+09  26.9033  26.4264  28.4222  25.6881  1.372478e+06   \n",
       "2021-12-11  1.639181e+09  26.4389  27.8125  28.2243  25.8103  1.673299e+06   \n",
       "2021-12-12  1.639267e+09  27.8113  29.5467  30.0140  27.3059  1.405045e+06   \n",
       "2021-12-13  1.639354e+09  29.5372  25.9521  29.8415  25.5250  1.830635e+06   \n",
       "2021-12-14  1.639440e+09  25.9701  26.1605  26.6989  25.0000  1.428625e+06   \n",
       "2021-12-15  1.639526e+09  26.1503  27.1315  28.0353  24.2800  1.637168e+06   \n",
       "2021-12-16  1.639613e+09  27.1385  26.0015  27.8559  25.7120  1.475549e+06   \n",
       "2021-12-17  1.639699e+09  26.0236  24.6302  26.2103  24.1201  1.352467e+06   \n",
       "2021-12-18  1.639786e+09  24.6407  25.4800  25.7263  24.2204  8.963752e+05   \n",
       "2021-12-19  1.639872e+09  25.4920  24.7713  25.8610  24.6450  7.586670e+05   \n",
       "2021-12-20  1.639958e+09  24.7723  24.0614  25.0023  23.2722  1.094531e+06   \n",
       "2021-12-21  1.640045e+09  24.0629  25.1495  25.5897  23.7378  1.205667e+06   \n",
       "2021-12-22  1.640131e+09  25.1495  27.2226  28.2323  24.9687  1.727032e+06   \n",
       "2021-12-23  1.640218e+09  27.2320  29.1500  29.7935  26.7149  1.595815e+06   \n",
       "2021-12-24  1.640304e+09  29.1578  28.1339  29.6762  27.7853  1.146770e+06   \n",
       "2021-12-25  1.640390e+09  28.1342  28.8355  29.1133  27.9433  6.408384e+05   \n",
       "2021-12-26  1.640477e+09  28.8453  31.3183  31.7312  28.2618  1.474149e+06   \n",
       "2021-12-27  1.640563e+09  31.3359  30.9606  32.7738  30.8000  1.491888e+06   \n",
       "2021-12-28  1.640650e+09  30.9607  27.8326  30.9625  27.4407  1.970222e+06   \n",
       "2021-12-29  1.640736e+09  27.8411  26.8041  28.9590  26.4680  1.873795e+06   \n",
       "2021-12-30  1.640822e+09  26.7973  27.5303  28.4132  26.1563  1.583252e+06   \n",
       "2021-12-31  1.640909e+09  27.5309  26.6674  28.1398  26.2299  1.791025e+06   \n",
       "2022-01-01  1.640995e+09  26.6509  28.6031  28.6525  26.6509  1.388410e+06   \n",
       "2022-01-02  1.641082e+09  28.6175  29.6935  30.6179  27.8000  1.907282e+06   \n",
       "2022-01-03  1.641168e+09  29.6864  30.1117  30.8775  28.6041  2.325362e+06   \n",
       "2022-01-04  1.641254e+09  30.1117  28.6787  30.5804  28.6569  1.896122e+06   \n",
       "2022-01-05  1.641341e+09  28.6786  26.7071  30.3724  25.0000  2.457398e+06   \n",
       "2022-01-06  1.641427e+09  26.7059  26.7076  27.4578  25.5113  2.278614e+06   \n",
       "2022-01-07  1.641514e+09  26.7073  24.8858  26.8592  24.2504  2.975278e+06   \n",
       "2022-01-08  1.641600e+09  24.8947  23.9680  25.5338  23.1336  1.938132e+06   \n",
       "2022-01-09  1.641686e+09  23.9679  24.6357  25.3198  23.6763  1.574477e+06   \n",
       "2022-01-10  1.641773e+09  24.6177  23.7278  25.2156  22.3970  2.265740e+06   \n",
       "2022-01-11  1.641859e+09  23.7264  25.5615  26.0182  23.4958  2.053796e+06   \n",
       "2022-01-12  1.641946e+09  25.5565  27.3239  27.5758  25.4516  1.860685e+06   \n",
       "2022-01-13  1.642032e+09  27.3239  25.7904  27.8000  25.7070  1.768042e+06   \n",
       "2022-01-14  1.642118e+09  25.7844  27.7464  27.8912  25.5274  1.667325e+06   \n",
       "2022-01-15  1.642205e+09  27.7464  27.5850  28.4129  26.8257  1.469282e+06   \n",
       "2022-01-16  1.642291e+09  27.5970  27.6921  28.4643  27.2739  1.334242e+06   \n",
       "2022-01-17  1.642378e+09  27.6949  25.6805  27.7575  25.1054  1.496554e+06   \n",
       "2022-01-18  1.642464e+09  25.6923  25.1384  26.0946  24.2367  1.486542e+06   \n",
       "2022-01-19  1.642550e+09  25.1384  23.8112  25.3096  23.7665  4.752571e+05   \n",
       "\n",
       "                  Amount  morning_star  engulfing        rsi    upperBB  \\\n",
       "Date                                                                      \n",
       "2021-11-21  4.354717e+07             0          0        NaN        NaN   \n",
       "2021-11-22  4.326854e+07             0          0        NaN        NaN   \n",
       "2021-11-23  4.107253e+07             0          0        NaN        NaN   \n",
       "2021-11-24  4.150689e+07             0          0        NaN        NaN   \n",
       "2021-11-25  4.358445e+07             0          0        NaN        NaN   \n",
       "2021-11-26  6.897229e+07             0       -100        NaN        NaN   \n",
       "2021-11-27  3.247190e+07             0          0        NaN        NaN   \n",
       "2021-11-28  3.890153e+07             0          0        NaN        NaN   \n",
       "2021-11-29  4.554200e+07             0          0        NaN        NaN   \n",
       "2021-11-30  5.277156e+07             0          0        NaN        NaN   \n",
       "2021-12-01  3.556809e+07             0       -100        NaN        NaN   \n",
       "2021-12-02  3.207554e+07             0          0        NaN        NaN   \n",
       "2021-12-03  4.627928e+07             0          0        NaN        NaN   \n",
       "2021-12-04  6.313046e+07             0          0        NaN        NaN   \n",
       "2021-12-05  3.273419e+07             0          0  23.087208  23.087208   \n",
       "2021-12-06  4.647295e+07             0          0  22.934889  22.934889   \n",
       "2021-12-07  4.769208e+07             0          0  30.378921  30.378921   \n",
       "2021-12-08  3.896701e+07             0          0  29.512775  29.512775   \n",
       "2021-12-09  3.585474e+07             0          0  26.014353  26.014353   \n",
       "2021-12-10  3.703117e+07             0          0  25.445698  25.445698   \n",
       "2021-12-11  4.618627e+07             0          0  29.949609  29.949609   \n",
       "2021-12-12  4.022152e+07             0          0  35.222295  35.222295   \n",
       "2021-12-13  5.064055e+07             0          0  30.155593  30.155593   \n",
       "2021-12-14  3.704789e+07             0          0  30.777304  30.777304   \n",
       "2021-12-15  4.287669e+07             0          0  33.736912  33.736912   \n",
       "2021-12-16  3.973808e+07             0       -100  32.021114  32.021114   \n",
       "2021-12-17  3.386133e+07             0          0  30.025444  30.025444   \n",
       "2021-12-18  2.250802e+07             0          0  32.819682  32.819682   \n",
       "2021-12-19  1.910630e+07             0          0  31.683402  31.683402   \n",
       "2021-12-20  2.633044e+07             0          0  30.542685  30.542685   \n",
       "2021-12-21  2.989074e+07             0          0  34.438947  34.438947   \n",
       "2021-12-22  4.627974e+07             0          0  41.205997  41.205997   \n",
       "2021-12-23  4.482965e+07             0          0  46.712950  46.712950   \n",
       "2021-12-24  3.318169e+07             0          0  44.354301  44.354301   \n",
       "2021-12-25  1.828419e+07             0          0  46.367970  46.367970   \n",
       "2021-12-26  4.422212e+07             0          0  52.867920  52.867920   \n",
       "2021-12-27  4.746494e+07             0          0  51.892145  51.892145   \n",
       "2021-12-28  5.729120e+07             0          0  44.208078  44.208078   \n",
       "2021-12-29  5.237752e+07             0          0  42.005565  42.005565   \n",
       "2021-12-30  4.339935e+07             0          0  44.122420  44.122420   \n",
       "2021-12-31  4.865049e+07             0       -100  42.153503  42.153503   \n",
       "2022-01-01  3.821399e+07             0        100  47.782680  47.782680   \n",
       "2022-01-02  5.582938e+07             0          0  50.693432  50.693432   \n",
       "2022-01-03  6.916755e+07             0          0  51.803099  51.803099   \n",
       "2022-01-04  5.636600e+07             0          0  47.830797  47.830797   \n",
       "2022-01-05  6.998758e+07             0          0  42.950845  42.950845   \n",
       "2022-01-06  6.006114e+07             0          0  42.952435  42.952435   \n",
       "2022-01-07  7.532550e+07             0          0  38.719191  38.719191   \n",
       "2022-01-08  4.751101e+07             0          0  36.753925  36.753925   \n",
       "2022-01-09  3.859667e+07             0          0  39.172786  39.172786   \n",
       "2022-01-10  5.399994e+07             0          0  37.095302  37.095302   \n",
       "2022-01-11  5.086599e+07             0        100  43.601076  43.601076   \n",
       "2022-01-12  4.953843e+07             0          0  49.054651  49.054651   \n",
       "2022-01-13  4.731030e+07             0          0  44.979109  44.979109   \n",
       "2022-01-14  4.500941e+07             0        100  50.615086  50.615086   \n",
       "2022-01-15  4.055383e+07             0          0  50.158518  50.158518   \n",
       "2022-01-16  3.726027e+07             0          0  50.477742  50.477742   \n",
       "2022-01-17  3.942737e+07             0       -100  44.688304  44.688304   \n",
       "2022-01-18  3.719415e+07             0          0  43.248735  43.248735   \n",
       "2022-01-19  1.170649e+07             0          0  39.863020  39.863020   \n",
       "\n",
       "             middleBB    lowerBB  upperBBrsi  MiddleBBrsi  lowerBBrsi  \\\n",
       "Date                                                                    \n",
       "2021-11-21        NaN        NaN         NaN          NaN         NaN   \n",
       "2021-11-22        NaN        NaN         NaN          NaN         NaN   \n",
       "2021-11-23        NaN        NaN         NaN          NaN         NaN   \n",
       "2021-11-24        NaN        NaN         NaN          NaN         NaN   \n",
       "2021-11-25        NaN        NaN         NaN          NaN         NaN   \n",
       "2021-11-26        NaN        NaN         NaN          NaN         NaN   \n",
       "2021-11-27        NaN        NaN         NaN          NaN         NaN   \n",
       "2021-11-28        NaN        NaN         NaN          NaN         NaN   \n",
       "2021-11-29        NaN        NaN         NaN          NaN         NaN   \n",
       "2021-11-30        NaN        NaN         NaN          NaN         NaN   \n",
       "2021-12-01        NaN        NaN         NaN          NaN         NaN   \n",
       "2021-12-02        NaN        NaN         NaN          NaN         NaN   \n",
       "2021-12-03        NaN        NaN         NaN          NaN         NaN   \n",
       "2021-12-04        NaN        NaN         NaN          NaN         NaN   \n",
       "2021-12-05  23.087208  23.087208   23.087208    23.087208   23.087208   \n",
       "2021-12-06  22.934889  22.934889   22.934889    22.934889   22.934889   \n",
       "2021-12-07  30.378921  30.378921   30.378921    30.378921   30.378921   \n",
       "2021-12-08  29.512775  29.512775   29.512775    29.512775   29.512775   \n",
       "2021-12-09  26.014353  26.014353   26.014353    26.014353   26.014353   \n",
       "2021-12-10  25.445698  25.445698   25.445698    25.445698   25.445698   \n",
       "2021-12-11  29.949609  29.949609   29.949609    29.949609   29.949609   \n",
       "2021-12-12  35.222295  35.222295   35.222295    35.222295   35.222295   \n",
       "2021-12-13  30.155593  30.155593   30.155593    30.155593   30.155593   \n",
       "2021-12-14  30.777304  30.777304   30.777304    30.777304   30.777304   \n",
       "2021-12-15  33.736912  33.736912   33.736912    33.736912   33.736912   \n",
       "2021-12-16  32.021114  32.021114   32.021114    32.021114   32.021114   \n",
       "2021-12-17  30.025444  30.025444   30.025444    30.025444   30.025444   \n",
       "2021-12-18  32.819682  32.819682   32.819682    32.819682   32.819682   \n",
       "2021-12-19  31.683402  31.683402   31.683402    31.683402   31.683402   \n",
       "2021-12-20  30.542685  30.542685   30.542685    30.542685   30.542685   \n",
       "2021-12-21  34.438947  34.438947   34.438947    34.438947   34.438947   \n",
       "2021-12-22  41.205997  41.205997   41.205997    41.205997   41.205997   \n",
       "2021-12-23  46.712950  46.712950   46.712950    46.712950   46.712950   \n",
       "2021-12-24  44.354301  44.354301   44.354301    44.354301   44.354301   \n",
       "2021-12-25  46.367970  46.367970   46.367970    46.367970   46.367970   \n",
       "2021-12-26  52.867920  52.867920   52.867920    52.867920   52.867920   \n",
       "2021-12-27  51.892145  51.892145   51.892145    51.892145   51.892145   \n",
       "2021-12-28  44.208078  44.208078   44.208078    44.208078   44.208078   \n",
       "2021-12-29  42.005565  42.005565   42.005565    42.005565   42.005565   \n",
       "2021-12-30  44.122420  44.122420   44.122420    44.122420   44.122420   \n",
       "2021-12-31  42.153503  42.153503   42.153503    42.153503   42.153503   \n",
       "2022-01-01  47.782680  47.782680   47.782680    47.782680   47.782680   \n",
       "2022-01-02  50.693432  50.693432   50.693432    50.693432   50.693432   \n",
       "2022-01-03  51.803099  51.803099   51.803099    51.803099   51.803099   \n",
       "2022-01-04  47.830797  47.830797   47.830797    47.830797   47.830797   \n",
       "2022-01-05  42.950845  42.950845   42.950845    42.950845   42.950845   \n",
       "2022-01-06  42.952435  42.952435   42.952435    42.952435   42.952435   \n",
       "2022-01-07  38.719191  38.719191   38.719191    38.719191   38.719191   \n",
       "2022-01-08  36.753925  36.753925   36.753925    36.753925   36.753925   \n",
       "2022-01-09  39.172786  39.172786   39.172786    39.172786   39.172786   \n",
       "2022-01-10  37.095302  37.095302   37.095302    37.095302   37.095302   \n",
       "2022-01-11  43.601076  43.601076   43.601076    43.601076   43.601076   \n",
       "2022-01-12  49.054651  49.054651   49.054651    49.054651   49.054651   \n",
       "2022-01-13  44.979109  44.979109   44.979109    44.979109   44.979109   \n",
       "2022-01-14  50.615086  50.615086   50.615086    50.615086   50.615086   \n",
       "2022-01-15  50.158518  50.158518   50.158518    50.158518   50.158518   \n",
       "2022-01-16  50.477742  50.477742   50.477742    50.477742   50.477742   \n",
       "2022-01-17  44.688304  44.688304   44.688304    44.688304   44.688304   \n",
       "2022-01-18  43.248735  43.248735   43.248735    43.248735   43.248735   \n",
       "2022-01-19  39.863020  39.863020   39.863020    39.863020   39.863020   \n",
       "\n",
       "              normrsi  \n",
       "Date                   \n",
       "2021-11-21        NaN  \n",
       "2021-11-22        NaN  \n",
       "2021-11-23        NaN  \n",
       "2021-11-24        NaN  \n",
       "2021-11-25        NaN  \n",
       "2021-11-26        NaN  \n",
       "2021-11-27        NaN  \n",
       "2021-11-28        NaN  \n",
       "2021-11-29        NaN  \n",
       "2021-11-30        NaN  \n",
       "2021-12-01        NaN  \n",
       "2021-12-02        NaN  \n",
       "2021-12-03        NaN  \n",
       "2021-12-04        NaN  \n",
       "2021-12-05  23.087208  \n",
       "2021-12-06  22.934889  \n",
       "2021-12-07  30.378921  \n",
       "2021-12-08  29.512775  \n",
       "2021-12-09  26.014353  \n",
       "2021-12-10  25.445698  \n",
       "2021-12-11  29.949609  \n",
       "2021-12-12  35.222295  \n",
       "2021-12-13  30.155593  \n",
       "2021-12-14  30.777304  \n",
       "2021-12-15  33.736912  \n",
       "2021-12-16  32.021114  \n",
       "2021-12-17  30.025444  \n",
       "2021-12-18  32.819682  \n",
       "2021-12-19  31.683402  \n",
       "2021-12-20  30.542685  \n",
       "2021-12-21  34.438947  \n",
       "2021-12-22  41.205997  \n",
       "2021-12-23  46.712950  \n",
       "2021-12-24  44.354301  \n",
       "2021-12-25  46.367970  \n",
       "2021-12-26  52.867920  \n",
       "2021-12-27  51.892145  \n",
       "2021-12-28  44.208078  \n",
       "2021-12-29  42.005565  \n",
       "2021-12-30  44.122420  \n",
       "2021-12-31  42.153503  \n",
       "2022-01-01  47.782680  \n",
       "2022-01-02  50.693432  \n",
       "2022-01-03  51.803099  \n",
       "2022-01-04  47.830797  \n",
       "2022-01-05  42.950845  \n",
       "2022-01-06  42.952435  \n",
       "2022-01-07  38.719191  \n",
       "2022-01-08  36.753925  \n",
       "2022-01-09  39.172786  \n",
       "2022-01-10  37.095302  \n",
       "2022-01-11  43.601076  \n",
       "2022-01-12  49.054651  \n",
       "2022-01-13  44.979109  \n",
       "2022-01-14  50.615086  \n",
       "2022-01-15  50.158518  \n",
       "2022-01-16  50.477742  \n",
       "2022-01-17  44.688304  \n",
       "2022-01-18  43.248735  \n",
       "2022-01-19  39.863020  "
      ]
     },
     "execution_count": 4,
     "metadata": {},
     "output_type": "execute_result"
    }
   ],
   "source": [
    "df"
   ]
  },
  {
   "cell_type": "code",
   "execution_count": 5,
   "id": "478b1447-77d5-4e0a-ae4b-ece1cbdd9558",
   "metadata": {},
   "outputs": [
    {
     "data": {
      "application/vnd.plotly.v1+json": {
       "config": {
        "linkText": "Export to plot.ly",
        "plotlyServerURL": "https://plot.ly",
        "showLink": true
       },
       "data": [
        {
         "close": [
          41.9116,
          39.4652,
          40.7699,
          38.2791,
          39.4357,
          34.5573,
          35.1504,
          35.7555,
          37.0881,
          37.9324,
          36.7664,
          35.749,
          33.7318,
          29.4073,
          28.3046,
          28.1487,
          30.4948,
          29.8329,
          26.9339,
          26.4264,
          27.8125,
          29.5467,
          25.9521,
          26.1605,
          27.1315,
          26.0015,
          24.6302,
          25.48,
          24.7713,
          24.0614,
          25.1495,
          27.2226,
          29.15,
          28.1339,
          28.8355,
          31.3183,
          30.9606,
          27.8326,
          26.8041,
          27.5303,
          26.6674,
          28.6031,
          29.6935,
          30.1117,
          28.6787,
          26.7071,
          26.7076,
          24.8858,
          23.968,
          24.6357,
          23.7278,
          25.5615,
          27.3239,
          25.7904,
          27.7464,
          27.585,
          27.6921,
          25.6805,
          25.1384,
          23.8112
         ],
         "high": [
          43.5733,
          42.1692,
          41.4783,
          40.9071,
          40.9272,
          39.6256,
          35.9388,
          35.85,
          37.5266,
          39.3779,
          38.7855,
          36.7952,
          36.8484,
          33.8433,
          29.75,
          28.95,
          31.4935,
          30.6122,
          30.13,
          28.4222,
          28.2243,
          30.014,
          29.8415,
          26.6989,
          28.0353,
          27.8559,
          26.2103,
          25.7263,
          25.861,
          25.0023,
          25.5897,
          28.2323,
          29.7935,
          29.6762,
          29.1133,
          31.7312,
          32.7738,
          30.9625,
          28.959,
          28.4132,
          28.1398,
          28.6525,
          30.6179,
          30.8775,
          30.5804,
          30.3724,
          27.4578,
          26.8592,
          25.5338,
          25.3198,
          25.2156,
          26.0182,
          27.5758,
          27.8,
          27.8912,
          28.4129,
          28.4643,
          27.7575,
          26.0946,
          25.3096
         ],
         "low": [
          40.6563,
          38.8172,
          38.536,
          38.05,
          38.0439,
          33.15,
          34.43,
          32.2036,
          35.3837,
          35.3425,
          36.2069,
          34.9369,
          32.1001,
          16.4164,
          26.3317,
          24.8314,
          27.7097,
          27.9126,
          26.7915,
          25.6881,
          25.8103,
          27.3059,
          25.525,
          25,
          24.28,
          25.712,
          24.1201,
          24.2204,
          24.645,
          23.2722,
          23.7378,
          24.9687,
          26.7149,
          27.7853,
          27.9433,
          28.2618,
          30.8,
          27.4407,
          26.468,
          26.1563,
          26.2299,
          26.6509,
          27.8,
          28.6041,
          28.6569,
          25,
          25.5113,
          24.2504,
          23.1336,
          23.6763,
          22.397,
          23.4958,
          25.4516,
          25.707,
          25.5274,
          26.8257,
          27.2739,
          25.1054,
          24.2367,
          23.7665
         ],
         "open": [
          42.0898,
          41.9623,
          39.4781,
          40.7553,
          38.2776,
          39.4814,
          34.5546,
          35.1373,
          35.7615,
          37.1134,
          37.9768,
          36.7664,
          35.7425,
          33.7028,
          29.3922,
          28.3167,
          28.1487,
          30.4828,
          29.8461,
          26.9033,
          26.4389,
          27.8113,
          29.5372,
          25.9701,
          26.1503,
          27.1385,
          26.0236,
          24.6407,
          25.492,
          24.7723,
          24.0629,
          25.1495,
          27.232,
          29.1578,
          28.1342,
          28.8453,
          31.3359,
          30.9607,
          27.8411,
          26.7973,
          27.5309,
          26.6509,
          28.6175,
          29.6864,
          30.1117,
          28.6786,
          26.7059,
          26.7073,
          24.8947,
          23.9679,
          24.6177,
          23.7264,
          25.5565,
          27.3239,
          25.7844,
          27.7464,
          27.597,
          27.6949,
          25.6923,
          25.1384
         ],
         "showlegend": false,
         "type": "candlestick",
         "x": [
          "2021-11-21",
          "2021-11-22",
          "2021-11-23",
          "2021-11-24",
          "2021-11-25",
          "2021-11-26",
          "2021-11-27",
          "2021-11-28",
          "2021-11-29",
          "2021-11-30",
          "2021-12-01",
          "2021-12-02",
          "2021-12-03",
          "2021-12-04",
          "2021-12-05",
          "2021-12-06",
          "2021-12-07",
          "2021-12-08",
          "2021-12-09",
          "2021-12-10",
          "2021-12-11",
          "2021-12-12",
          "2021-12-13",
          "2021-12-14",
          "2021-12-15",
          "2021-12-16",
          "2021-12-17",
          "2021-12-18",
          "2021-12-19",
          "2021-12-20",
          "2021-12-21",
          "2021-12-22",
          "2021-12-23",
          "2021-12-24",
          "2021-12-25",
          "2021-12-26",
          "2021-12-27",
          "2021-12-28",
          "2021-12-29",
          "2021-12-30",
          "2021-12-31",
          "2022-01-01",
          "2022-01-02",
          "2022-01-03",
          "2022-01-04",
          "2022-01-05",
          "2022-01-06",
          "2022-01-07",
          "2022-01-08",
          "2022-01-09",
          "2022-01-10",
          "2022-01-11",
          "2022-01-12",
          "2022-01-13",
          "2022-01-14",
          "2022-01-15",
          "2022-01-16",
          "2022-01-17",
          "2022-01-18",
          "2022-01-19"
         ],
         "yaxis": "y2"
        }
       ],
       "layout": {
        "autosize": true,
        "legend": {
         "bgcolor": "#F5F6F9",
         "font": {
          "color": "#4D5663"
         }
        },
        "paper_bgcolor": "#F5F6F9",
        "plot_bgcolor": "#F5F6F9",
        "template": {
         "data": {
          "bar": [
           {
            "error_x": {
             "color": "#2a3f5f"
            },
            "error_y": {
             "color": "#2a3f5f"
            },
            "marker": {
             "line": {
              "color": "#E5ECF6",
              "width": 0.5
             },
             "pattern": {
              "fillmode": "overlay",
              "size": 10,
              "solidity": 0.2
             }
            },
            "type": "bar"
           }
          ],
          "barpolar": [
           {
            "marker": {
             "line": {
              "color": "#E5ECF6",
              "width": 0.5
             },
             "pattern": {
              "fillmode": "overlay",
              "size": 10,
              "solidity": 0.2
             }
            },
            "type": "barpolar"
           }
          ],
          "carpet": [
           {
            "aaxis": {
             "endlinecolor": "#2a3f5f",
             "gridcolor": "white",
             "linecolor": "white",
             "minorgridcolor": "white",
             "startlinecolor": "#2a3f5f"
            },
            "baxis": {
             "endlinecolor": "#2a3f5f",
             "gridcolor": "white",
             "linecolor": "white",
             "minorgridcolor": "white",
             "startlinecolor": "#2a3f5f"
            },
            "type": "carpet"
           }
          ],
          "choropleth": [
           {
            "colorbar": {
             "outlinewidth": 0,
             "ticks": ""
            },
            "type": "choropleth"
           }
          ],
          "contour": [
           {
            "colorbar": {
             "outlinewidth": 0,
             "ticks": ""
            },
            "colorscale": [
             [
              0,
              "#0d0887"
             ],
             [
              0.1111111111111111,
              "#46039f"
             ],
             [
              0.2222222222222222,
              "#7201a8"
             ],
             [
              0.3333333333333333,
              "#9c179e"
             ],
             [
              0.4444444444444444,
              "#bd3786"
             ],
             [
              0.5555555555555556,
              "#d8576b"
             ],
             [
              0.6666666666666666,
              "#ed7953"
             ],
             [
              0.7777777777777778,
              "#fb9f3a"
             ],
             [
              0.8888888888888888,
              "#fdca26"
             ],
             [
              1,
              "#f0f921"
             ]
            ],
            "type": "contour"
           }
          ],
          "contourcarpet": [
           {
            "colorbar": {
             "outlinewidth": 0,
             "ticks": ""
            },
            "type": "contourcarpet"
           }
          ],
          "heatmap": [
           {
            "colorbar": {
             "outlinewidth": 0,
             "ticks": ""
            },
            "colorscale": [
             [
              0,
              "#0d0887"
             ],
             [
              0.1111111111111111,
              "#46039f"
             ],
             [
              0.2222222222222222,
              "#7201a8"
             ],
             [
              0.3333333333333333,
              "#9c179e"
             ],
             [
              0.4444444444444444,
              "#bd3786"
             ],
             [
              0.5555555555555556,
              "#d8576b"
             ],
             [
              0.6666666666666666,
              "#ed7953"
             ],
             [
              0.7777777777777778,
              "#fb9f3a"
             ],
             [
              0.8888888888888888,
              "#fdca26"
             ],
             [
              1,
              "#f0f921"
             ]
            ],
            "type": "heatmap"
           }
          ],
          "heatmapgl": [
           {
            "colorbar": {
             "outlinewidth": 0,
             "ticks": ""
            },
            "colorscale": [
             [
              0,
              "#0d0887"
             ],
             [
              0.1111111111111111,
              "#46039f"
             ],
             [
              0.2222222222222222,
              "#7201a8"
             ],
             [
              0.3333333333333333,
              "#9c179e"
             ],
             [
              0.4444444444444444,
              "#bd3786"
             ],
             [
              0.5555555555555556,
              "#d8576b"
             ],
             [
              0.6666666666666666,
              "#ed7953"
             ],
             [
              0.7777777777777778,
              "#fb9f3a"
             ],
             [
              0.8888888888888888,
              "#fdca26"
             ],
             [
              1,
              "#f0f921"
             ]
            ],
            "type": "heatmapgl"
           }
          ],
          "histogram": [
           {
            "marker": {
             "pattern": {
              "fillmode": "overlay",
              "size": 10,
              "solidity": 0.2
             }
            },
            "type": "histogram"
           }
          ],
          "histogram2d": [
           {
            "colorbar": {
             "outlinewidth": 0,
             "ticks": ""
            },
            "colorscale": [
             [
              0,
              "#0d0887"
             ],
             [
              0.1111111111111111,
              "#46039f"
             ],
             [
              0.2222222222222222,
              "#7201a8"
             ],
             [
              0.3333333333333333,
              "#9c179e"
             ],
             [
              0.4444444444444444,
              "#bd3786"
             ],
             [
              0.5555555555555556,
              "#d8576b"
             ],
             [
              0.6666666666666666,
              "#ed7953"
             ],
             [
              0.7777777777777778,
              "#fb9f3a"
             ],
             [
              0.8888888888888888,
              "#fdca26"
             ],
             [
              1,
              "#f0f921"
             ]
            ],
            "type": "histogram2d"
           }
          ],
          "histogram2dcontour": [
           {
            "colorbar": {
             "outlinewidth": 0,
             "ticks": ""
            },
            "colorscale": [
             [
              0,
              "#0d0887"
             ],
             [
              0.1111111111111111,
              "#46039f"
             ],
             [
              0.2222222222222222,
              "#7201a8"
             ],
             [
              0.3333333333333333,
              "#9c179e"
             ],
             [
              0.4444444444444444,
              "#bd3786"
             ],
             [
              0.5555555555555556,
              "#d8576b"
             ],
             [
              0.6666666666666666,
              "#ed7953"
             ],
             [
              0.7777777777777778,
              "#fb9f3a"
             ],
             [
              0.8888888888888888,
              "#fdca26"
             ],
             [
              1,
              "#f0f921"
             ]
            ],
            "type": "histogram2dcontour"
           }
          ],
          "mesh3d": [
           {
            "colorbar": {
             "outlinewidth": 0,
             "ticks": ""
            },
            "type": "mesh3d"
           }
          ],
          "parcoords": [
           {
            "line": {
             "colorbar": {
              "outlinewidth": 0,
              "ticks": ""
             }
            },
            "type": "parcoords"
           }
          ],
          "pie": [
           {
            "automargin": true,
            "type": "pie"
           }
          ],
          "scatter": [
           {
            "marker": {
             "colorbar": {
              "outlinewidth": 0,
              "ticks": ""
             }
            },
            "type": "scatter"
           }
          ],
          "scatter3d": [
           {
            "line": {
             "colorbar": {
              "outlinewidth": 0,
              "ticks": ""
             }
            },
            "marker": {
             "colorbar": {
              "outlinewidth": 0,
              "ticks": ""
             }
            },
            "type": "scatter3d"
           }
          ],
          "scattercarpet": [
           {
            "marker": {
             "colorbar": {
              "outlinewidth": 0,
              "ticks": ""
             }
            },
            "type": "scattercarpet"
           }
          ],
          "scattergeo": [
           {
            "marker": {
             "colorbar": {
              "outlinewidth": 0,
              "ticks": ""
             }
            },
            "type": "scattergeo"
           }
          ],
          "scattergl": [
           {
            "marker": {
             "colorbar": {
              "outlinewidth": 0,
              "ticks": ""
             }
            },
            "type": "scattergl"
           }
          ],
          "scattermapbox": [
           {
            "marker": {
             "colorbar": {
              "outlinewidth": 0,
              "ticks": ""
             }
            },
            "type": "scattermapbox"
           }
          ],
          "scatterpolar": [
           {
            "marker": {
             "colorbar": {
              "outlinewidth": 0,
              "ticks": ""
             }
            },
            "type": "scatterpolar"
           }
          ],
          "scatterpolargl": [
           {
            "marker": {
             "colorbar": {
              "outlinewidth": 0,
              "ticks": ""
             }
            },
            "type": "scatterpolargl"
           }
          ],
          "scatterternary": [
           {
            "marker": {
             "colorbar": {
              "outlinewidth": 0,
              "ticks": ""
             }
            },
            "type": "scatterternary"
           }
          ],
          "surface": [
           {
            "colorbar": {
             "outlinewidth": 0,
             "ticks": ""
            },
            "colorscale": [
             [
              0,
              "#0d0887"
             ],
             [
              0.1111111111111111,
              "#46039f"
             ],
             [
              0.2222222222222222,
              "#7201a8"
             ],
             [
              0.3333333333333333,
              "#9c179e"
             ],
             [
              0.4444444444444444,
              "#bd3786"
             ],
             [
              0.5555555555555556,
              "#d8576b"
             ],
             [
              0.6666666666666666,
              "#ed7953"
             ],
             [
              0.7777777777777778,
              "#fb9f3a"
             ],
             [
              0.8888888888888888,
              "#fdca26"
             ],
             [
              1,
              "#f0f921"
             ]
            ],
            "type": "surface"
           }
          ],
          "table": [
           {
            "cells": {
             "fill": {
              "color": "#EBF0F8"
             },
             "line": {
              "color": "white"
             }
            },
            "header": {
             "fill": {
              "color": "#C8D4E3"
             },
             "line": {
              "color": "white"
             }
            },
            "type": "table"
           }
          ]
         },
         "layout": {
          "annotationdefaults": {
           "arrowcolor": "#2a3f5f",
           "arrowhead": 0,
           "arrowwidth": 1
          },
          "autotypenumbers": "strict",
          "coloraxis": {
           "colorbar": {
            "outlinewidth": 0,
            "ticks": ""
           }
          },
          "colorscale": {
           "diverging": [
            [
             0,
             "#8e0152"
            ],
            [
             0.1,
             "#c51b7d"
            ],
            [
             0.2,
             "#de77ae"
            ],
            [
             0.3,
             "#f1b6da"
            ],
            [
             0.4,
             "#fde0ef"
            ],
            [
             0.5,
             "#f7f7f7"
            ],
            [
             0.6,
             "#e6f5d0"
            ],
            [
             0.7,
             "#b8e186"
            ],
            [
             0.8,
             "#7fbc41"
            ],
            [
             0.9,
             "#4d9221"
            ],
            [
             1,
             "#276419"
            ]
           ],
           "sequential": [
            [
             0,
             "#0d0887"
            ],
            [
             0.1111111111111111,
             "#46039f"
            ],
            [
             0.2222222222222222,
             "#7201a8"
            ],
            [
             0.3333333333333333,
             "#9c179e"
            ],
            [
             0.4444444444444444,
             "#bd3786"
            ],
            [
             0.5555555555555556,
             "#d8576b"
            ],
            [
             0.6666666666666666,
             "#ed7953"
            ],
            [
             0.7777777777777778,
             "#fb9f3a"
            ],
            [
             0.8888888888888888,
             "#fdca26"
            ],
            [
             1,
             "#f0f921"
            ]
           ],
           "sequentialminus": [
            [
             0,
             "#0d0887"
            ],
            [
             0.1111111111111111,
             "#46039f"
            ],
            [
             0.2222222222222222,
             "#7201a8"
            ],
            [
             0.3333333333333333,
             "#9c179e"
            ],
            [
             0.4444444444444444,
             "#bd3786"
            ],
            [
             0.5555555555555556,
             "#d8576b"
            ],
            [
             0.6666666666666666,
             "#ed7953"
            ],
            [
             0.7777777777777778,
             "#fb9f3a"
            ],
            [
             0.8888888888888888,
             "#fdca26"
            ],
            [
             1,
             "#f0f921"
            ]
           ]
          },
          "colorway": [
           "#636efa",
           "#EF553B",
           "#00cc96",
           "#ab63fa",
           "#FFA15A",
           "#19d3f3",
           "#FF6692",
           "#B6E880",
           "#FF97FF",
           "#FECB52"
          ],
          "font": {
           "color": "#2a3f5f"
          },
          "geo": {
           "bgcolor": "white",
           "lakecolor": "white",
           "landcolor": "#E5ECF6",
           "showlakes": true,
           "showland": true,
           "subunitcolor": "white"
          },
          "hoverlabel": {
           "align": "left"
          },
          "hovermode": "closest",
          "mapbox": {
           "style": "light"
          },
          "paper_bgcolor": "white",
          "plot_bgcolor": "#E5ECF6",
          "polar": {
           "angularaxis": {
            "gridcolor": "white",
            "linecolor": "white",
            "ticks": ""
           },
           "bgcolor": "#E5ECF6",
           "radialaxis": {
            "gridcolor": "white",
            "linecolor": "white",
            "ticks": ""
           }
          },
          "scene": {
           "xaxis": {
            "backgroundcolor": "#E5ECF6",
            "gridcolor": "white",
            "gridwidth": 2,
            "linecolor": "white",
            "showbackground": true,
            "ticks": "",
            "zerolinecolor": "white"
           },
           "yaxis": {
            "backgroundcolor": "#E5ECF6",
            "gridcolor": "white",
            "gridwidth": 2,
            "linecolor": "white",
            "showbackground": true,
            "ticks": "",
            "zerolinecolor": "white"
           },
           "zaxis": {
            "backgroundcolor": "#E5ECF6",
            "gridcolor": "white",
            "gridwidth": 2,
            "linecolor": "white",
            "showbackground": true,
            "ticks": "",
            "zerolinecolor": "white"
           }
          },
          "shapedefaults": {
           "line": {
            "color": "#2a3f5f"
           }
          },
          "ternary": {
           "aaxis": {
            "gridcolor": "white",
            "linecolor": "white",
            "ticks": ""
           },
           "baxis": {
            "gridcolor": "white",
            "linecolor": "white",
            "ticks": ""
           },
           "bgcolor": "#E5ECF6",
           "caxis": {
            "gridcolor": "white",
            "linecolor": "white",
            "ticks": ""
           }
          },
          "title": {
           "x": 0.05
          },
          "xaxis": {
           "automargin": true,
           "gridcolor": "white",
           "linecolor": "white",
           "ticks": "",
           "title": {
            "standoff": 15
           },
           "zerolinecolor": "white",
           "zerolinewidth": 2
          },
          "yaxis": {
           "automargin": true,
           "gridcolor": "white",
           "linecolor": "white",
           "ticks": "",
           "title": {
            "standoff": 15
           },
           "zerolinecolor": "white",
           "zerolinewidth": 2
          }
         }
        },
        "title": {
         "font": {
          "color": "#4D5663"
         }
        },
        "xaxis": {
         "autorange": true,
         "gridcolor": "#E1E5ED",
         "range": [
          "2021-11-20 12:00",
          "2022-01-19 12:00"
         ],
         "rangeslider": {
          "autorange": true,
          "range": [
           "2021-11-20 12:00",
           "2022-01-19 12:00"
          ],
          "visible": true,
          "yaxis2": {
           "_template": null,
           "rangemode": "match"
          }
         },
         "showgrid": true,
         "tickfont": {
          "color": "#4D5663"
         },
         "title": {
          "font": {
           "color": "#4D5663"
          },
          "text": ""
         },
         "type": "date",
         "zerolinecolor": "#E1E5ED"
        },
        "yaxis": {
         "gridcolor": "#E1E5ED",
         "showgrid": true,
         "showticklabels": false,
         "tickfont": {
          "color": "#4D5663"
         },
         "title": {
          "font": {
           "color": "#4D5663"
          },
          "text": ""
         },
         "zerolinecolor": "#E1E5ED"
        },
        "yaxis2": {
         "autorange": true,
         "gridcolor": "#E1E5ED",
         "range": [
          14.907683333333333,
          45.08201666666667
         ],
         "showgrid": true,
         "tickfont": {
          "color": "#4D5663"
         },
         "title": {
          "font": {
           "color": "#4D5663"
          },
          "text": ""
         },
         "zerolinecolor": "#E1E5ED"
        }
       }
      },
      "image/png": "[encoded data removed]",
      "text/html": [
       "<div>                            <div id=\"5c248df4-1c0c-4bb5-99a3-58726817519c\" class=\"plotly-graph-div\" style=\"height:525px; width:100%;\"></div>            <script type=\"text/javascript\">                require([\"plotly\"], function(Plotly) {                    window.PLOTLYENV=window.PLOTLYENV || {};\n",
       "                    window.PLOTLYENV.BASE_URL='https://plot.ly';                                    if (document.getElementById(\"5c248df4-1c0c-4bb5-99a3-58726817519c\")) {                    Plotly.newPlot(                        \"5c248df4-1c0c-4bb5-99a3-58726817519c\",                        [{\"close\":[41.9116,39.4652,40.7699,38.2791,39.4357,34.5573,35.1504,35.7555,37.0881,37.9324,36.7664,35.749,33.7318,29.4073,28.3046,28.1487,30.4948,29.8329,26.9339,26.4264,27.8125,29.5467,25.9521,26.1605,27.1315,26.0015,24.6302,25.48,24.7713,24.0614,25.1495,27.2226,29.15,28.1339,28.8355,31.3183,30.9606,27.8326,26.8041,27.5303,26.6674,28.6031,29.6935,30.1117,28.6787,26.7071,26.7076,24.8858,23.968,24.6357,23.7278,25.5615,27.3239,25.7904,27.7464,27.585,27.6921,25.6805,25.1384,23.8112],\"high\":[43.5733,42.1692,41.4783,40.9071,40.9272,39.6256,35.9388,35.85,37.5266,39.3779,38.7855,36.7952,36.8484,33.8433,29.75,28.95,31.4935,30.6122,30.13,28.4222,28.2243,30.014,29.8415,26.6989,28.0353,27.8559,26.2103,25.7263,25.861,25.0023,25.5897,28.2323,29.7935,29.6762,29.1133,31.7312,32.7738,30.9625,28.959,28.4132,28.1398,28.6525,30.6179,30.8775,30.5804,30.3724,27.4578,26.8592,25.5338,25.3198,25.2156,26.0182,27.5758,27.8,27.8912,28.4129,28.4643,27.7575,26.0946,25.3096],\"low\":[40.6563,38.8172,38.536,38.05,38.0439,33.15,34.43,32.2036,35.3837,35.3425,36.2069,34.9369,32.1001,16.4164,26.3317,24.8314,27.7097,27.9126,26.7915,25.6881,25.8103,27.3059,25.525,25.0,24.28,25.712,24.1201,24.2204,24.645,23.2722,23.7378,24.9687,26.7149,27.7853,27.9433,28.2618,30.8,27.4407,26.468,26.1563,26.2299,26.6509,27.8,28.6041,28.6569,25.0,25.5113,24.2504,23.1336,23.6763,22.397,23.4958,25.4516,25.707,25.5274,26.8257,27.2739,25.1054,24.2367,23.7665],\"open\":[42.0898,41.9623,39.4781,40.7553,38.2776,39.4814,34.5546,35.1373,35.7615,37.1134,37.9768,36.7664,35.7425,33.7028,29.3922,28.3167,28.1487,30.4828,29.8461,26.9033,26.4389,27.8113,29.5372,25.9701,26.1503,27.1385,26.0236,24.6407,25.492,24.7723,24.0629,25.1495,27.232,29.1578,28.1342,28.8453,31.3359,30.9607,27.8411,26.7973,27.5309,26.6509,28.6175,29.6864,30.1117,28.6786,26.7059,26.7073,24.8947,23.9679,24.6177,23.7264,25.5565,27.3239,25.7844,27.7464,27.597,27.6949,25.6923,25.1384],\"showlegend\":false,\"x\":[\"2021-11-21\",\"2021-11-22\",\"2021-11-23\",\"2021-11-24\",\"2021-11-25\",\"2021-11-26\",\"2021-11-27\",\"2021-11-28\",\"2021-11-29\",\"2021-11-30\",\"2021-12-01\",\"2021-12-02\",\"2021-12-03\",\"2021-12-04\",\"2021-12-05\",\"2021-12-06\",\"2021-12-07\",\"2021-12-08\",\"2021-12-09\",\"2021-12-10\",\"2021-12-11\",\"2021-12-12\",\"2021-12-13\",\"2021-12-14\",\"2021-12-15\",\"2021-12-16\",\"2021-12-17\",\"2021-12-18\",\"2021-12-19\",\"2021-12-20\",\"2021-12-21\",\"2021-12-22\",\"2021-12-23\",\"2021-12-24\",\"2021-12-25\",\"2021-12-26\",\"2021-12-27\",\"2021-12-28\",\"2021-12-29\",\"2021-12-30\",\"2021-12-31\",\"2022-01-01\",\"2022-01-02\",\"2022-01-03\",\"2022-01-04\",\"2022-01-05\",\"2022-01-06\",\"2022-01-07\",\"2022-01-08\",\"2022-01-09\",\"2022-01-10\",\"2022-01-11\",\"2022-01-12\",\"2022-01-13\",\"2022-01-14\",\"2022-01-15\",\"2022-01-16\",\"2022-01-17\",\"2022-01-18\",\"2022-01-19\"],\"yaxis\":\"y2\",\"type\":\"candlestick\"}],                        {\"legend\":{\"bgcolor\":\"#F5F6F9\",\"font\":{\"color\":\"#4D5663\"}},\"paper_bgcolor\":\"#F5F6F9\",\"plot_bgcolor\":\"#F5F6F9\",\"template\":{\"data\":{\"barpolar\":[{\"marker\":{\"line\":{\"color\":\"#E5ECF6\",\"width\":0.5},\"pattern\":{\"fillmode\":\"overlay\",\"size\":10,\"solidity\":0.2}},\"type\":\"barpolar\"}],\"bar\":[{\"error_x\":{\"color\":\"#2a3f5f\"},\"error_y\":{\"color\":\"#2a3f5f\"},\"marker\":{\"line\":{\"color\":\"#E5ECF6\",\"width\":0.5},\"pattern\":{\"fillmode\":\"overlay\",\"size\":10,\"solidity\":0.2}},\"type\":\"bar\"}],\"carpet\":[{\"aaxis\":{\"endlinecolor\":\"#2a3f5f\",\"gridcolor\":\"white\",\"linecolor\":\"white\",\"minorgridcolor\":\"white\",\"startlinecolor\":\"#2a3f5f\"},\"baxis\":{\"endlinecolor\":\"#2a3f5f\",\"gridcolor\":\"white\",\"linecolor\":\"white\",\"minorgridcolor\":\"white\",\"startlinecolor\":\"#2a3f5f\"},\"type\":\"carpet\"}],\"choropleth\":[{\"colorbar\":{\"outlinewidth\":0,\"ticks\":\"\"},\"type\":\"choropleth\"}],\"contourcarpet\":[{\"colorbar\":{\"outlinewidth\":0,\"ticks\":\"\"},\"type\":\"contourcarpet\"}],\"contour\":[{\"colorbar\":{\"outlinewidth\":0,\"ticks\":\"\"},\"colorscale\":[[0.0,\"#0d0887\"],[0.1111111111111111,\"#46039f\"],[0.2222222222222222,\"#7201a8\"],[0.3333333333333333,\"#9c179e\"],[0.4444444444444444,\"#bd3786\"],[0.5555555555555556,\"#d8576b\"],[0.6666666666666666,\"#ed7953\"],[0.7777777777777778,\"#fb9f3a\"],[0.8888888888888888,\"#fdca26\"],[1.0,\"#f0f921\"]],\"type\":\"contour\"}],\"heatmapgl\":[{\"colorbar\":{\"outlinewidth\":0,\"ticks\":\"\"},\"colorscale\":[[0.0,\"#0d0887\"],[0.1111111111111111,\"#46039f\"],[0.2222222222222222,\"#7201a8\"],[0.3333333333333333,\"#9c179e\"],[0.4444444444444444,\"#bd3786\"],[0.5555555555555556,\"#d8576b\"],[0.6666666666666666,\"#ed7953\"],[0.7777777777777778,\"#fb9f3a\"],[0.8888888888888888,\"#fdca26\"],[1.0,\"#f0f921\"]],\"type\":\"heatmapgl\"}],\"heatmap\":[{\"colorbar\":{\"outlinewidth\":0,\"ticks\":\"\"},\"colorscale\":[[0.0,\"#0d0887\"],[0.1111111111111111,\"#46039f\"],[0.2222222222222222,\"#7201a8\"],[0.3333333333333333,\"#9c179e\"],[0.4444444444444444,\"#bd3786\"],[0.5555555555555556,\"#d8576b\"],[0.6666666666666666,\"#ed7953\"],[0.7777777777777778,\"#fb9f3a\"],[0.8888888888888888,\"#fdca26\"],[1.0,\"#f0f921\"]],\"type\":\"heatmap\"}],\"histogram2dcontour\":[{\"colorbar\":{\"outlinewidth\":0,\"ticks\":\"\"},\"colorscale\":[[0.0,\"#0d0887\"],[0.1111111111111111,\"#46039f\"],[0.2222222222222222,\"#7201a8\"],[0.3333333333333333,\"#9c179e\"],[0.4444444444444444,\"#bd3786\"],[0.5555555555555556,\"#d8576b\"],[0.6666666666666666,\"#ed7953\"],[0.7777777777777778,\"#fb9f3a\"],[0.8888888888888888,\"#fdca26\"],[1.0,\"#f0f921\"]],\"type\":\"histogram2dcontour\"}],\"histogram2d\":[{\"colorbar\":{\"outlinewidth\":0,\"ticks\":\"\"},\"colorscale\":[[0.0,\"#0d0887\"],[0.1111111111111111,\"#46039f\"],[0.2222222222222222,\"#7201a8\"],[0.3333333333333333,\"#9c179e\"],[0.4444444444444444,\"#bd3786\"],[0.5555555555555556,\"#d8576b\"],[0.6666666666666666,\"#ed7953\"],[0.7777777777777778,\"#fb9f3a\"],[0.8888888888888888,\"#fdca26\"],[1.0,\"#f0f921\"]],\"type\":\"histogram2d\"}],\"histogram\":[{\"marker\":{\"pattern\":{\"fillmode\":\"overlay\",\"size\":10,\"solidity\":0.2}},\"type\":\"histogram\"}],\"mesh3d\":[{\"colorbar\":{\"outlinewidth\":0,\"ticks\":\"\"},\"type\":\"mesh3d\"}],\"parcoords\":[{\"line\":{\"colorbar\":{\"outlinewidth\":0,\"ticks\":\"\"}},\"type\":\"parcoords\"}],\"pie\":[{\"automargin\":true,\"type\":\"pie\"}],\"scatter3d\":[{\"line\":{\"colorbar\":{\"outlinewidth\":0,\"ticks\":\"\"}},\"marker\":{\"colorbar\":{\"outlinewidth\":0,\"ticks\":\"\"}},\"type\":\"scatter3d\"}],\"scattercarpet\":[{\"marker\":{\"colorbar\":{\"outlinewidth\":0,\"ticks\":\"\"}},\"type\":\"scattercarpet\"}],\"scattergeo\":[{\"marker\":{\"colorbar\":{\"outlinewidth\":0,\"ticks\":\"\"}},\"type\":\"scattergeo\"}],\"scattergl\":[{\"marker\":{\"colorbar\":{\"outlinewidth\":0,\"ticks\":\"\"}},\"type\":\"scattergl\"}],\"scattermapbox\":[{\"marker\":{\"colorbar\":{\"outlinewidth\":0,\"ticks\":\"\"}},\"type\":\"scattermapbox\"}],\"scatterpolargl\":[{\"marker\":{\"colorbar\":{\"outlinewidth\":0,\"ticks\":\"\"}},\"type\":\"scatterpolargl\"}],\"scatterpolar\":[{\"marker\":{\"colorbar\":{\"outlinewidth\":0,\"ticks\":\"\"}},\"type\":\"scatterpolar\"}],\"scatter\":[{\"marker\":{\"colorbar\":{\"outlinewidth\":0,\"ticks\":\"\"}},\"type\":\"scatter\"}],\"scatterternary\":[{\"marker\":{\"colorbar\":{\"outlinewidth\":0,\"ticks\":\"\"}},\"type\":\"scatterternary\"}],\"surface\":[{\"colorbar\":{\"outlinewidth\":0,\"ticks\":\"\"},\"colorscale\":[[0.0,\"#0d0887\"],[0.1111111111111111,\"#46039f\"],[0.2222222222222222,\"#7201a8\"],[0.3333333333333333,\"#9c179e\"],[0.4444444444444444,\"#bd3786\"],[0.5555555555555556,\"#d8576b\"],[0.6666666666666666,\"#ed7953\"],[0.7777777777777778,\"#fb9f3a\"],[0.8888888888888888,\"#fdca26\"],[1.0,\"#f0f921\"]],\"type\":\"surface\"}],\"table\":[{\"cells\":{\"fill\":{\"color\":\"#EBF0F8\"},\"line\":{\"color\":\"white\"}},\"header\":{\"fill\":{\"color\":\"#C8D4E3\"},\"line\":{\"color\":\"white\"}},\"type\":\"table\"}]},\"layout\":{\"annotationdefaults\":{\"arrowcolor\":\"#2a3f5f\",\"arrowhead\":0,\"arrowwidth\":1},\"autotypenumbers\":\"strict\",\"coloraxis\":{\"colorbar\":{\"outlinewidth\":0,\"ticks\":\"\"}},\"colorscale\":{\"diverging\":[[0,\"#8e0152\"],[0.1,\"#c51b7d\"],[0.2,\"#de77ae\"],[0.3,\"#f1b6da\"],[0.4,\"#fde0ef\"],[0.5,\"#f7f7f7\"],[0.6,\"#e6f5d0\"],[0.7,\"#b8e186\"],[0.8,\"#7fbc41\"],[0.9,\"#4d9221\"],[1,\"#276419\"]],\"sequential\":[[0.0,\"#0d0887\"],[0.1111111111111111,\"#46039f\"],[0.2222222222222222,\"#7201a8\"],[0.3333333333333333,\"#9c179e\"],[0.4444444444444444,\"#bd3786\"],[0.5555555555555556,\"#d8576b\"],[0.6666666666666666,\"#ed7953\"],[0.7777777777777778,\"#fb9f3a\"],[0.8888888888888888,\"#fdca26\"],[1.0,\"#f0f921\"]],\"sequentialminus\":[[0.0,\"#0d0887\"],[0.1111111111111111,\"#46039f\"],[0.2222222222222222,\"#7201a8\"],[0.3333333333333333,\"#9c179e\"],[0.4444444444444444,\"#bd3786\"],[0.5555555555555556,\"#d8576b\"],[0.6666666666666666,\"#ed7953\"],[0.7777777777777778,\"#fb9f3a\"],[0.8888888888888888,\"#fdca26\"],[1.0,\"#f0f921\"]]},\"colorway\":[\"#636efa\",\"#EF553B\",\"#00cc96\",\"#ab63fa\",\"#FFA15A\",\"#19d3f3\",\"#FF6692\",\"#B6E880\",\"#FF97FF\",\"#FECB52\"],\"font\":{\"color\":\"#2a3f5f\"},\"geo\":{\"bgcolor\":\"white\",\"lakecolor\":\"white\",\"landcolor\":\"#E5ECF6\",\"showlakes\":true,\"showland\":true,\"subunitcolor\":\"white\"},\"hoverlabel\":{\"align\":\"left\"},\"hovermode\":\"closest\",\"mapbox\":{\"style\":\"light\"},\"paper_bgcolor\":\"white\",\"plot_bgcolor\":\"#E5ECF6\",\"polar\":{\"angularaxis\":{\"gridcolor\":\"white\",\"linecolor\":\"white\",\"ticks\":\"\"},\"bgcolor\":\"#E5ECF6\",\"radialaxis\":{\"gridcolor\":\"white\",\"linecolor\":\"white\",\"ticks\":\"\"}},\"scene\":{\"xaxis\":{\"backgroundcolor\":\"#E5ECF6\",\"gridcolor\":\"white\",\"gridwidth\":2,\"linecolor\":\"white\",\"showbackground\":true,\"ticks\":\"\",\"zerolinecolor\":\"white\"},\"yaxis\":{\"backgroundcolor\":\"#E5ECF6\",\"gridcolor\":\"white\",\"gridwidth\":2,\"linecolor\":\"white\",\"showbackground\":true,\"ticks\":\"\",\"zerolinecolor\":\"white\"},\"zaxis\":{\"backgroundcolor\":\"#E5ECF6\",\"gridcolor\":\"white\",\"gridwidth\":2,\"linecolor\":\"white\",\"showbackground\":true,\"ticks\":\"\",\"zerolinecolor\":\"white\"}},\"shapedefaults\":{\"line\":{\"color\":\"#2a3f5f\"}},\"ternary\":{\"aaxis\":{\"gridcolor\":\"white\",\"linecolor\":\"white\",\"ticks\":\"\"},\"baxis\":{\"gridcolor\":\"white\",\"linecolor\":\"white\",\"ticks\":\"\"},\"bgcolor\":\"#E5ECF6\",\"caxis\":{\"gridcolor\":\"white\",\"linecolor\":\"white\",\"ticks\":\"\"}},\"title\":{\"x\":0.05},\"xaxis\":{\"automargin\":true,\"gridcolor\":\"white\",\"linecolor\":\"white\",\"ticks\":\"\",\"title\":{\"standoff\":15},\"zerolinecolor\":\"white\",\"zerolinewidth\":2},\"yaxis\":{\"automargin\":true,\"gridcolor\":\"white\",\"linecolor\":\"white\",\"ticks\":\"\",\"title\":{\"standoff\":15},\"zerolinecolor\":\"white\",\"zerolinewidth\":2}}},\"title\":{\"font\":{\"color\":\"#4D5663\"}},\"xaxis\":{\"gridcolor\":\"#E1E5ED\",\"rangeslider\":{\"visible\":true},\"showgrid\":true,\"tickfont\":{\"color\":\"#4D5663\"},\"title\":{\"font\":{\"color\":\"#4D5663\"},\"text\":\"\"},\"zerolinecolor\":\"#E1E5ED\"},\"yaxis\":{\"gridcolor\":\"#E1E5ED\",\"showgrid\":true,\"showticklabels\":false,\"tickfont\":{\"color\":\"#4D5663\"},\"title\":{\"font\":{\"color\":\"#4D5663\"},\"text\":\"\"},\"zerolinecolor\":\"#E1E5ED\"},\"yaxis2\":{\"gridcolor\":\"#E1E5ED\",\"showgrid\":true,\"tickfont\":{\"color\":\"#4D5663\"},\"title\":{\"font\":{\"color\":\"#4D5663\"},\"text\":\"\"},\"zerolinecolor\":\"#E1E5ED\"}},                        {\"showLink\": true, \"linkText\": \"Export to plot.ly\", \"plotlyServerURL\": \"https://plot.ly\", \"responsive\": true}                    ).then(function(){\n",
       "                            \n",
       "var gd = document.getElementById('5c248df4-1c0c-4bb5-99a3-58726817519c');\n",
       "var x = new MutationObserver(function (mutations, observer) {{\n",
       "        var display = window.getComputedStyle(gd).display;\n",
       "        if (!display || display === 'none') {{\n",
       "            console.log([gd, 'removed!']);\n",
       "            Plotly.purge(gd);\n",
       "            observer.disconnect();\n",
       "        }}\n",
       "}});\n",
       "\n",
       "// Listen for the removal of the full notebook cells\n",
       "var notebookContainer = gd.closest('#notebook-container');\n",
       "if (notebookContainer) {{\n",
       "    x.observe(notebookContainer, {childList: true});\n",
       "}}\n",
       "\n",
       "// Listen for the clearing of the current output cell\n",
       "var outputEl = gd.closest('.output');\n",
       "if (outputEl) {{\n",
       "    x.observe(outputEl, {childList: true});\n",
       "}}\n",
       "\n",
       "                        })                };                });            </script>        </div>"
      ]
     },
     "metadata": {},
     "output_type": "display_data"
    }
   ],
   "source": [
    "df.iplot(kind=\"candle\", keys=[\"Open\", \"High\", \"Low\", \"Close\"], rangeslider=True)"
   ]
  },
  {
   "cell_type": "code",
   "execution_count": 6,
   "id": "f3ba841e-fdf0-42f3-915e-be6a6d69405e",
   "metadata": {},
   "outputs": [
    {
     "data": {
      "image/png": "[encoded data removed]",
      "text/plain": [
       "<Figure size 1600x1000 with 4 Axes>"
      ]
     },
     "metadata": {},
     "output_type": "display_data"
    }
   ],
   "source": [
    "mpf.plot(df,type='candle',volume=True,figsize=(16,10),tight_layout=True,title='DOT-USD Candle Chart',mav=20)"
   ]
  },
  {
   "cell_type": "code",
   "execution_count": 10,
   "id": "04e7ed3e-6ffd-4022-8f19-dab325f06666",
   "metadata": {},
   "outputs": [
    {
     "data": {
      "application/vnd.plotly.v1+json": {
       "config": {
        "linkText": "Export to plot.ly",
        "plotlyServerURL": "https://plot.ly",
        "showLink": true
       },
       "data": [
        {
         "line": {
          "color": "rgba(55, 128, 191, 1.0)",
          "dash": "solid",
          "shape": "linear",
          "width": 2
         },
         "mode": "lines",
         "name": " EMA(20)",
         "text": "",
         "type": "scatter",
         "x": [
          "2021-11-21",
          "2021-11-22",
          "2021-11-23",
          "2021-11-24",
          "2021-11-25",
          "2021-11-26",
          "2021-11-27",
          "2021-11-28",
          "2021-11-29",
          "2021-11-30",
          "2021-12-01",
          "2021-12-02",
          "2021-12-03",
          "2021-12-04",
          "2021-12-05",
          "2021-12-06",
          "2021-12-07",
          "2021-12-08",
          "2021-12-09",
          "2021-12-10",
          "2021-12-11",
          "2021-12-12",
          "2021-12-13",
          "2021-12-14",
          "2021-12-15",
          "2021-12-16",
          "2021-12-17",
          "2021-12-18",
          "2021-12-19",
          "2021-12-20",
          "2021-12-21",
          "2021-12-22",
          "2021-12-23",
          "2021-12-24",
          "2021-12-25",
          "2021-12-26",
          "2021-12-27",
          "2021-12-28",
          "2021-12-29",
          "2021-12-30",
          "2021-12-31",
          "2022-01-01",
          "2022-01-02",
          "2022-01-03",
          "2022-01-04",
          "2022-01-05",
          "2022-01-06",
          "2022-01-07",
          "2022-01-08",
          "2022-01-09",
          "2022-01-10",
          "2022-01-11",
          "2022-01-12",
          "2022-01-13",
          "2022-01-14",
          "2022-01-15",
          "2022-01-16",
          "2022-01-17",
          "2022-01-18",
          "2022-01-19"
         ],
         "y": [
          "",
          "",
          "",
          "",
          "",
          "",
          "",
          "",
          "",
          "",
          "",
          "",
          "",
          "",
          "",
          "",
          "",
          "",
          "",
          33.235856263649865,
          32.71934614330226,
          32.417189367749664,
          31.801466570821123,
          31.26423165931435,
          30.87063816795108,
          30.406910723384307,
          29.856747797347705,
          29.43991467379078,
          28.995284704858328,
          28.52539092344325,
          28.20387750216294,
          28.110422501956943,
          28.209429882722947,
          28.20223656055886,
          28.262547364315157,
          28.55357142485657,
          28.7828122415369,
          28.692315837581006,
          28.512485757811387,
          28.418944257067448,
          28.25213051829912,
          28.28555618322301,
          28.41964607053511,
          28.58079406381748,
          28.590118438692006,
          28.410783349292767,
          28.248575411264884,
          27.928311086382514,
          27.551138601965132,
          27.27347778273036,
          26.93579418437509,
          26.804909023958416,
          26.854336735962374,
          26.75300942777548,
          26.847618053701623,
          26.91784490573004,
          26.991583486136705,
          26.866718392218925,
          26.702116640579025,
          26.426791246238164
         ],
         "yaxis": "y2"
        },
        {
         "line": {
          "color": "rgba(219, 64, 82, 1.0)",
          "dash": "solid",
          "shape": "linear",
          "width": 2
         },
         "mode": "lines",
         "name": " EMA(30)",
         "text": "",
         "type": "scatter",
         "x": [
          "2021-11-21",
          "2021-11-22",
          "2021-11-23",
          "2021-11-24",
          "2021-11-25",
          "2021-11-26",
          "2021-11-27",
          "2021-11-28",
          "2021-11-29",
          "2021-11-30",
          "2021-12-01",
          "2021-12-02",
          "2021-12-03",
          "2021-12-04",
          "2021-12-05",
          "2021-12-06",
          "2021-12-07",
          "2021-12-08",
          "2021-12-09",
          "2021-12-10",
          "2021-12-11",
          "2021-12-12",
          "2021-12-13",
          "2021-12-14",
          "2021-12-15",
          "2021-12-16",
          "2021-12-17",
          "2021-12-18",
          "2021-12-19",
          "2021-12-20",
          "2021-12-21",
          "2021-12-22",
          "2021-12-23",
          "2021-12-24",
          "2021-12-25",
          "2021-12-26",
          "2021-12-27",
          "2021-12-28",
          "2021-12-29",
          "2021-12-30",
          "2021-12-31",
          "2022-01-01",
          "2022-01-02",
          "2022-01-03",
          "2022-01-04",
          "2022-01-05",
          "2022-01-06",
          "2022-01-07",
          "2022-01-08",
          "2022-01-09",
          "2022-01-10",
          "2022-01-11",
          "2022-01-12",
          "2022-01-13",
          "2022-01-14",
          "2022-01-15",
          "2022-01-16",
          "2022-01-17",
          "2022-01-18",
          "2022-01-19"
         ],
         "y": [
          "",
          "",
          "",
          "",
          "",
          "",
          "",
          "",
          "",
          "",
          "",
          "",
          "",
          "",
          "",
          "",
          "",
          "",
          "",
          "",
          "",
          "",
          "",
          "",
          "",
          "",
          "",
          "",
          "",
          30.619466032882933,
          30.26656499850339,
          30.07018015989027,
          30.010813697961865,
          29.889722491641745,
          29.82170813734228,
          29.918262451062137,
          29.985510034864582,
          29.846612613260415,
          29.650321476921036,
          29.513545897764843,
          29.329923581780015,
          29.28303173779421,
          29.309513561162326,
          29.361267524958308,
          29.31723091044487,
          29.148835367835524,
          28.991336311846137,
          28.72646300140445,
          28.419465388410615,
          28.175351492384127,
          27.888412686423862,
          27.738289287299743,
          27.71155449457073,
          27.587609043308106,
          27.5978536211592,
          27.597024355277963,
          27.603158267840676,
          27.47911579894773,
          27.328101876434975,
          27.101204981181105
         ],
         "yaxis": "y2"
        },
        {
         "legendgroup": "RSI(Close,14)",
         "line": {
          "color": "rgba(0, 128, 0, 1.0)",
          "dash": "solid",
          "shape": "linear",
          "width": 1.3
         },
         "mode": "lines",
         "name": "RSI(Close,14)",
         "showlegend": true,
         "text": "",
         "type": "scatter",
         "x": [
          "2021-11-21",
          "2021-11-22",
          "2021-11-23",
          "2021-11-24",
          "2021-11-25",
          "2021-11-26",
          "2021-11-27",
          "2021-11-28",
          "2021-11-29",
          "2021-11-30",
          "2021-12-01",
          "2021-12-02",
          "2021-12-03",
          "2021-12-04",
          "2021-12-05",
          "2021-12-06",
          "2021-12-07",
          "2021-12-08",
          "2021-12-09",
          "2021-12-10",
          "2021-12-11",
          "2021-12-12",
          "2021-12-13",
          "2021-12-14",
          "2021-12-15",
          "2021-12-16",
          "2021-12-17",
          "2021-12-18",
          "2021-12-19",
          "2021-12-20",
          "2021-12-21",
          "2021-12-22",
          "2021-12-23",
          "2021-12-24",
          "2021-12-25",
          "2021-12-26",
          "2021-12-27",
          "2021-12-28",
          "2021-12-29",
          "2021-12-30",
          "2021-12-31",
          "2022-01-01",
          "2022-01-02",
          "2022-01-03",
          "2022-01-04",
          "2022-01-05",
          "2022-01-06",
          "2022-01-07",
          "2022-01-08",
          "2022-01-09",
          "2022-01-10",
          "2022-01-11",
          "2022-01-12",
          "2022-01-13",
          "2022-01-14",
          "2022-01-15",
          "2022-01-16",
          "2022-01-17",
          "2022-01-18",
          "2022-01-19"
         ],
         "y": [
          "",
          "",
          "",
          "",
          "",
          "",
          "",
          "",
          "",
          "",
          "",
          "",
          "",
          24.140198783146033,
          23.08720796841746,
          25.387462863158078,
          28.620889112676707,
          30.97856930519147,
          23.893886619724213,
          29.229613810650235,
          31.985191222755248,
          35.55784028210688,
          26.563091920833102,
          24.543390350972032,
          28.987416308638473,
          28.84574484246346,
          29.67775931979351,
          39.62047731056902,
          40.4631703959621,
          39.28820399926619,
          35.00238489380209,
          43.21354846425434,
          56.06814858626184,
          54.548796666790984,
          52.828435872197836,
          54.703496028206104,
          66.05710475188991,
          54.51540601117982,
          49.11861304043504,
          54.207119741100314,
          55.76757564776228,
          58.3297326996218,
          62.86620940590954,
          66.05987248297207,
          59.19944113108396,
          48.64911609477938,
          42.88062868735863,
          40.95685147754038,
          36.609427183344245,
          29.576405867970664,
          28.614090903714924,
          42.72824492984714,
          51.58962189139928,
          44.92950440342482,
          52.95613198759465,
          46.91033570245024,
          43.540787214541126,
          37.03265831675055,
          39.0698421127378,
          40.68884358903457
         ],
         "yaxis": "y3"
        },
        {
         "legendgroup": "RSI(Close,14)",
         "line": {
          "color": "grey",
          "width": 1
         },
         "mode": "lines",
         "name": "",
         "showlegend": true,
         "text": "",
         "type": "scatter",
         "x": [
          "2021-11-21",
          "2021-11-22",
          "2021-11-23",
          "2021-11-24",
          "2021-11-25",
          "2021-11-26",
          "2021-11-27",
          "2021-11-28",
          "2021-11-29",
          "2021-11-30",
          "2021-12-01",
          "2021-12-02",
          "2021-12-03",
          "2021-12-04",
          "2021-12-05",
          "2021-12-06",
          "2021-12-07",
          "2021-12-08",
          "2021-12-09",
          "2021-12-10",
          "2021-12-11",
          "2021-12-12",
          "2021-12-13",
          "2021-12-14",
          "2021-12-15",
          "2021-12-16",
          "2021-12-17",
          "2021-12-18",
          "2021-12-19",
          "2021-12-20",
          "2021-12-21",
          "2021-12-22",
          "2021-12-23",
          "2021-12-24",
          "2021-12-25",
          "2021-12-26",
          "2021-12-27",
          "2021-12-28",
          "2021-12-29",
          "2021-12-30",
          "2021-12-31",
          "2022-01-01",
          "2022-01-02",
          "2022-01-03",
          "2022-01-04",
          "2022-01-05",
          "2022-01-06",
          "2022-01-07",
          "2022-01-08",
          "2022-01-09",
          "2022-01-10",
          "2022-01-11",
          "2022-01-12",
          "2022-01-13",
          "2022-01-14",
          "2022-01-15",
          "2022-01-16",
          "2022-01-17",
          "2022-01-18",
          "2022-01-19"
         ],
         "y": [
          30,
          30,
          30,
          30,
          30,
          30,
          30,
          30,
          30,
          30,
          30,
          30,
          30,
          30,
          30,
          30,
          30,
          30,
          30,
          30,
          30,
          30,
          30,
          30,
          30,
          30,
          30,
          30,
          30,
          30,
          30,
          30,
          30,
          30,
          30,
          30,
          30,
          30,
          30,
          30,
          30,
          30,
          30,
          30,
          30,
          30,
          30,
          30,
          30,
          30,
          30,
          30,
          30,
          30,
          30,
          30,
          30,
          30,
          30,
          30
         ],
         "yaxis": "y3"
        },
        {
         "legendgroup": "RSI(Close,14)",
         "line": {
          "color": "#17BECF",
          "width": 1
         },
         "mode": "lines",
         "name": "",
         "showlegend": true,
         "text": "",
         "type": "scatter",
         "x": [
          "2021-11-21",
          "2021-11-22",
          "2021-11-23",
          "2021-11-24",
          "2021-11-25",
          "2021-11-26",
          "2021-11-27",
          "2021-11-28",
          "2021-11-29",
          "2021-11-30",
          "2021-12-01",
          "2021-12-02",
          "2021-12-03",
          "2021-12-04",
          "2021-12-05",
          "2021-12-06",
          "2021-12-07",
          "2021-12-08",
          "2021-12-09",
          "2021-12-10",
          "2021-12-11",
          "2021-12-12",
          "2021-12-13",
          "2021-12-14",
          "2021-12-15",
          "2021-12-16",
          "2021-12-17",
          "2021-12-18",
          "2021-12-19",
          "2021-12-20",
          "2021-12-21",
          "2021-12-22",
          "2021-12-23",
          "2021-12-24",
          "2021-12-25",
          "2021-12-26",
          "2021-12-27",
          "2021-12-28",
          "2021-12-29",
          "2021-12-30",
          "2021-12-31",
          "2022-01-01",
          "2022-01-02",
          "2022-01-03",
          "2022-01-04",
          "2022-01-05",
          "2022-01-06",
          "2022-01-07",
          "2022-01-08",
          "2022-01-09",
          "2022-01-10",
          "2022-01-11",
          "2022-01-12",
          "2022-01-13",
          "2022-01-14",
          "2022-01-15",
          "2022-01-16",
          "2022-01-17",
          "2022-01-18",
          "2022-01-19"
         ],
         "y": [
          70,
          70,
          70,
          70,
          70,
          70,
          70,
          70,
          70,
          70,
          70,
          70,
          70,
          70,
          70,
          70,
          70,
          70,
          70,
          70,
          70,
          70,
          70,
          70,
          70,
          70,
          70,
          70,
          70,
          70,
          70,
          70,
          70,
          70,
          70,
          70,
          70,
          70,
          70,
          70,
          70,
          70,
          70,
          70,
          70,
          70,
          70,
          70,
          70,
          70,
          70,
          70,
          70,
          70,
          70,
          70,
          70,
          70,
          70,
          70
         ],
         "yaxis": "y3"
        },
        {
         "legendgroup": "BOLL(Close,20)",
         "line": {
          "color": "rgba(255, 153, 51, 1.0)",
          "dash": "solid",
          "shape": "linear",
          "width": 1.3
         },
         "mode": "lines",
         "name": "BOLL(Close,20)",
         "showlegend": true,
         "text": "",
         "type": "scatter",
         "x": [
          "2021-11-21",
          "2021-11-22",
          "2021-11-23",
          "2021-11-24",
          "2021-11-25",
          "2021-11-26",
          "2021-11-27",
          "2021-11-28",
          "2021-11-29",
          "2021-11-30",
          "2021-12-01",
          "2021-12-02",
          "2021-12-03",
          "2021-12-04",
          "2021-12-05",
          "2021-12-06",
          "2021-12-07",
          "2021-12-08",
          "2021-12-09",
          "2021-12-10",
          "2021-12-11",
          "2021-12-12",
          "2021-12-13",
          "2021-12-14",
          "2021-12-15",
          "2021-12-16",
          "2021-12-17",
          "2021-12-18",
          "2021-12-19",
          "2021-12-20",
          "2021-12-21",
          "2021-12-22",
          "2021-12-23",
          "2021-12-24",
          "2021-12-25",
          "2021-12-26",
          "2021-12-27",
          "2021-12-28",
          "2021-12-29",
          "2021-12-30",
          "2021-12-31",
          "2022-01-01",
          "2022-01-02",
          "2022-01-03",
          "2022-01-04",
          "2022-01-05",
          "2022-01-06",
          "2022-01-07",
          "2022-01-08",
          "2022-01-09",
          "2022-01-10",
          "2022-01-11",
          "2022-01-12",
          "2022-01-13",
          "2022-01-14",
          "2022-01-15",
          "2022-01-16",
          "2022-01-17",
          "2022-01-18",
          "2022-01-19"
         ],
         "y": [
          "",
          "",
          "",
          "",
          "",
          "",
          "",
          "",
          "",
          "",
          "",
          "",
          "",
          "",
          "",
          "",
          "",
          "",
          "",
          34.30705,
          33.602095,
          33.10617,
          32.36528,
          31.75935,
          31.14414,
          30.71635,
          30.19034,
          29.676565,
          29.060725,
          28.367175000000003,
          27.786330000000003,
          27.36001,
          27.130919999999996,
          27.06725,
          27.093795,
          27.252275000000004,
          27.275565,
          27.175549999999998,
          27.169059999999995,
          27.224255,
          27.167,
          27.119820000000004,
          27.30689,
          27.50445,
          27.58181,
          27.617089999999997,
          27.72096,
          27.691250000000004,
          27.651085000000002,
          27.6798,
          27.608714999999997,
          27.52566,
          27.434355,
          27.31718,
          27.262725,
          27.076059999999995,
          26.912635,
          26.80503,
          26.721745,
          26.53579
         ],
         "yaxis": "y2"
        },
        {
         "legendgroup": "BOLL(Close,20)",
         "line": {
          "color": "rgba(128, 128, 128, 1.0)",
          "dash": "solid",
          "shape": "linear",
          "width": 1.3
         },
         "mode": "lines",
         "name": "UPPER(Close,20)",
         "showlegend": false,
         "text": "",
         "type": "scatter",
         "x": [
          "2021-11-21",
          "2021-11-22",
          "2021-11-23",
          "2021-11-24",
          "2021-11-25",
          "2021-11-26",
          "2021-11-27",
          "2021-11-28",
          "2021-11-29",
          "2021-11-30",
          "2021-12-01",
          "2021-12-02",
          "2021-12-03",
          "2021-12-04",
          "2021-12-05",
          "2021-12-06",
          "2021-12-07",
          "2021-12-08",
          "2021-12-09",
          "2021-12-10",
          "2021-12-11",
          "2021-12-12",
          "2021-12-13",
          "2021-12-14",
          "2021-12-15",
          "2021-12-16",
          "2021-12-17",
          "2021-12-18",
          "2021-12-19",
          "2021-12-20",
          "2021-12-21",
          "2021-12-22",
          "2021-12-23",
          "2021-12-24",
          "2021-12-25",
          "2021-12-26",
          "2021-12-27",
          "2021-12-28",
          "2021-12-29",
          "2021-12-30",
          "2021-12-31",
          "2022-01-01",
          "2022-01-02",
          "2022-01-03",
          "2022-01-04",
          "2022-01-05",
          "2022-01-06",
          "2022-01-07",
          "2022-01-08",
          "2022-01-09",
          "2022-01-10",
          "2022-01-11",
          "2022-01-12",
          "2022-01-13",
          "2022-01-14",
          "2022-01-15",
          "2022-01-16",
          "2022-01-17",
          "2022-01-18",
          "2022-01-19"
         ],
         "y": [
          "",
          "",
          "",
          "",
          "",
          "",
          "",
          "",
          "",
          "",
          "",
          "",
          "",
          "",
          "",
          "",
          "",
          "",
          "",
          44.03464121901257,
          43.048725308149145,
          42.29467324105876,
          41.33898910009081,
          40.68817282416126,
          39.524686336769264,
          39.23563332283513,
          38.85476316369525,
          38.16841978078847,
          37.06172078325624,
          35.48634238682122,
          33.835269339160384,
          32.107965172004924,
          30.932147885606916,
          30.748706217313998,
          30.820198648771672,
          31.411986514731446,
          31.516147306228074,
          31.253406056673313,
          31.24894804201393,
          31.29168872525826,
          31.231805915739578,
          31.08910910384399,
          31.39532866731799,
          31.73889449920435,
          31.844007382324595,
          31.835667842628443,
          31.726818235608114,
          31.775142693832287,
          31.869480075343716,
          31.8020321005162,
          31.95747434989084,
          31.96791296675363,
          31.81061028095713,
          31.739819699307937,
          31.633161599110203,
          31.01473991425391,
          30.42032271116422,
          30.325904337045134,
          30.320650340282743,
          30.337409989813185
         ],
         "yaxis": "y2"
        },
        {
         "fill": "tonexty",
         "fillcolor": "rgba(128, 128, 128, 0.1)",
         "legendgroup": "BOLL(Close,20)",
         "line": {
          "color": "rgba(128, 128, 128, 0.8999999999999999)",
          "dash": "solid",
          "shape": "linear",
          "width": 1.3
         },
         "mode": "lines",
         "name": "LOWER(Close,20)",
         "showlegend": false,
         "text": "",
         "type": "scatter",
         "x": [
          "2021-11-21",
          "2021-11-22",
          "2021-11-23",
          "2021-11-24",
          "2021-11-25",
          "2021-11-26",
          "2021-11-27",
          "2021-11-28",
          "2021-11-29",
          "2021-11-30",
          "2021-12-01",
          "2021-12-02",
          "2021-12-03",
          "2021-12-04",
          "2021-12-05",
          "2021-12-06",
          "2021-12-07",
          "2021-12-08",
          "2021-12-09",
          "2021-12-10",
          "2021-12-11",
          "2021-12-12",
          "2021-12-13",
          "2021-12-14",
          "2021-12-15",
          "2021-12-16",
          "2021-12-17",
          "2021-12-18",
          "2021-12-19",
          "2021-12-20",
          "2021-12-21",
          "2021-12-22",
          "2021-12-23",
          "2021-12-24",
          "2021-12-25",
          "2021-12-26",
          "2021-12-27",
          "2021-12-28",
          "2021-12-29",
          "2021-12-30",
          "2021-12-31",
          "2022-01-01",
          "2022-01-02",
          "2022-01-03",
          "2022-01-04",
          "2022-01-05",
          "2022-01-06",
          "2022-01-07",
          "2022-01-08",
          "2022-01-09",
          "2022-01-10",
          "2022-01-11",
          "2022-01-12",
          "2022-01-13",
          "2022-01-14",
          "2022-01-15",
          "2022-01-16",
          "2022-01-17",
          "2022-01-18",
          "2022-01-19"
         ],
         "y": [
          "",
          "",
          "",
          "",
          "",
          "",
          "",
          "",
          "",
          "",
          "",
          "",
          "",
          "",
          "",
          "",
          "",
          "",
          "",
          24.579458780987423,
          24.155464691850852,
          23.91766675894124,
          23.39157089990919,
          22.83052717583874,
          22.763593663230736,
          22.19706667716487,
          21.525916836304745,
          21.18471021921153,
          21.05972921674376,
          21.248007613178785,
          21.737390660839623,
          22.612054827995074,
          23.329692114393076,
          23.385793782686005,
          23.367391351228328,
          23.092563485268563,
          23.034982693771926,
          23.097693943326682,
          23.08917195798606,
          23.156821274741738,
          23.102194084260425,
          23.150530896156017,
          23.218451332682008,
          23.270005500795648,
          23.319612617675407,
          23.398512157371552,
          23.71510176439189,
          23.60735730616772,
          23.432689924656287,
          23.5575678994838,
          23.259955650109152,
          23.083407033246367,
          23.058099719042872,
          22.894540300692064,
          22.892288400889797,
          23.13738008574608,
          23.404947288835782,
          23.284155662954863,
          23.122839659717254,
          22.734170010186812
         ],
         "yaxis": "y2"
        },
        {
         "marker": {
          "color": [
           "#808080",
           "#808080",
           "#17BECF",
           "#808080",
           "#17BECF",
           "#808080",
           "#17BECF",
           "#17BECF",
           "#17BECF",
           "#17BECF",
           "#808080",
           "#808080",
           "#808080",
           "#808080",
           "#808080",
           "#808080",
           "#17BECF",
           "#808080",
           "#808080",
           "#808080",
           "#17BECF",
           "#17BECF",
           "#808080",
           "#17BECF",
           "#17BECF",
           "#808080",
           "#808080",
           "#17BECF",
           "#808080",
           "#808080",
           "#17BECF",
           "#17BECF",
           "#17BECF",
           "#808080",
           "#17BECF",
           "#17BECF",
           "#808080",
           "#808080",
           "#808080",
           "#17BECF",
           "#808080",
           "#17BECF",
           "#17BECF",
           "#17BECF",
           "#808080",
           "#808080",
           "#17BECF",
           "#808080",
           "#808080",
           "#17BECF",
           "#808080",
           "#17BECF",
           "#17BECF",
           "#808080",
           "#17BECF",
           "#808080",
           "#17BECF",
           "#808080",
           "#808080",
           "#808080"
          ],
          "line": {
           "color": [
            "#808080",
            "#808080",
            "#17BECF",
            "#808080",
            "#17BECF",
            "#808080",
            "#17BECF",
            "#17BECF",
            "#17BECF",
            "#17BECF",
            "#808080",
            "#808080",
            "#808080",
            "#808080",
            "#808080",
            "#808080",
            "#17BECF",
            "#808080",
            "#808080",
            "#808080",
            "#17BECF",
            "#17BECF",
            "#808080",
            "#17BECF",
            "#17BECF",
            "#808080",
            "#808080",
            "#17BECF",
            "#808080",
            "#808080",
            "#17BECF",
            "#17BECF",
            "#17BECF",
            "#808080",
            "#17BECF",
            "#17BECF",
            "#808080",
            "#808080",
            "#808080",
            "#17BECF",
            "#808080",
            "#17BECF",
            "#17BECF",
            "#17BECF",
            "#808080",
            "#808080",
            "#17BECF",
            "#808080",
            "#808080",
            "#17BECF",
            "#808080",
            "#17BECF",
            "#17BECF",
            "#808080",
            "#17BECF",
            "#808080",
            "#17BECF",
            "#808080",
            "#808080",
            "#808080"
           ],
           "width": 1
          }
         },
         "name": "Volume",
         "opacity": 0.8,
         "orientation": "v",
         "text": "",
         "type": "bar",
         "x": [
          "2021-11-21",
          "2021-11-22",
          "2021-11-23",
          "2021-11-24",
          "2021-11-25",
          "2021-11-26",
          "2021-11-27",
          "2021-11-28",
          "2021-11-29",
          "2021-11-30",
          "2021-12-01",
          "2021-12-02",
          "2021-12-03",
          "2021-12-04",
          "2021-12-05",
          "2021-12-06",
          "2021-12-07",
          "2021-12-08",
          "2021-12-09",
          "2021-12-10",
          "2021-12-11",
          "2021-12-12",
          "2021-12-13",
          "2021-12-14",
          "2021-12-15",
          "2021-12-16",
          "2021-12-17",
          "2021-12-18",
          "2021-12-19",
          "2021-12-20",
          "2021-12-21",
          "2021-12-22",
          "2021-12-23",
          "2021-12-24",
          "2021-12-25",
          "2021-12-26",
          "2021-12-27",
          "2021-12-28",
          "2021-12-29",
          "2021-12-30",
          "2021-12-31",
          "2022-01-01",
          "2022-01-02",
          "2022-01-03",
          "2022-01-04",
          "2022-01-05",
          "2022-01-06",
          "2022-01-07",
          "2022-01-08",
          "2022-01-09",
          "2022-01-10",
          "2022-01-11",
          "2022-01-12",
          "2022-01-13",
          "2022-01-14",
          "2022-01-15",
          "2022-01-16",
          "2022-01-17",
          "2022-01-18",
          "2022-01-19"
         ],
         "y": [
          1041336.93158011,
          1077981.50065143,
          1024447.52615626,
          1060348.38477167,
          1103185.50278963,
          1909280.56650514,
          919693.85343171,
          1149317.39290637,
          1249893.62737575,
          1408239.67215347,
          944028.8304318,
          893445.76669896,
          1330814.87131702,
          2214663.73201735,
          1164285.59670818,
          1737063.62798126,
          1613115.22539499,
          1332398.81589576,
          1272686.04029196,
          1372477.61120463,
          1673299.08040924,
          1405044.63928102,
          1830634.69095611,
          1428625.4021482,
          1637168.28193684,
          1475549.28950738,
          1352467.37567186,
          896375.24730352,
          758666.99142036,
          1094531.02204312,
          1205666.74637724,
          1727032.39443665,
          1595814.94156497,
          1146770.17196014,
          640838.4421492,
          1474149.02353385,
          1491887.79797705,
          1970222.3482931,
          1873795.06335919,
          1583251.82333919,
          1791025.14489745,
          1388410.13862959,
          1907282.48188542,
          2325362.28367676,
          1896121.82945279,
          2457397.89984436,
          2278613.88252905,
          2975278.18086631,
          1938132.35497831,
          1574477.49810011,
          2265740.01646277,
          2053795.60235836,
          1860685.0757268,
          1768042.00388191,
          1667325.35657246,
          1469281.5132616,
          1334241.79563483,
          1496553.82678405,
          1486541.90271818,
          475257.13448547
         ],
         "yaxis": "y4"
        },
        {
         "close": [
          41.9116,
          39.4652,
          40.7699,
          38.2791,
          39.4357,
          34.5573,
          35.1504,
          35.7555,
          37.0881,
          37.9324,
          36.7664,
          35.749,
          33.7318,
          29.4073,
          28.3046,
          28.1487,
          30.4948,
          29.8329,
          26.9339,
          26.4264,
          27.8125,
          29.5467,
          25.9521,
          26.1605,
          27.1315,
          26.0015,
          24.6302,
          25.48,
          24.7713,
          24.0614,
          25.1495,
          27.2226,
          29.15,
          28.1339,
          28.8355,
          31.3183,
          30.9606,
          27.8326,
          26.8041,
          27.5303,
          26.6674,
          28.6031,
          29.6935,
          30.1117,
          28.6787,
          26.7071,
          26.7076,
          24.8858,
          23.968,
          24.6357,
          23.7278,
          25.5615,
          27.3239,
          25.7904,
          27.7464,
          27.585,
          27.6921,
          25.6805,
          25.1384,
          23.8112
         ],
         "decreasing": {
          "line": {
           "color": "#808080"
          }
         },
         "high": [
          43.5733,
          42.1692,
          41.4783,
          40.9071,
          40.9272,
          39.6256,
          35.9388,
          35.85,
          37.5266,
          39.3779,
          38.7855,
          36.7952,
          36.8484,
          33.8433,
          29.75,
          28.95,
          31.4935,
          30.6122,
          30.13,
          28.4222,
          28.2243,
          30.014,
          29.8415,
          26.6989,
          28.0353,
          27.8559,
          26.2103,
          25.7263,
          25.861,
          25.0023,
          25.5897,
          28.2323,
          29.7935,
          29.6762,
          29.1133,
          31.7312,
          32.7738,
          30.9625,
          28.959,
          28.4132,
          28.1398,
          28.6525,
          30.6179,
          30.8775,
          30.5804,
          30.3724,
          27.4578,
          26.8592,
          25.5338,
          25.3198,
          25.2156,
          26.0182,
          27.5758,
          27.8,
          27.8912,
          28.4129,
          28.4643,
          27.7575,
          26.0946,
          25.3096
         ],
         "increasing": {
          "line": {
           "color": "#17BECF"
          }
         },
         "low": [
          40.6563,
          38.8172,
          38.536,
          38.05,
          38.0439,
          33.15,
          34.43,
          32.2036,
          35.3837,
          35.3425,
          36.2069,
          34.9369,
          32.1001,
          16.4164,
          26.3317,
          24.8314,
          27.7097,
          27.9126,
          26.7915,
          25.6881,
          25.8103,
          27.3059,
          25.525,
          25,
          24.28,
          25.712,
          24.1201,
          24.2204,
          24.645,
          23.2722,
          23.7378,
          24.9687,
          26.7149,
          27.7853,
          27.9433,
          28.2618,
          30.8,
          27.4407,
          26.468,
          26.1563,
          26.2299,
          26.6509,
          27.8,
          28.6041,
          28.6569,
          25,
          25.5113,
          24.2504,
          23.1336,
          23.6763,
          22.397,
          23.4958,
          25.4516,
          25.707,
          25.5274,
          26.8257,
          27.2739,
          25.1054,
          24.2367,
          23.7665
         ],
         "name": "DOT-USD",
         "open": [
          42.0898,
          41.9623,
          39.4781,
          40.7553,
          38.2776,
          39.4814,
          34.5546,
          35.1373,
          35.7615,
          37.1134,
          37.9768,
          36.7664,
          35.7425,
          33.7028,
          29.3922,
          28.3167,
          28.1487,
          30.4828,
          29.8461,
          26.9033,
          26.4389,
          27.8113,
          29.5372,
          25.9701,
          26.1503,
          27.1385,
          26.0236,
          24.6407,
          25.492,
          24.7723,
          24.0629,
          25.1495,
          27.232,
          29.1578,
          28.1342,
          28.8453,
          31.3359,
          30.9607,
          27.8411,
          26.7973,
          27.5309,
          26.6509,
          28.6175,
          29.6864,
          30.1117,
          28.6786,
          26.7059,
          26.7073,
          24.8947,
          23.9679,
          24.6177,
          23.7264,
          25.5565,
          27.3239,
          25.7844,
          27.7464,
          27.597,
          27.6949,
          25.6923,
          25.1384
         ],
         "showlegend": true,
         "type": "candlestick",
         "x": [
          "2021-11-21",
          "2021-11-22",
          "2021-11-23",
          "2021-11-24",
          "2021-11-25",
          "2021-11-26",
          "2021-11-27",
          "2021-11-28",
          "2021-11-29",
          "2021-11-30",
          "2021-12-01",
          "2021-12-02",
          "2021-12-03",
          "2021-12-04",
          "2021-12-05",
          "2021-12-06",
          "2021-12-07",
          "2021-12-08",
          "2021-12-09",
          "2021-12-10",
          "2021-12-11",
          "2021-12-12",
          "2021-12-13",
          "2021-12-14",
          "2021-12-15",
          "2021-12-16",
          "2021-12-17",
          "2021-12-18",
          "2021-12-19",
          "2021-12-20",
          "2021-12-21",
          "2021-12-22",
          "2021-12-23",
          "2021-12-24",
          "2021-12-25",
          "2021-12-26",
          "2021-12-27",
          "2021-12-28",
          "2021-12-29",
          "2021-12-30",
          "2021-12-31",
          "2022-01-01",
          "2022-01-02",
          "2022-01-03",
          "2022-01-04",
          "2022-01-05",
          "2022-01-06",
          "2022-01-07",
          "2022-01-08",
          "2022-01-09",
          "2022-01-10",
          "2022-01-11",
          "2022-01-12",
          "2022-01-13",
          "2022-01-14",
          "2022-01-15",
          "2022-01-16",
          "2022-01-17",
          "2022-01-18",
          "2022-01-19"
         ],
         "yaxis": "y2"
        }
       ],
       "layout": {
        "height": 900,
        "legend": {
         "bgcolor": "#F5F6F9",
         "font": {
          "color": "#4D5663"
         }
        },
        "paper_bgcolor": "#F5F6F9",
        "plot_bgcolor": "#F5F6F9",
        "template": {
         "data": {
          "bar": [
           {
            "error_x": {
             "color": "#2a3f5f"
            },
            "error_y": {
             "color": "#2a3f5f"
            },
            "marker": {
             "line": {
              "color": "#E5ECF6",
              "width": 0.5
             },
             "pattern": {
              "fillmode": "overlay",
              "size": 10,
              "solidity": 0.2
             }
            },
            "type": "bar"
           }
          ],
          "barpolar": [
           {
            "marker": {
             "line": {
              "color": "#E5ECF6",
              "width": 0.5
             },
             "pattern": {
              "fillmode": "overlay",
              "size": 10,
              "solidity": 0.2
             }
            },
            "type": "barpolar"
           }
          ],
          "carpet": [
           {
            "aaxis": {
             "endlinecolor": "#2a3f5f",
             "gridcolor": "white",
             "linecolor": "white",
             "minorgridcolor": "white",
             "startlinecolor": "#2a3f5f"
            },
            "baxis": {
             "endlinecolor": "#2a3f5f",
             "gridcolor": "white",
             "linecolor": "white",
             "minorgridcolor": "white",
             "startlinecolor": "#2a3f5f"
            },
            "type": "carpet"
           }
          ],
          "choropleth": [
           {
            "colorbar": {
             "outlinewidth": 0,
             "ticks": ""
            },
            "type": "choropleth"
           }
          ],
          "contour": [
           {
            "colorbar": {
             "outlinewidth": 0,
             "ticks": ""
            },
            "colorscale": [
             [
              0,
              "#0d0887"
             ],
             [
              0.1111111111111111,
              "#46039f"
             ],
             [
              0.2222222222222222,
              "#7201a8"
             ],
             [
              0.3333333333333333,
              "#9c179e"
             ],
             [
              0.4444444444444444,
              "#bd3786"
             ],
             [
              0.5555555555555556,
              "#d8576b"
             ],
             [
              0.6666666666666666,
              "#ed7953"
             ],
             [
              0.7777777777777778,
              "#fb9f3a"
             ],
             [
              0.8888888888888888,
              "#fdca26"
             ],
             [
              1,
              "#f0f921"
             ]
            ],
            "type": "contour"
           }
          ],
          "contourcarpet": [
           {
            "colorbar": {
             "outlinewidth": 0,
             "ticks": ""
            },
            "type": "contourcarpet"
           }
          ],
          "heatmap": [
           {
            "colorbar": {
             "outlinewidth": 0,
             "ticks": ""
            },
            "colorscale": [
             [
              0,
              "#0d0887"
             ],
             [
              0.1111111111111111,
              "#46039f"
             ],
             [
              0.2222222222222222,
              "#7201a8"
             ],
             [
              0.3333333333333333,
              "#9c179e"
             ],
             [
              0.4444444444444444,
              "#bd3786"
             ],
             [
              0.5555555555555556,
              "#d8576b"
             ],
             [
              0.6666666666666666,
              "#ed7953"
             ],
             [
              0.7777777777777778,
              "#fb9f3a"
             ],
             [
              0.8888888888888888,
              "#fdca26"
             ],
             [
              1,
              "#f0f921"
             ]
            ],
            "type": "heatmap"
           }
          ],
          "heatmapgl": [
           {
            "colorbar": {
             "outlinewidth": 0,
             "ticks": ""
            },
            "colorscale": [
             [
              0,
              "#0d0887"
             ],
             [
              0.1111111111111111,
              "#46039f"
             ],
             [
              0.2222222222222222,
              "#7201a8"
             ],
             [
              0.3333333333333333,
              "#9c179e"
             ],
             [
              0.4444444444444444,
              "#bd3786"
             ],
             [
              0.5555555555555556,
              "#d8576b"
             ],
             [
              0.6666666666666666,
              "#ed7953"
             ],
             [
              0.7777777777777778,
              "#fb9f3a"
             ],
             [
              0.8888888888888888,
              "#fdca26"
             ],
             [
              1,
              "#f0f921"
             ]
            ],
            "type": "heatmapgl"
           }
          ],
          "histogram": [
           {
            "marker": {
             "pattern": {
              "fillmode": "overlay",
              "size": 10,
              "solidity": 0.2
             }
            },
            "type": "histogram"
           }
          ],
          "histogram2d": [
           {
            "colorbar": {
             "outlinewidth": 0,
             "ticks": ""
            },
            "colorscale": [
             [
              0,
              "#0d0887"
             ],
             [
              0.1111111111111111,
              "#46039f"
             ],
             [
              0.2222222222222222,
              "#7201a8"
             ],
             [
              0.3333333333333333,
              "#9c179e"
             ],
             [
              0.4444444444444444,
              "#bd3786"
             ],
             [
              0.5555555555555556,
              "#d8576b"
             ],
             [
              0.6666666666666666,
              "#ed7953"
             ],
             [
              0.7777777777777778,
              "#fb9f3a"
             ],
             [
              0.8888888888888888,
              "#fdca26"
             ],
             [
              1,
              "#f0f921"
             ]
            ],
            "type": "histogram2d"
           }
          ],
          "histogram2dcontour": [
           {
            "colorbar": {
             "outlinewidth": 0,
             "ticks": ""
            },
            "colorscale": [
             [
              0,
              "#0d0887"
             ],
             [
              0.1111111111111111,
              "#46039f"
             ],
             [
              0.2222222222222222,
              "#7201a8"
             ],
             [
              0.3333333333333333,
              "#9c179e"
             ],
             [
              0.4444444444444444,
              "#bd3786"
             ],
             [
              0.5555555555555556,
              "#d8576b"
             ],
             [
              0.6666666666666666,
              "#ed7953"
             ],
             [
              0.7777777777777778,
              "#fb9f3a"
             ],
             [
              0.8888888888888888,
              "#fdca26"
             ],
             [
              1,
              "#f0f921"
             ]
            ],
            "type": "histogram2dcontour"
           }
          ],
          "mesh3d": [
           {
            "colorbar": {
             "outlinewidth": 0,
             "ticks": ""
            },
            "type": "mesh3d"
           }
          ],
          "parcoords": [
           {
            "line": {
             "colorbar": {
              "outlinewidth": 0,
              "ticks": ""
             }
            },
            "type": "parcoords"
           }
          ],
          "pie": [
           {
            "automargin": true,
            "type": "pie"
           }
          ],
          "scatter": [
           {
            "marker": {
             "colorbar": {
              "outlinewidth": 0,
              "ticks": ""
             }
            },
            "type": "scatter"
           }
          ],
          "scatter3d": [
           {
            "line": {
             "colorbar": {
              "outlinewidth": 0,
              "ticks": ""
             }
            },
            "marker": {
             "colorbar": {
              "outlinewidth": 0,
              "ticks": ""
             }
            },
            "type": "scatter3d"
           }
          ],
          "scattercarpet": [
           {
            "marker": {
             "colorbar": {
              "outlinewidth": 0,
              "ticks": ""
             }
            },
            "type": "scattercarpet"
           }
          ],
          "scattergeo": [
           {
            "marker": {
             "colorbar": {
              "outlinewidth": 0,
              "ticks": ""
             }
            },
            "type": "scattergeo"
           }
          ],
          "scattergl": [
           {
            "marker": {
             "colorbar": {
              "outlinewidth": 0,
              "ticks": ""
             }
            },
            "type": "scattergl"
           }
          ],
          "scattermapbox": [
           {
            "marker": {
             "colorbar": {
              "outlinewidth": 0,
              "ticks": ""
             }
            },
            "type": "scattermapbox"
           }
          ],
          "scatterpolar": [
           {
            "marker": {
             "colorbar": {
              "outlinewidth": 0,
              "ticks": ""
             }
            },
            "type": "scatterpolar"
           }
          ],
          "scatterpolargl": [
           {
            "marker": {
             "colorbar": {
              "outlinewidth": 0,
              "ticks": ""
             }
            },
            "type": "scatterpolargl"
           }
          ],
          "scatterternary": [
           {
            "marker": {
             "colorbar": {
              "outlinewidth": 0,
              "ticks": ""
             }
            },
            "type": "scatterternary"
           }
          ],
          "surface": [
           {
            "colorbar": {
             "outlinewidth": 0,
             "ticks": ""
            },
            "colorscale": [
             [
              0,
              "#0d0887"
             ],
             [
              0.1111111111111111,
              "#46039f"
             ],
             [
              0.2222222222222222,
              "#7201a8"
             ],
             [
              0.3333333333333333,
              "#9c179e"
             ],
             [
              0.4444444444444444,
              "#bd3786"
             ],
             [
              0.5555555555555556,
              "#d8576b"
             ],
             [
              0.6666666666666666,
              "#ed7953"
             ],
             [
              0.7777777777777778,
              "#fb9f3a"
             ],
             [
              0.8888888888888888,
              "#fdca26"
             ],
             [
              1,
              "#f0f921"
             ]
            ],
            "type": "surface"
           }
          ],
          "table": [
           {
            "cells": {
             "fill": {
              "color": "#EBF0F8"
             },
             "line": {
              "color": "white"
             }
            },
            "header": {
             "fill": {
              "color": "#C8D4E3"
             },
             "line": {
              "color": "white"
             }
            },
            "type": "table"
           }
          ]
         },
         "layout": {
          "annotationdefaults": {
           "arrowcolor": "#2a3f5f",
           "arrowhead": 0,
           "arrowwidth": 1
          },
          "autotypenumbers": "strict",
          "coloraxis": {
           "colorbar": {
            "outlinewidth": 0,
            "ticks": ""
           }
          },
          "colorscale": {
           "diverging": [
            [
             0,
             "#8e0152"
            ],
            [
             0.1,
             "#c51b7d"
            ],
            [
             0.2,
             "#de77ae"
            ],
            [
             0.3,
             "#f1b6da"
            ],
            [
             0.4,
             "#fde0ef"
            ],
            [
             0.5,
             "#f7f7f7"
            ],
            [
             0.6,
             "#e6f5d0"
            ],
            [
             0.7,
             "#b8e186"
            ],
            [
             0.8,
             "#7fbc41"
            ],
            [
             0.9,
             "#4d9221"
            ],
            [
             1,
             "#276419"
            ]
           ],
           "sequential": [
            [
             0,
             "#0d0887"
            ],
            [
             0.1111111111111111,
             "#46039f"
            ],
            [
             0.2222222222222222,
             "#7201a8"
            ],
            [
             0.3333333333333333,
             "#9c179e"
            ],
            [
             0.4444444444444444,
             "#bd3786"
            ],
            [
             0.5555555555555556,
             "#d8576b"
            ],
            [
             0.6666666666666666,
             "#ed7953"
            ],
            [
             0.7777777777777778,
             "#fb9f3a"
            ],
            [
             0.8888888888888888,
             "#fdca26"
            ],
            [
             1,
             "#f0f921"
            ]
           ],
           "sequentialminus": [
            [
             0,
             "#0d0887"
            ],
            [
             0.1111111111111111,
             "#46039f"
            ],
            [
             0.2222222222222222,
             "#7201a8"
            ],
            [
             0.3333333333333333,
             "#9c179e"
            ],
            [
             0.4444444444444444,
             "#bd3786"
            ],
            [
             0.5555555555555556,
             "#d8576b"
            ],
            [
             0.6666666666666666,
             "#ed7953"
            ],
            [
             0.7777777777777778,
             "#fb9f3a"
            ],
            [
             0.8888888888888888,
             "#fdca26"
            ],
            [
             1,
             "#f0f921"
            ]
           ]
          },
          "colorway": [
           "#636efa",
           "#EF553B",
           "#00cc96",
           "#ab63fa",
           "#FFA15A",
           "#19d3f3",
           "#FF6692",
           "#B6E880",
           "#FF97FF",
           "#FECB52"
          ],
          "font": {
           "color": "#2a3f5f"
          },
          "geo": {
           "bgcolor": "white",
           "lakecolor": "white",
           "landcolor": "#E5ECF6",
           "showlakes": true,
           "showland": true,
           "subunitcolor": "white"
          },
          "hoverlabel": {
           "align": "left"
          },
          "hovermode": "closest",
          "mapbox": {
           "style": "light"
          },
          "paper_bgcolor": "white",
          "plot_bgcolor": "#E5ECF6",
          "polar": {
           "angularaxis": {
            "gridcolor": "white",
            "linecolor": "white",
            "ticks": ""
           },
           "bgcolor": "#E5ECF6",
           "radialaxis": {
            "gridcolor": "white",
            "linecolor": "white",
            "ticks": ""
           }
          },
          "scene": {
           "xaxis": {
            "backgroundcolor": "#E5ECF6",
            "gridcolor": "white",
            "gridwidth": 2,
            "linecolor": "white",
            "showbackground": true,
            "ticks": "",
            "zerolinecolor": "white"
           },
           "yaxis": {
            "backgroundcolor": "#E5ECF6",
            "gridcolor": "white",
            "gridwidth": 2,
            "linecolor": "white",
            "showbackground": true,
            "ticks": "",
            "zerolinecolor": "white"
           },
           "zaxis": {
            "backgroundcolor": "#E5ECF6",
            "gridcolor": "white",
            "gridwidth": 2,
            "linecolor": "white",
            "showbackground": true,
            "ticks": "",
            "zerolinecolor": "white"
           }
          },
          "shapedefaults": {
           "line": {
            "color": "#2a3f5f"
           }
          },
          "ternary": {
           "aaxis": {
            "gridcolor": "white",
            "linecolor": "white",
            "ticks": ""
           },
           "baxis": {
            "gridcolor": "white",
            "linecolor": "white",
            "ticks": ""
           },
           "bgcolor": "#E5ECF6",
           "caxis": {
            "gridcolor": "white",
            "linecolor": "white",
            "ticks": ""
           }
          },
          "title": {
           "x": 0.05
          },
          "xaxis": {
           "automargin": true,
           "gridcolor": "white",
           "linecolor": "white",
           "ticks": "",
           "title": {
            "standoff": 15
           },
           "zerolinecolor": "white",
           "zerolinewidth": 2
          },
          "yaxis": {
           "automargin": true,
           "gridcolor": "white",
           "linecolor": "white",
           "ticks": "",
           "title": {
            "standoff": 15
           },
           "zerolinecolor": "white",
           "zerolinewidth": 2
          }
         }
        },
        "title": {
         "font": {
          "color": "#4D5663"
         }
        },
        "width": 1200,
        "xaxis": {
         "anchor": "y2",
         "autorange": false,
         "gridcolor": "#E1E5ED",
         "range": [
          "2021-11-20 12:00",
          "2022-01-19 12:00"
         ],
         "rangeslider": {
          "autorange": true,
          "range": [
           "2021-11-20 12:00",
           "2022-01-19 12:00"
          ],
          "yaxis2": {
           "_template": null,
           "rangemode": "match"
          },
          "yaxis3": {
           "_template": null,
           "rangemode": "match"
          },
          "yaxis4": {
           "_template": null,
           "rangemode": "match"
          }
         },
         "showgrid": true,
         "tickfont": {
          "color": "#4D5663"
         },
         "title": {
          "font": {
           "color": "#4D5663"
          },
          "text": ""
         },
         "type": "date",
         "zerolinecolor": "#E1E5ED"
        },
        "yaxis2": {
         "autorange": true,
         "domain": [
          0.46,
          0.9
         ],
         "gridcolor": "#E1E5ED",
         "range": [
          14.882053265610413,
          45.56898795340216
         ],
         "showgrid": true,
         "tickfont": {
          "color": "#4D5663"
         },
         "title": {
          "font": {
           "color": "#4D5663"
          },
          "text": ""
         },
         "type": "linear",
         "zerolinecolor": "#E1E5ED"
        },
        "yaxis3": {
         "autorange": true,
         "domain": [
          0.23,
          0.38
         ],
         "gridcolor": "#E1E5ED",
         "range": [
          20.48094174444065,
          72.6062662239768
         ],
         "showgrid": true,
         "tickfont": {
          "color": "#4D5663"
         },
         "title": {
          "font": {
           "color": "#4D5663"
          },
          "text": ""
         },
         "type": "linear",
         "zerolinecolor": "#E1E5ED"
        },
        "yaxis4": {
         "autorange": true,
         "domain": [
          0,
          0.15
         ],
         "gridcolor": "#E1E5ED",
         "range": [
          0,
          3131871.769332958
         ],
         "showgrid": true,
         "tickfont": {
          "color": "#4D5663"
         },
         "title": {
          "font": {
           "color": "#4D5663"
          },
          "text": ""
         },
         "type": "linear",
         "zerolinecolor": "#E1E5ED"
        }
       }
      },
      "image/png": "[encoded data removed]",
      "text/html": [
       "<div>                            <div id=\"9a5ea2eb-4a86-4b62-a0b9-268b6016a536\" class=\"plotly-graph-div\" style=\"height:900px; width:1200px;\"></div>            <script type=\"text/javascript\">                require([\"plotly\"], function(Plotly) {                    window.PLOTLYENV=window.PLOTLYENV || {};\n",
       "                    window.PLOTLYENV.BASE_URL='https://plot.ly';                                    if (document.getElementById(\"9a5ea2eb-4a86-4b62-a0b9-268b6016a536\")) {                    Plotly.newPlot(                        \"9a5ea2eb-4a86-4b62-a0b9-268b6016a536\",                        [{\"line\":{\"color\":\"rgba(55, 128, 191, 1.0)\",\"dash\":\"solid\",\"shape\":\"linear\",\"width\":2},\"mode\":\"lines\",\"name\":\" EMA(20)\",\"text\":\"\",\"x\":[\"2021-11-21\",\"2021-11-22\",\"2021-11-23\",\"2021-11-24\",\"2021-11-25\",\"2021-11-26\",\"2021-11-27\",\"2021-11-28\",\"2021-11-29\",\"2021-11-30\",\"2021-12-01\",\"2021-12-02\",\"2021-12-03\",\"2021-12-04\",\"2021-12-05\",\"2021-12-06\",\"2021-12-07\",\"2021-12-08\",\"2021-12-09\",\"2021-12-10\",\"2021-12-11\",\"2021-12-12\",\"2021-12-13\",\"2021-12-14\",\"2021-12-15\",\"2021-12-16\",\"2021-12-17\",\"2021-12-18\",\"2021-12-19\",\"2021-12-20\",\"2021-12-21\",\"2021-12-22\",\"2021-12-23\",\"2021-12-24\",\"2021-12-25\",\"2021-12-26\",\"2021-12-27\",\"2021-12-28\",\"2021-12-29\",\"2021-12-30\",\"2021-12-31\",\"2022-01-01\",\"2022-01-02\",\"2022-01-03\",\"2022-01-04\",\"2022-01-05\",\"2022-01-06\",\"2022-01-07\",\"2022-01-08\",\"2022-01-09\",\"2022-01-10\",\"2022-01-11\",\"2022-01-12\",\"2022-01-13\",\"2022-01-14\",\"2022-01-15\",\"2022-01-16\",\"2022-01-17\",\"2022-01-18\",\"2022-01-19\"],\"y\":[\"\",\"\",\"\",\"\",\"\",\"\",\"\",\"\",\"\",\"\",\"\",\"\",\"\",\"\",\"\",\"\",\"\",\"\",\"\",33.235856263649865,32.71934614330226,32.417189367749664,31.801466570821123,31.26423165931435,30.87063816795108,30.406910723384307,29.856747797347705,29.43991467379078,28.995284704858328,28.52539092344325,28.20387750216294,28.110422501956943,28.209429882722947,28.20223656055886,28.262547364315157,28.55357142485657,28.7828122415369,28.692315837581006,28.512485757811387,28.418944257067448,28.25213051829912,28.28555618322301,28.41964607053511,28.58079406381748,28.590118438692006,28.410783349292767,28.248575411264884,27.928311086382514,27.551138601965132,27.27347778273036,26.93579418437509,26.804909023958416,26.854336735962374,26.75300942777548,26.847618053701623,26.91784490573004,26.991583486136705,26.866718392218925,26.702116640579025,26.426791246238164],\"yaxis\":\"y2\",\"type\":\"scatter\"},{\"line\":{\"color\":\"rgba(219, 64, 82, 1.0)\",\"dash\":\"solid\",\"shape\":\"linear\",\"width\":2},\"mode\":\"lines\",\"name\":\" EMA(30)\",\"text\":\"\",\"x\":[\"2021-11-21\",\"2021-11-22\",\"2021-11-23\",\"2021-11-24\",\"2021-11-25\",\"2021-11-26\",\"2021-11-27\",\"2021-11-28\",\"2021-11-29\",\"2021-11-30\",\"2021-12-01\",\"2021-12-02\",\"2021-12-03\",\"2021-12-04\",\"2021-12-05\",\"2021-12-06\",\"2021-12-07\",\"2021-12-08\",\"2021-12-09\",\"2021-12-10\",\"2021-12-11\",\"2021-12-12\",\"2021-12-13\",\"2021-12-14\",\"2021-12-15\",\"2021-12-16\",\"2021-12-17\",\"2021-12-18\",\"2021-12-19\",\"2021-12-20\",\"2021-12-21\",\"2021-12-22\",\"2021-12-23\",\"2021-12-24\",\"2021-12-25\",\"2021-12-26\",\"2021-12-27\",\"2021-12-28\",\"2021-12-29\",\"2021-12-30\",\"2021-12-31\",\"2022-01-01\",\"2022-01-02\",\"2022-01-03\",\"2022-01-04\",\"2022-01-05\",\"2022-01-06\",\"2022-01-07\",\"2022-01-08\",\"2022-01-09\",\"2022-01-10\",\"2022-01-11\",\"2022-01-12\",\"2022-01-13\",\"2022-01-14\",\"2022-01-15\",\"2022-01-16\",\"2022-01-17\",\"2022-01-18\",\"2022-01-19\"],\"y\":[\"\",\"\",\"\",\"\",\"\",\"\",\"\",\"\",\"\",\"\",\"\",\"\",\"\",\"\",\"\",\"\",\"\",\"\",\"\",\"\",\"\",\"\",\"\",\"\",\"\",\"\",\"\",\"\",\"\",30.619466032882933,30.26656499850339,30.07018015989027,30.010813697961865,29.889722491641745,29.82170813734228,29.918262451062137,29.985510034864582,29.846612613260415,29.650321476921036,29.513545897764843,29.329923581780015,29.28303173779421,29.309513561162326,29.361267524958308,29.31723091044487,29.148835367835524,28.991336311846137,28.72646300140445,28.419465388410615,28.175351492384127,27.888412686423862,27.738289287299743,27.71155449457073,27.587609043308106,27.5978536211592,27.597024355277963,27.603158267840676,27.47911579894773,27.328101876434975,27.101204981181105],\"yaxis\":\"y2\",\"type\":\"scatter\"},{\"legendgroup\":\"RSI(Close,14)\",\"line\":{\"color\":\"rgba(0, 128, 0, 1.0)\",\"dash\":\"solid\",\"shape\":\"linear\",\"width\":1.3},\"mode\":\"lines\",\"name\":\"RSI(Close,14)\",\"showlegend\":true,\"text\":\"\",\"x\":[\"2021-11-21\",\"2021-11-22\",\"2021-11-23\",\"2021-11-24\",\"2021-11-25\",\"2021-11-26\",\"2021-11-27\",\"2021-11-28\",\"2021-11-29\",\"2021-11-30\",\"2021-12-01\",\"2021-12-02\",\"2021-12-03\",\"2021-12-04\",\"2021-12-05\",\"2021-12-06\",\"2021-12-07\",\"2021-12-08\",\"2021-12-09\",\"2021-12-10\",\"2021-12-11\",\"2021-12-12\",\"2021-12-13\",\"2021-12-14\",\"2021-12-15\",\"2021-12-16\",\"2021-12-17\",\"2021-12-18\",\"2021-12-19\",\"2021-12-20\",\"2021-12-21\",\"2021-12-22\",\"2021-12-23\",\"2021-12-24\",\"2021-12-25\",\"2021-12-26\",\"2021-12-27\",\"2021-12-28\",\"2021-12-29\",\"2021-12-30\",\"2021-12-31\",\"2022-01-01\",\"2022-01-02\",\"2022-01-03\",\"2022-01-04\",\"2022-01-05\",\"2022-01-06\",\"2022-01-07\",\"2022-01-08\",\"2022-01-09\",\"2022-01-10\",\"2022-01-11\",\"2022-01-12\",\"2022-01-13\",\"2022-01-14\",\"2022-01-15\",\"2022-01-16\",\"2022-01-17\",\"2022-01-18\",\"2022-01-19\"],\"y\":[\"\",\"\",\"\",\"\",\"\",\"\",\"\",\"\",\"\",\"\",\"\",\"\",\"\",24.140198783146033,23.08720796841746,25.387462863158078,28.620889112676707,30.97856930519147,23.893886619724213,29.229613810650235,31.985191222755248,35.55784028210688,26.563091920833102,24.543390350972032,28.987416308638473,28.84574484246346,29.67775931979351,39.62047731056902,40.4631703959621,39.28820399926619,35.00238489380209,43.21354846425434,56.06814858626184,54.548796666790984,52.828435872197836,54.703496028206104,66.05710475188991,54.51540601117982,49.11861304043504,54.207119741100314,55.76757564776228,58.3297326996218,62.86620940590954,66.05987248297207,59.19944113108396,48.64911609477938,42.88062868735863,40.95685147754038,36.609427183344245,29.576405867970664,28.614090903714924,42.72824492984714,51.58962189139928,44.92950440342482,52.95613198759465,46.91033570245024,43.540787214541126,37.03265831675055,39.0698421127378,40.68884358903457],\"yaxis\":\"y3\",\"type\":\"scatter\"},{\"legendgroup\":\"RSI(Close,14)\",\"line\":{\"color\":\"grey\",\"width\":1},\"mode\":\"lines\",\"name\":\"\",\"showlegend\":true,\"text\":\"\",\"x\":[\"2021-11-21\",\"2021-11-22\",\"2021-11-23\",\"2021-11-24\",\"2021-11-25\",\"2021-11-26\",\"2021-11-27\",\"2021-11-28\",\"2021-11-29\",\"2021-11-30\",\"2021-12-01\",\"2021-12-02\",\"2021-12-03\",\"2021-12-04\",\"2021-12-05\",\"2021-12-06\",\"2021-12-07\",\"2021-12-08\",\"2021-12-09\",\"2021-12-10\",\"2021-12-11\",\"2021-12-12\",\"2021-12-13\",\"2021-12-14\",\"2021-12-15\",\"2021-12-16\",\"2021-12-17\",\"2021-12-18\",\"2021-12-19\",\"2021-12-20\",\"2021-12-21\",\"2021-12-22\",\"2021-12-23\",\"2021-12-24\",\"2021-12-25\",\"2021-12-26\",\"2021-12-27\",\"2021-12-28\",\"2021-12-29\",\"2021-12-30\",\"2021-12-31\",\"2022-01-01\",\"2022-01-02\",\"2022-01-03\",\"2022-01-04\",\"2022-01-05\",\"2022-01-06\",\"2022-01-07\",\"2022-01-08\",\"2022-01-09\",\"2022-01-10\",\"2022-01-11\",\"2022-01-12\",\"2022-01-13\",\"2022-01-14\",\"2022-01-15\",\"2022-01-16\",\"2022-01-17\",\"2022-01-18\",\"2022-01-19\"],\"y\":[30,30,30,30,30,30,30,30,30,30,30,30,30,30,30,30,30,30,30,30,30,30,30,30,30,30,30,30,30,30,30,30,30,30,30,30,30,30,30,30,30,30,30,30,30,30,30,30,30,30,30,30,30,30,30,30,30,30,30,30],\"yaxis\":\"y3\",\"type\":\"scatter\"},{\"legendgroup\":\"RSI(Close,14)\",\"line\":{\"color\":\"#17BECF\",\"width\":1},\"mode\":\"lines\",\"name\":\"\",\"showlegend\":true,\"text\":\"\",\"x\":[\"2021-11-21\",\"2021-11-22\",\"2021-11-23\",\"2021-11-24\",\"2021-11-25\",\"2021-11-26\",\"2021-11-27\",\"2021-11-28\",\"2021-11-29\",\"2021-11-30\",\"2021-12-01\",\"2021-12-02\",\"2021-12-03\",\"2021-12-04\",\"2021-12-05\",\"2021-12-06\",\"2021-12-07\",\"2021-12-08\",\"2021-12-09\",\"2021-12-10\",\"2021-12-11\",\"2021-12-12\",\"2021-12-13\",\"2021-12-14\",\"2021-12-15\",\"2021-12-16\",\"2021-12-17\",\"2021-12-18\",\"2021-12-19\",\"2021-12-20\",\"2021-12-21\",\"2021-12-22\",\"2021-12-23\",\"2021-12-24\",\"2021-12-25\",\"2021-12-26\",\"2021-12-27\",\"2021-12-28\",\"2021-12-29\",\"2021-12-30\",\"2021-12-31\",\"2022-01-01\",\"2022-01-02\",\"2022-01-03\",\"2022-01-04\",\"2022-01-05\",\"2022-01-06\",\"2022-01-07\",\"2022-01-08\",\"2022-01-09\",\"2022-01-10\",\"2022-01-11\",\"2022-01-12\",\"2022-01-13\",\"2022-01-14\",\"2022-01-15\",\"2022-01-16\",\"2022-01-17\",\"2022-01-18\",\"2022-01-19\"],\"y\":[70,70,70,70,70,70,70,70,70,70,70,70,70,70,70,70,70,70,70,70,70,70,70,70,70,70,70,70,70,70,70,70,70,70,70,70,70,70,70,70,70,70,70,70,70,70,70,70,70,70,70,70,70,70,70,70,70,70,70,70],\"yaxis\":\"y3\",\"type\":\"scatter\"},{\"legendgroup\":\"BOLL(Close,20)\",\"line\":{\"color\":\"rgba(255, 153, 51, 1.0)\",\"dash\":\"solid\",\"shape\":\"linear\",\"width\":1.3},\"mode\":\"lines\",\"name\":\"BOLL(Close,20)\",\"showlegend\":true,\"text\":\"\",\"x\":[\"2021-11-21\",\"2021-11-22\",\"2021-11-23\",\"2021-11-24\",\"2021-11-25\",\"2021-11-26\",\"2021-11-27\",\"2021-11-28\",\"2021-11-29\",\"2021-11-30\",\"2021-12-01\",\"2021-12-02\",\"2021-12-03\",\"2021-12-04\",\"2021-12-05\",\"2021-12-06\",\"2021-12-07\",\"2021-12-08\",\"2021-12-09\",\"2021-12-10\",\"2021-12-11\",\"2021-12-12\",\"2021-12-13\",\"2021-12-14\",\"2021-12-15\",\"2021-12-16\",\"2021-12-17\",\"2021-12-18\",\"2021-12-19\",\"2021-12-20\",\"2021-12-21\",\"2021-12-22\",\"2021-12-23\",\"2021-12-24\",\"2021-12-25\",\"2021-12-26\",\"2021-12-27\",\"2021-12-28\",\"2021-12-29\",\"2021-12-30\",\"2021-12-31\",\"2022-01-01\",\"2022-01-02\",\"2022-01-03\",\"2022-01-04\",\"2022-01-05\",\"2022-01-06\",\"2022-01-07\",\"2022-01-08\",\"2022-01-09\",\"2022-01-10\",\"2022-01-11\",\"2022-01-12\",\"2022-01-13\",\"2022-01-14\",\"2022-01-15\",\"2022-01-16\",\"2022-01-17\",\"2022-01-18\",\"2022-01-19\"],\"y\":[\"\",\"\",\"\",\"\",\"\",\"\",\"\",\"\",\"\",\"\",\"\",\"\",\"\",\"\",\"\",\"\",\"\",\"\",\"\",34.30705,33.602095,33.10617,32.36528,31.75935,31.14414,30.71635,30.19034,29.676565,29.060725,28.367175000000003,27.786330000000003,27.36001,27.130919999999996,27.06725,27.093795,27.252275000000004,27.275565,27.175549999999998,27.169059999999995,27.224255,27.167,27.119820000000004,27.30689,27.50445,27.58181,27.617089999999997,27.72096,27.691250000000004,27.651085000000002,27.6798,27.608714999999997,27.52566,27.434355,27.31718,27.262725,27.076059999999995,26.912635,26.80503,26.721745,26.53579],\"yaxis\":\"y2\",\"type\":\"scatter\"},{\"legendgroup\":\"BOLL(Close,20)\",\"line\":{\"color\":\"rgba(128, 128, 128, 1.0)\",\"dash\":\"solid\",\"shape\":\"linear\",\"width\":1.3},\"mode\":\"lines\",\"name\":\"UPPER(Close,20)\",\"showlegend\":false,\"text\":\"\",\"x\":[\"2021-11-21\",\"2021-11-22\",\"2021-11-23\",\"2021-11-24\",\"2021-11-25\",\"2021-11-26\",\"2021-11-27\",\"2021-11-28\",\"2021-11-29\",\"2021-11-30\",\"2021-12-01\",\"2021-12-02\",\"2021-12-03\",\"2021-12-04\",\"2021-12-05\",\"2021-12-06\",\"2021-12-07\",\"2021-12-08\",\"2021-12-09\",\"2021-12-10\",\"2021-12-11\",\"2021-12-12\",\"2021-12-13\",\"2021-12-14\",\"2021-12-15\",\"2021-12-16\",\"2021-12-17\",\"2021-12-18\",\"2021-12-19\",\"2021-12-20\",\"2021-12-21\",\"2021-12-22\",\"2021-12-23\",\"2021-12-24\",\"2021-12-25\",\"2021-12-26\",\"2021-12-27\",\"2021-12-28\",\"2021-12-29\",\"2021-12-30\",\"2021-12-31\",\"2022-01-01\",\"2022-01-02\",\"2022-01-03\",\"2022-01-04\",\"2022-01-05\",\"2022-01-06\",\"2022-01-07\",\"2022-01-08\",\"2022-01-09\",\"2022-01-10\",\"2022-01-11\",\"2022-01-12\",\"2022-01-13\",\"2022-01-14\",\"2022-01-15\",\"2022-01-16\",\"2022-01-17\",\"2022-01-18\",\"2022-01-19\"],\"y\":[\"\",\"\",\"\",\"\",\"\",\"\",\"\",\"\",\"\",\"\",\"\",\"\",\"\",\"\",\"\",\"\",\"\",\"\",\"\",44.03464121901257,43.048725308149145,42.29467324105876,41.33898910009081,40.68817282416126,39.524686336769264,39.23563332283513,38.85476316369525,38.16841978078847,37.06172078325624,35.48634238682122,33.835269339160384,32.107965172004924,30.932147885606916,30.748706217313998,30.820198648771672,31.411986514731446,31.516147306228074,31.253406056673313,31.24894804201393,31.29168872525826,31.231805915739578,31.08910910384399,31.39532866731799,31.73889449920435,31.844007382324595,31.835667842628443,31.726818235608114,31.775142693832287,31.869480075343716,31.8020321005162,31.95747434989084,31.96791296675363,31.81061028095713,31.739819699307937,31.633161599110203,31.01473991425391,30.42032271116422,30.325904337045134,30.320650340282743,30.337409989813185],\"yaxis\":\"y2\",\"type\":\"scatter\"},{\"fill\":\"tonexty\",\"fillcolor\":\"rgba(128, 128, 128, 0.1)\",\"legendgroup\":\"BOLL(Close,20)\",\"line\":{\"color\":\"rgba(128, 128, 128, 0.8999999999999999)\",\"dash\":\"solid\",\"shape\":\"linear\",\"width\":1.3},\"mode\":\"lines\",\"name\":\"LOWER(Close,20)\",\"showlegend\":false,\"text\":\"\",\"x\":[\"2021-11-21\",\"2021-11-22\",\"2021-11-23\",\"2021-11-24\",\"2021-11-25\",\"2021-11-26\",\"2021-11-27\",\"2021-11-28\",\"2021-11-29\",\"2021-11-30\",\"2021-12-01\",\"2021-12-02\",\"2021-12-03\",\"2021-12-04\",\"2021-12-05\",\"2021-12-06\",\"2021-12-07\",\"2021-12-08\",\"2021-12-09\",\"2021-12-10\",\"2021-12-11\",\"2021-12-12\",\"2021-12-13\",\"2021-12-14\",\"2021-12-15\",\"2021-12-16\",\"2021-12-17\",\"2021-12-18\",\"2021-12-19\",\"2021-12-20\",\"2021-12-21\",\"2021-12-22\",\"2021-12-23\",\"2021-12-24\",\"2021-12-25\",\"2021-12-26\",\"2021-12-27\",\"2021-12-28\",\"2021-12-29\",\"2021-12-30\",\"2021-12-31\",\"2022-01-01\",\"2022-01-02\",\"2022-01-03\",\"2022-01-04\",\"2022-01-05\",\"2022-01-06\",\"2022-01-07\",\"2022-01-08\",\"2022-01-09\",\"2022-01-10\",\"2022-01-11\",\"2022-01-12\",\"2022-01-13\",\"2022-01-14\",\"2022-01-15\",\"2022-01-16\",\"2022-01-17\",\"2022-01-18\",\"2022-01-19\"],\"y\":[\"\",\"\",\"\",\"\",\"\",\"\",\"\",\"\",\"\",\"\",\"\",\"\",\"\",\"\",\"\",\"\",\"\",\"\",\"\",24.579458780987423,24.155464691850852,23.91766675894124,23.39157089990919,22.83052717583874,22.763593663230736,22.19706667716487,21.525916836304745,21.18471021921153,21.05972921674376,21.248007613178785,21.737390660839623,22.612054827995074,23.329692114393076,23.385793782686005,23.367391351228328,23.092563485268563,23.034982693771926,23.097693943326682,23.08917195798606,23.156821274741738,23.102194084260425,23.150530896156017,23.218451332682008,23.270005500795648,23.319612617675407,23.398512157371552,23.71510176439189,23.60735730616772,23.432689924656287,23.5575678994838,23.259955650109152,23.083407033246367,23.058099719042872,22.894540300692064,22.892288400889797,23.13738008574608,23.404947288835782,23.284155662954863,23.122839659717254,22.734170010186812],\"yaxis\":\"y2\",\"type\":\"scatter\"},{\"marker\":{\"color\":[\"#808080\",\"#808080\",\"#17BECF\",\"#808080\",\"#17BECF\",\"#808080\",\"#17BECF\",\"#17BECF\",\"#17BECF\",\"#17BECF\",\"#808080\",\"#808080\",\"#808080\",\"#808080\",\"#808080\",\"#808080\",\"#17BECF\",\"#808080\",\"#808080\",\"#808080\",\"#17BECF\",\"#17BECF\",\"#808080\",\"#17BECF\",\"#17BECF\",\"#808080\",\"#808080\",\"#17BECF\",\"#808080\",\"#808080\",\"#17BECF\",\"#17BECF\",\"#17BECF\",\"#808080\",\"#17BECF\",\"#17BECF\",\"#808080\",\"#808080\",\"#808080\",\"#17BECF\",\"#808080\",\"#17BECF\",\"#17BECF\",\"#17BECF\",\"#808080\",\"#808080\",\"#17BECF\",\"#808080\",\"#808080\",\"#17BECF\",\"#808080\",\"#17BECF\",\"#17BECF\",\"#808080\",\"#17BECF\",\"#808080\",\"#17BECF\",\"#808080\",\"#808080\",\"#808080\"],\"line\":{\"color\":[\"#808080\",\"#808080\",\"#17BECF\",\"#808080\",\"#17BECF\",\"#808080\",\"#17BECF\",\"#17BECF\",\"#17BECF\",\"#17BECF\",\"#808080\",\"#808080\",\"#808080\",\"#808080\",\"#808080\",\"#808080\",\"#17BECF\",\"#808080\",\"#808080\",\"#808080\",\"#17BECF\",\"#17BECF\",\"#808080\",\"#17BECF\",\"#17BECF\",\"#808080\",\"#808080\",\"#17BECF\",\"#808080\",\"#808080\",\"#17BECF\",\"#17BECF\",\"#17BECF\",\"#808080\",\"#17BECF\",\"#17BECF\",\"#808080\",\"#808080\",\"#808080\",\"#17BECF\",\"#808080\",\"#17BECF\",\"#17BECF\",\"#17BECF\",\"#808080\",\"#808080\",\"#17BECF\",\"#808080\",\"#808080\",\"#17BECF\",\"#808080\",\"#17BECF\",\"#17BECF\",\"#808080\",\"#17BECF\",\"#808080\",\"#17BECF\",\"#808080\",\"#808080\",\"#808080\"],\"width\":1}},\"name\":\"Volume\",\"opacity\":0.8,\"orientation\":\"v\",\"text\":\"\",\"x\":[\"2021-11-21\",\"2021-11-22\",\"2021-11-23\",\"2021-11-24\",\"2021-11-25\",\"2021-11-26\",\"2021-11-27\",\"2021-11-28\",\"2021-11-29\",\"2021-11-30\",\"2021-12-01\",\"2021-12-02\",\"2021-12-03\",\"2021-12-04\",\"2021-12-05\",\"2021-12-06\",\"2021-12-07\",\"2021-12-08\",\"2021-12-09\",\"2021-12-10\",\"2021-12-11\",\"2021-12-12\",\"2021-12-13\",\"2021-12-14\",\"2021-12-15\",\"2021-12-16\",\"2021-12-17\",\"2021-12-18\",\"2021-12-19\",\"2021-12-20\",\"2021-12-21\",\"2021-12-22\",\"2021-12-23\",\"2021-12-24\",\"2021-12-25\",\"2021-12-26\",\"2021-12-27\",\"2021-12-28\",\"2021-12-29\",\"2021-12-30\",\"2021-12-31\",\"2022-01-01\",\"2022-01-02\",\"2022-01-03\",\"2022-01-04\",\"2022-01-05\",\"2022-01-06\",\"2022-01-07\",\"2022-01-08\",\"2022-01-09\",\"2022-01-10\",\"2022-01-11\",\"2022-01-12\",\"2022-01-13\",\"2022-01-14\",\"2022-01-15\",\"2022-01-16\",\"2022-01-17\",\"2022-01-18\",\"2022-01-19\"],\"y\":[1041336.93158011,1077981.50065143,1024447.52615626,1060348.38477167,1103185.50278963,1909280.56650514,919693.85343171,1149317.39290637,1249893.62737575,1408239.67215347,944028.8304318,893445.76669896,1330814.87131702,2214663.73201735,1164285.59670818,1737063.62798126,1613115.22539499,1332398.81589576,1272686.04029196,1372477.61120463,1673299.08040924,1405044.63928102,1830634.69095611,1428625.4021482,1637168.28193684,1475549.28950738,1352467.37567186,896375.24730352,758666.99142036,1094531.02204312,1205666.74637724,1727032.39443665,1595814.94156497,1146770.17196014,640838.4421492,1474149.02353385,1491887.79797705,1970222.3482931,1873795.06335919,1583251.82333919,1791025.14489745,1388410.13862959,1907282.48188542,2325362.28367676,1896121.82945279,2457397.89984436,2278613.88252905,2975278.18086631,1938132.35497831,1574477.49810011,2265740.01646277,2053795.60235836,1860685.0757268,1768042.00388191,1667325.35657246,1469281.5132616,1334241.79563483,1496553.82678405,1486541.90271818,475257.13448547],\"yaxis\":\"y4\",\"type\":\"bar\"},{\"close\":[41.9116,39.4652,40.7699,38.2791,39.4357,34.5573,35.1504,35.7555,37.0881,37.9324,36.7664,35.749,33.7318,29.4073,28.3046,28.1487,30.4948,29.8329,26.9339,26.4264,27.8125,29.5467,25.9521,26.1605,27.1315,26.0015,24.6302,25.48,24.7713,24.0614,25.1495,27.2226,29.15,28.1339,28.8355,31.3183,30.9606,27.8326,26.8041,27.5303,26.6674,28.6031,29.6935,30.1117,28.6787,26.7071,26.7076,24.8858,23.968,24.6357,23.7278,25.5615,27.3239,25.7904,27.7464,27.585,27.6921,25.6805,25.1384,23.8112],\"decreasing\":{\"line\":{\"color\":\"#808080\"}},\"high\":[43.5733,42.1692,41.4783,40.9071,40.9272,39.6256,35.9388,35.85,37.5266,39.3779,38.7855,36.7952,36.8484,33.8433,29.75,28.95,31.4935,30.6122,30.13,28.4222,28.2243,30.014,29.8415,26.6989,28.0353,27.8559,26.2103,25.7263,25.861,25.0023,25.5897,28.2323,29.7935,29.6762,29.1133,31.7312,32.7738,30.9625,28.959,28.4132,28.1398,28.6525,30.6179,30.8775,30.5804,30.3724,27.4578,26.8592,25.5338,25.3198,25.2156,26.0182,27.5758,27.8,27.8912,28.4129,28.4643,27.7575,26.0946,25.3096],\"increasing\":{\"line\":{\"color\":\"#17BECF\"}},\"low\":[40.6563,38.8172,38.536,38.05,38.0439,33.15,34.43,32.2036,35.3837,35.3425,36.2069,34.9369,32.1001,16.4164,26.3317,24.8314,27.7097,27.9126,26.7915,25.6881,25.8103,27.3059,25.525,25.0,24.28,25.712,24.1201,24.2204,24.645,23.2722,23.7378,24.9687,26.7149,27.7853,27.9433,28.2618,30.8,27.4407,26.468,26.1563,26.2299,26.6509,27.8,28.6041,28.6569,25.0,25.5113,24.2504,23.1336,23.6763,22.397,23.4958,25.4516,25.707,25.5274,26.8257,27.2739,25.1054,24.2367,23.7665],\"name\":\"DOT-USD\",\"open\":[42.0898,41.9623,39.4781,40.7553,38.2776,39.4814,34.5546,35.1373,35.7615,37.1134,37.9768,36.7664,35.7425,33.7028,29.3922,28.3167,28.1487,30.4828,29.8461,26.9033,26.4389,27.8113,29.5372,25.9701,26.1503,27.1385,26.0236,24.6407,25.492,24.7723,24.0629,25.1495,27.232,29.1578,28.1342,28.8453,31.3359,30.9607,27.8411,26.7973,27.5309,26.6509,28.6175,29.6864,30.1117,28.6786,26.7059,26.7073,24.8947,23.9679,24.6177,23.7264,25.5565,27.3239,25.7844,27.7464,27.597,27.6949,25.6923,25.1384],\"showlegend\":true,\"x\":[\"2021-11-21\",\"2021-11-22\",\"2021-11-23\",\"2021-11-24\",\"2021-11-25\",\"2021-11-26\",\"2021-11-27\",\"2021-11-28\",\"2021-11-29\",\"2021-11-30\",\"2021-12-01\",\"2021-12-02\",\"2021-12-03\",\"2021-12-04\",\"2021-12-05\",\"2021-12-06\",\"2021-12-07\",\"2021-12-08\",\"2021-12-09\",\"2021-12-10\",\"2021-12-11\",\"2021-12-12\",\"2021-12-13\",\"2021-12-14\",\"2021-12-15\",\"2021-12-16\",\"2021-12-17\",\"2021-12-18\",\"2021-12-19\",\"2021-12-20\",\"2021-12-21\",\"2021-12-22\",\"2021-12-23\",\"2021-12-24\",\"2021-12-25\",\"2021-12-26\",\"2021-12-27\",\"2021-12-28\",\"2021-12-29\",\"2021-12-30\",\"2021-12-31\",\"2022-01-01\",\"2022-01-02\",\"2022-01-03\",\"2022-01-04\",\"2022-01-05\",\"2022-01-06\",\"2022-01-07\",\"2022-01-08\",\"2022-01-09\",\"2022-01-10\",\"2022-01-11\",\"2022-01-12\",\"2022-01-13\",\"2022-01-14\",\"2022-01-15\",\"2022-01-16\",\"2022-01-17\",\"2022-01-18\",\"2022-01-19\"],\"yaxis\":\"y2\",\"type\":\"candlestick\"}],                        {\"height\":900,\"legend\":{\"bgcolor\":\"#F5F6F9\",\"font\":{\"color\":\"#4D5663\"}},\"paper_bgcolor\":\"#F5F6F9\",\"plot_bgcolor\":\"#F5F6F9\",\"template\":{\"data\":{\"barpolar\":[{\"marker\":{\"line\":{\"color\":\"#E5ECF6\",\"width\":0.5},\"pattern\":{\"fillmode\":\"overlay\",\"size\":10,\"solidity\":0.2}},\"type\":\"barpolar\"}],\"bar\":[{\"error_x\":{\"color\":\"#2a3f5f\"},\"error_y\":{\"color\":\"#2a3f5f\"},\"marker\":{\"line\":{\"color\":\"#E5ECF6\",\"width\":0.5},\"pattern\":{\"fillmode\":\"overlay\",\"size\":10,\"solidity\":0.2}},\"type\":\"bar\"}],\"carpet\":[{\"aaxis\":{\"endlinecolor\":\"#2a3f5f\",\"gridcolor\":\"white\",\"linecolor\":\"white\",\"minorgridcolor\":\"white\",\"startlinecolor\":\"#2a3f5f\"},\"baxis\":{\"endlinecolor\":\"#2a3f5f\",\"gridcolor\":\"white\",\"linecolor\":\"white\",\"minorgridcolor\":\"white\",\"startlinecolor\":\"#2a3f5f\"},\"type\":\"carpet\"}],\"choropleth\":[{\"colorbar\":{\"outlinewidth\":0,\"ticks\":\"\"},\"type\":\"choropleth\"}],\"contourcarpet\":[{\"colorbar\":{\"outlinewidth\":0,\"ticks\":\"\"},\"type\":\"contourcarpet\"}],\"contour\":[{\"colorbar\":{\"outlinewidth\":0,\"ticks\":\"\"},\"colorscale\":[[0.0,\"#0d0887\"],[0.1111111111111111,\"#46039f\"],[0.2222222222222222,\"#7201a8\"],[0.3333333333333333,\"#9c179e\"],[0.4444444444444444,\"#bd3786\"],[0.5555555555555556,\"#d8576b\"],[0.6666666666666666,\"#ed7953\"],[0.7777777777777778,\"#fb9f3a\"],[0.8888888888888888,\"#fdca26\"],[1.0,\"#f0f921\"]],\"type\":\"contour\"}],\"heatmapgl\":[{\"colorbar\":{\"outlinewidth\":0,\"ticks\":\"\"},\"colorscale\":[[0.0,\"#0d0887\"],[0.1111111111111111,\"#46039f\"],[0.2222222222222222,\"#7201a8\"],[0.3333333333333333,\"#9c179e\"],[0.4444444444444444,\"#bd3786\"],[0.5555555555555556,\"#d8576b\"],[0.6666666666666666,\"#ed7953\"],[0.7777777777777778,\"#fb9f3a\"],[0.8888888888888888,\"#fdca26\"],[1.0,\"#f0f921\"]],\"type\":\"heatmapgl\"}],\"heatmap\":[{\"colorbar\":{\"outlinewidth\":0,\"ticks\":\"\"},\"colorscale\":[[0.0,\"#0d0887\"],[0.1111111111111111,\"#46039f\"],[0.2222222222222222,\"#7201a8\"],[0.3333333333333333,\"#9c179e\"],[0.4444444444444444,\"#bd3786\"],[0.5555555555555556,\"#d8576b\"],[0.6666666666666666,\"#ed7953\"],[0.7777777777777778,\"#fb9f3a\"],[0.8888888888888888,\"#fdca26\"],[1.0,\"#f0f921\"]],\"type\":\"heatmap\"}],\"histogram2dcontour\":[{\"colorbar\":{\"outlinewidth\":0,\"ticks\":\"\"},\"colorscale\":[[0.0,\"#0d0887\"],[0.1111111111111111,\"#46039f\"],[0.2222222222222222,\"#7201a8\"],[0.3333333333333333,\"#9c179e\"],[0.4444444444444444,\"#bd3786\"],[0.5555555555555556,\"#d8576b\"],[0.6666666666666666,\"#ed7953\"],[0.7777777777777778,\"#fb9f3a\"],[0.8888888888888888,\"#fdca26\"],[1.0,\"#f0f921\"]],\"type\":\"histogram2dcontour\"}],\"histogram2d\":[{\"colorbar\":{\"outlinewidth\":0,\"ticks\":\"\"},\"colorscale\":[[0.0,\"#0d0887\"],[0.1111111111111111,\"#46039f\"],[0.2222222222222222,\"#7201a8\"],[0.3333333333333333,\"#9c179e\"],[0.4444444444444444,\"#bd3786\"],[0.5555555555555556,\"#d8576b\"],[0.6666666666666666,\"#ed7953\"],[0.7777777777777778,\"#fb9f3a\"],[0.8888888888888888,\"#fdca26\"],[1.0,\"#f0f921\"]],\"type\":\"histogram2d\"}],\"histogram\":[{\"marker\":{\"pattern\":{\"fillmode\":\"overlay\",\"size\":10,\"solidity\":0.2}},\"type\":\"histogram\"}],\"mesh3d\":[{\"colorbar\":{\"outlinewidth\":0,\"ticks\":\"\"},\"type\":\"mesh3d\"}],\"parcoords\":[{\"line\":{\"colorbar\":{\"outlinewidth\":0,\"ticks\":\"\"}},\"type\":\"parcoords\"}],\"pie\":[{\"automargin\":true,\"type\":\"pie\"}],\"scatter3d\":[{\"line\":{\"colorbar\":{\"outlinewidth\":0,\"ticks\":\"\"}},\"marker\":{\"colorbar\":{\"outlinewidth\":0,\"ticks\":\"\"}},\"type\":\"scatter3d\"}],\"scattercarpet\":[{\"marker\":{\"colorbar\":{\"outlinewidth\":0,\"ticks\":\"\"}},\"type\":\"scattercarpet\"}],\"scattergeo\":[{\"marker\":{\"colorbar\":{\"outlinewidth\":0,\"ticks\":\"\"}},\"type\":\"scattergeo\"}],\"scattergl\":[{\"marker\":{\"colorbar\":{\"outlinewidth\":0,\"ticks\":\"\"}},\"type\":\"scattergl\"}],\"scattermapbox\":[{\"marker\":{\"colorbar\":{\"outlinewidth\":0,\"ticks\":\"\"}},\"type\":\"scattermapbox\"}],\"scatterpolargl\":[{\"marker\":{\"colorbar\":{\"outlinewidth\":0,\"ticks\":\"\"}},\"type\":\"scatterpolargl\"}],\"scatterpolar\":[{\"marker\":{\"colorbar\":{\"outlinewidth\":0,\"ticks\":\"\"}},\"type\":\"scatterpolar\"}],\"scatter\":[{\"marker\":{\"colorbar\":{\"outlinewidth\":0,\"ticks\":\"\"}},\"type\":\"scatter\"}],\"scatterternary\":[{\"marker\":{\"colorbar\":{\"outlinewidth\":0,\"ticks\":\"\"}},\"type\":\"scatterternary\"}],\"surface\":[{\"colorbar\":{\"outlinewidth\":0,\"ticks\":\"\"},\"colorscale\":[[0.0,\"#0d0887\"],[0.1111111111111111,\"#46039f\"],[0.2222222222222222,\"#7201a8\"],[0.3333333333333333,\"#9c179e\"],[0.4444444444444444,\"#bd3786\"],[0.5555555555555556,\"#d8576b\"],[0.6666666666666666,\"#ed7953\"],[0.7777777777777778,\"#fb9f3a\"],[0.8888888888888888,\"#fdca26\"],[1.0,\"#f0f921\"]],\"type\":\"surface\"}],\"table\":[{\"cells\":{\"fill\":{\"color\":\"#EBF0F8\"},\"line\":{\"color\":\"white\"}},\"header\":{\"fill\":{\"color\":\"#C8D4E3\"},\"line\":{\"color\":\"white\"}},\"type\":\"table\"}]},\"layout\":{\"annotationdefaults\":{\"arrowcolor\":\"#2a3f5f\",\"arrowhead\":0,\"arrowwidth\":1},\"autotypenumbers\":\"strict\",\"coloraxis\":{\"colorbar\":{\"outlinewidth\":0,\"ticks\":\"\"}},\"colorscale\":{\"diverging\":[[0,\"#8e0152\"],[0.1,\"#c51b7d\"],[0.2,\"#de77ae\"],[0.3,\"#f1b6da\"],[0.4,\"#fde0ef\"],[0.5,\"#f7f7f7\"],[0.6,\"#e6f5d0\"],[0.7,\"#b8e186\"],[0.8,\"#7fbc41\"],[0.9,\"#4d9221\"],[1,\"#276419\"]],\"sequential\":[[0.0,\"#0d0887\"],[0.1111111111111111,\"#46039f\"],[0.2222222222222222,\"#7201a8\"],[0.3333333333333333,\"#9c179e\"],[0.4444444444444444,\"#bd3786\"],[0.5555555555555556,\"#d8576b\"],[0.6666666666666666,\"#ed7953\"],[0.7777777777777778,\"#fb9f3a\"],[0.8888888888888888,\"#fdca26\"],[1.0,\"#f0f921\"]],\"sequentialminus\":[[0.0,\"#0d0887\"],[0.1111111111111111,\"#46039f\"],[0.2222222222222222,\"#7201a8\"],[0.3333333333333333,\"#9c179e\"],[0.4444444444444444,\"#bd3786\"],[0.5555555555555556,\"#d8576b\"],[0.6666666666666666,\"#ed7953\"],[0.7777777777777778,\"#fb9f3a\"],[0.8888888888888888,\"#fdca26\"],[1.0,\"#f0f921\"]]},\"colorway\":[\"#636efa\",\"#EF553B\",\"#00cc96\",\"#ab63fa\",\"#FFA15A\",\"#19d3f3\",\"#FF6692\",\"#B6E880\",\"#FF97FF\",\"#FECB52\"],\"font\":{\"color\":\"#2a3f5f\"},\"geo\":{\"bgcolor\":\"white\",\"lakecolor\":\"white\",\"landcolor\":\"#E5ECF6\",\"showlakes\":true,\"showland\":true,\"subunitcolor\":\"white\"},\"hoverlabel\":{\"align\":\"left\"},\"hovermode\":\"closest\",\"mapbox\":{\"style\":\"light\"},\"paper_bgcolor\":\"white\",\"plot_bgcolor\":\"#E5ECF6\",\"polar\":{\"angularaxis\":{\"gridcolor\":\"white\",\"linecolor\":\"white\",\"ticks\":\"\"},\"bgcolor\":\"#E5ECF6\",\"radialaxis\":{\"gridcolor\":\"white\",\"linecolor\":\"white\",\"ticks\":\"\"}},\"scene\":{\"xaxis\":{\"backgroundcolor\":\"#E5ECF6\",\"gridcolor\":\"white\",\"gridwidth\":2,\"linecolor\":\"white\",\"showbackground\":true,\"ticks\":\"\",\"zerolinecolor\":\"white\"},\"yaxis\":{\"backgroundcolor\":\"#E5ECF6\",\"gridcolor\":\"white\",\"gridwidth\":2,\"linecolor\":\"white\",\"showbackground\":true,\"ticks\":\"\",\"zerolinecolor\":\"white\"},\"zaxis\":{\"backgroundcolor\":\"#E5ECF6\",\"gridcolor\":\"white\",\"gridwidth\":2,\"linecolor\":\"white\",\"showbackground\":true,\"ticks\":\"\",\"zerolinecolor\":\"white\"}},\"shapedefaults\":{\"line\":{\"color\":\"#2a3f5f\"}},\"ternary\":{\"aaxis\":{\"gridcolor\":\"white\",\"linecolor\":\"white\",\"ticks\":\"\"},\"baxis\":{\"gridcolor\":\"white\",\"linecolor\":\"white\",\"ticks\":\"\"},\"bgcolor\":\"#E5ECF6\",\"caxis\":{\"gridcolor\":\"white\",\"linecolor\":\"white\",\"ticks\":\"\"}},\"title\":{\"x\":0.05},\"xaxis\":{\"automargin\":true,\"gridcolor\":\"white\",\"linecolor\":\"white\",\"ticks\":\"\",\"title\":{\"standoff\":15},\"zerolinecolor\":\"white\",\"zerolinewidth\":2},\"yaxis\":{\"automargin\":true,\"gridcolor\":\"white\",\"linecolor\":\"white\",\"ticks\":\"\",\"title\":{\"standoff\":15},\"zerolinecolor\":\"white\",\"zerolinewidth\":2}}},\"title\":{\"font\":{\"color\":\"#4D5663\"}},\"width\":1200,\"xaxis\":{\"anchor\":\"y2\",\"gridcolor\":\"#E1E5ED\",\"showgrid\":true,\"tickfont\":{\"color\":\"#4D5663\"},\"title\":{\"font\":{\"color\":\"#4D5663\"},\"text\":\"\"},\"zerolinecolor\":\"#E1E5ED\"},\"yaxis2\":{\"domain\":[0.46,0.9],\"gridcolor\":\"#E1E5ED\",\"showgrid\":true,\"tickfont\":{\"color\":\"#4D5663\"},\"title\":{\"font\":{\"color\":\"#4D5663\"},\"text\":\"\"},\"zerolinecolor\":\"#E1E5ED\"},\"yaxis3\":{\"domain\":[0.23,0.38],\"gridcolor\":\"#E1E5ED\",\"showgrid\":true,\"tickfont\":{\"color\":\"#4D5663\"},\"title\":{\"font\":{\"color\":\"#4D5663\"},\"text\":\"\"},\"zerolinecolor\":\"#E1E5ED\"},\"yaxis4\":{\"domain\":[0.0,0.15],\"gridcolor\":\"#E1E5ED\",\"showgrid\":true,\"tickfont\":{\"color\":\"#4D5663\"},\"title\":{\"font\":{\"color\":\"#4D5663\"},\"text\":\"\"},\"zerolinecolor\":\"#E1E5ED\"}},                        {\"showLink\": true, \"linkText\": \"Export to plot.ly\", \"plotlyServerURL\": \"https://plot.ly\", \"responsive\": true}                    ).then(function(){\n",
       "                            \n",
       "var gd = document.getElementById('9a5ea2eb-4a86-4b62-a0b9-268b6016a536');\n",
       "var x = new MutationObserver(function (mutations, observer) {{\n",
       "        var display = window.getComputedStyle(gd).display;\n",
       "        if (!display || display === 'none') {{\n",
       "            console.log([gd, 'removed!']);\n",
       "            Plotly.purge(gd);\n",
       "            observer.disconnect();\n",
       "        }}\n",
       "}});\n",
       "\n",
       "// Listen for the removal of the full notebook cells\n",
       "var notebookContainer = gd.closest('#notebook-container');\n",
       "if (notebookContainer) {{\n",
       "    x.observe(notebookContainer, {childList: true});\n",
       "}}\n",
       "\n",
       "// Listen for the clearing of the current output cell\n",
       "var outputEl = gd.closest('.output');\n",
       "if (outputEl) {{\n",
       "    x.observe(outputEl, {childList: true});\n",
       "}}\n",
       "\n",
       "                        })                };                });            </script>        </div>"
      ]
     },
     "metadata": {},
     "output_type": "display_data"
    }
   ],
   "source": [
    "layout1 = cf.Layout(\n",
    "    height=900,\n",
    "    width=1200\n",
    ")\n",
    "\n",
    "qf = cf.QuantFig(df, title=\"DOT stock price\", name='DOT-USD')\n",
    "qf.add_ema([20, 30], width=2, color=['blue', 'red'])\n",
    "qf.add_rsi(periods=14, color='green')\n",
    "qf.add_bollinger_bands(periods=20, boll_std=2 ,colors=['orange','grey'], fill=True)\n",
    "qf.add_volume()\n",
    "#qf.add_macd()\n",
    "qf.iplot(layout=layout1)\n"
   ]
  },
  {
   "cell_type": "code",
   "execution_count": null,
   "id": "7cd1fb94-561d-44ee-b86a-0522559d8836",
   "metadata": {},
   "outputs": [],
   "source": []
  }
 ],
 "metadata": {
  "kernelspec": {
   "display_name": "Python 3",
   "language": "python",
   "name": "python3"
  },
  "language_info": {
   "codemirror_mode": {
    "name": "ipython",
    "version": 3
   },
   "file_extension": ".py",
   "mimetype": "text/x-python",
   "name": "python",
   "nbconvert_exporter": "python",
   "pygments_lexer": "ipython3",
   "version": "3.9.9"
  }
 },
 "nbformat": 4,
 "nbformat_minor": 5
}
